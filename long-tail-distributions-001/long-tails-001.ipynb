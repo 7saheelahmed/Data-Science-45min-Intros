{
 "cells": [
  {
   "cell_type": "markdown",
   "metadata": {},
   "source": [
    "# Tails in social data\n",
    "Fiona Pigott\n",
    "\n",
    "This is going to be a multi-part tutorial on dealing with long-tail distributions in a social data context. This first tutorial will define some vocabulary, look a few different distributions, glance at some empirical data, and introduce a nifty little python package [powerlaw](https://github.com/jeffalstott/powerlaw/) for fitting distributions (power law, lognormal and exponential) by Jeff Alstott. \n",
    "\n",
    "## Resources\n",
    "- [Not every long tail is power law!](http://www.philippsinger.info/?p=247) by Philipp Singer of the [GESIS - Leibniz Institute for the Social Sciences](http://www.gesis.org/home/) \n",
    "- [Power-Law Distributions in Empirical Data](http://dx.doi.org/10.1137/070710111) by Aaron Clauset, Cosma Rohilla Shalizi, and M. E. J. Newman\n",
    "- [Slides](http://users.cms.caltech.edu/~adamw/heavytails.html) and [blog posts](https://rigorandrelevance.wordpress.com/2013/11/15/a-tale-of-heavy-tails/) on _The Fundamentals of Heavy Tails: Properties, Emergence, and Identification_ by  Adam Wierman, Bert Zwart, JK Nair of Caltech\n",
    "- _An Introduction to Heavy-Tailed and Subexponential Distributions_ by Sergey Foss, Dmitry Korshunov, Stan Zachary\n",
    "- And of course, [Wikipedia](https://www.wikipedia.org/)"
   ]
  },
  {
   "cell_type": "code",
   "execution_count": 1,
   "metadata": {
    "collapsed": false
   },
   "outputs": [],
   "source": [
    "# Plotting library\n",
    "import matplotlib.pyplot as plt\n",
    "%matplotlib inline\n",
    "\n",
    "# mathematics\n",
    "from math import exp, pi, sqrt, log\n",
    "from numpy import linspace, hstack\n",
    "from collections import Counter\n",
    "from random import sample\n",
    "from random import uniform\n",
    "from functools import reduce\n",
    "\n",
    "# special powerlaw fitting library\n",
    "import powerlaw"
   ]
  },
  {
   "cell_type": "code",
   "execution_count": 2,
   "metadata": {
    "collapsed": true
   },
   "outputs": [],
   "source": [
    "# x values\n",
    "x = linspace(0,5,1000)"
   ]
  },
  {
   "cell_type": "markdown",
   "metadata": {},
   "source": [
    "# Heavy tails\n",
    "\n",
    "Confession: I absolutely did not know this until I read the Wikipedia article\n",
    "\n",
    "**Definition: A non-negative function (usually tending to zero) is heavy-tailed\n",
    "if it fails to be bounded by a decreasing exponential function.**\n",
    "\n",
    "There are many subtypes of heavy tailed distributions, **one** of which is a long tailed distribution. If you're like me, you just now learned that \"long\" and \"heavy\" are not interchangeable when referring to tails.  ¯\\\\\\_(ツ)_/¯"
   ]
  },
  {
   "cell_type": "markdown",
   "metadata": {},
   "source": [
    "## Exponential Distribution\n",
    "The exponential distribution is often used to model the time between events (say, the time between Tweets from a particualr user). This is only a valid model if:\n",
    " - Events (Tweets) occur independently.\n",
    " - The rate at which events occur is constant. \n",
    "\n",
    "The PDF of the exponential distribution is: $ f(x) = \\lambda e^{-\\lambda x} $, where $\\lambda$ is commonly referred to as the rate parameter, or the average amount of time between two events (Tweets).\n",
    "\n",
    "The exponential distribution is **not** a long-tailed distribution, but any function with more mass in the tail (tail = $x \\rightarrow \\infty$) than the exponential is a **_heavy tailed_** distribution."
   ]
  },
  {
   "cell_type": "code",
   "execution_count": 3,
   "metadata": {
    "collapsed": false
   },
   "outputs": [
    {
     "data": {
      "image/png": "[encoded data removed]",
      "text/plain": [
       "<matplotlib.figure.Figure at 0x7fb48ddb1160>"
      ]
     },
     "metadata": {},
     "output_type": "display_data"
    }
   ],
   "source": [
    "def exponential_dist(x, lam):\n",
    "    ''' \n",
    "    x: iterable of x values\n",
    "    lam: rate parameter value for the exponential distribution\n",
    "    returns: list of values of the PDF of an exponential distribution evaluated at every point in x\n",
    "    '''\n",
    "    return [lam*exp(-1*lam*point) for point in x]\n",
    "\n",
    "# lambda value\n",
    "l = 1\n",
    "_ = plt.plot(x, exponential_dist(x,l),'.', markersize = 1)\n",
    "_ = plt.xlabel(\"x\")\n",
    "_ = plt.ylabel(\"Probability mass f(x)\")\n",
    "_ = plt.title(\"Exponential distribution\")"
   ]
  },
  {
   "cell_type": "markdown",
   "metadata": {},
   "source": [
    "# Long tails\n",
    "\n",
    "A distribution has a long tail if:\n",
    "\n",
    "$ \\lim_{x \\rightarrow \\infty} \\Pr[ X > x + t \\,|\\, X > x ] = 1 \\;\\; \\forall t > 0$\n",
    "\n",
    "Thinking about the simple case of a Power Law distribution:  \n",
    "CDF: $\\Pr[X > x] = cx^{-a}$  \n",
    "PDF: $p(x) = cax^{-(a+1)}$ \n",
    "\n",
    "We can solve the limit in the definition of long-tails:\n",
    "\n",
    "Definition: $ \\lim_{x \\rightarrow \\infty} \\Pr[ X > x + t \\,|\\, X > x ] $  \n",
    "\n",
    "Bayes law: $ \\lim_{x \\rightarrow \\infty} \\frac{\\Pr[ X > x + t \\, \\cap \\, X > x ]}{\\text{P}[ X > x]} $  \n",
    "\n",
    "Now $ X > x + t \\implies X > x $, so $\\Pr[ X > x + t \\, \\cap \\, X > x ] = \\text{P}[ X > x + t] $\n",
    "\n",
    "Rewritten: $ \\lim_{x \\rightarrow \\infty} \\frac{\\Pr[ X > x + t]}{\\text{P}[ X > x]} $\n",
    "\n",
    "Evaluate with the CDF: $ \\lim_{x \\rightarrow \\infty} \\frac{c(x+t)^{-a}}{cx^{-a}}  = \\lim_{x \\rightarrow \\infty} \\frac{(x+t)^{-a}}{x^{-a}} = 1$\n",
    "\n",
    "An intuitive explantion of this property from the wikipedia article: if the long-tailed quantity exceeds some high level, the probability approaches 1 that it will exceed any other higher level.\""
   ]
  },
  {
   "cell_type": "markdown",
   "metadata": {},
   "source": [
    "# Subexponential distributions\n",
    "\n",
    "A subexponentail distribution satisfies what is called \"the catastrophe principle.\" To use a Twitter example: if Skippy, Josh, Brian, Jeff, and Kim Kardashian have 50 million Twitter followers between them, which scenario is more likely: \n",
    " 1. Each person has 1 million followers\n",
    " 2. One person has ~50 million followers (it's Skippy for sure)\n",
    "The answer is \"2\": one of the users has a huge number of followers, the others have a comparatively small number. This is called the \"catastrophe principle\"--one catastrophically large value increases the entire sum.\n",
    "\n",
    "The formal definition of a subexponential distribution is that it satisfies:\n",
    "$\\Pr[X_1+ \\cdots +X_n>x] \\sim \\Pr[\\max(X_1, \\ldots,X_n)>x] \\quad \\text{as } x \\to \\infty$\n",
    "\n",
    "In words: the probability that the sum of Twitter followers is 50 million is about the same as the probability that one of the users in the sum has 50 million followers.\n"
   ]
  },
  {
   "cell_type": "markdown",
   "metadata": {},
   "source": [
    "## Pareto Distribution\n",
    "\n",
    "The Pareto distribution is (by definition) a Power Law Distribution.\n",
    "\n",
    "The PDF of the Pareto distribution is parameterized as: \n",
    "$\n",
    "f(x) = \\big \\{ \\begin{array}{ll} \\alpha \\, x_m^\\alpha \\, x^{-(\\alpha + 1)} & x\\geq x_m \\\\ 0 & x\\leq x_m \\\\ \\end{array} \n",
    "\\;, \\alpha \\geq 0 $\n",
    "\n",
    "The Pareto distribution is a heavy tailed distribution; it is also a long-tailed distribution, a power law distribution, and a subexponential distribution."
   ]
  },
  {
   "cell_type": "code",
   "execution_count": null,
   "metadata": {
    "collapsed": false
   },
   "outputs": [
    {
     "data": {
      "image/png": "[encoded data removed]",
      "text/plain": [
       "<matplotlib.figure.Figure at 0x7fb48bd60cf8>"
      ]
     },
     "metadata": {},
     "output_type": "display_data"
    }
   ],
   "source": [
    "def pareto_dist(x, xm, alpha):\n",
    "    '''\n",
    "    x: iterable of x values\n",
    "    xm: parameter x_m\n",
    "    alpha: parameter alpha\n",
    "    '''\n",
    "    pdf = []\n",
    "    for point in x:\n",
    "        if point < xm:\n",
    "            pdf.append(0)\n",
    "        else:\n",
    "            pdf.append(alpha*(xm**alpha)/point**(alpha+1))\n",
    "    return pdf\n",
    "\n",
    "# lambda value\n",
    "xm = 1\n",
    "alpha = 1\n",
    "_ = plt.plot(x, pareto_dist(x, xm, alpha), '.', markersize = 1)\n",
    "_ = plt.ylabel(\"Probabilty mass at x\")\n",
    "_ = plt.xlabel(\"x\")\n",
    "_ = plt.title(\"Pareto Distribution\")"
   ]
  },
  {
   "cell_type": "code",
   "execution_count": null,
   "metadata": {
    "collapsed": false
   },
   "outputs": [
    {
     "data": {
      "image/png": "[encoded data removed]",
      "text/plain": [
       "<matplotlib.figure.Figure at 0x7fb48bd73128>"
      ]
     },
     "metadata": {},
     "output_type": "display_data"
    }
   ],
   "source": [
    "_ = plt.plot(x, exponential_dist(x,l),'.', markersize = 1)\n",
    "_ = plt.plot(x, pareto_dist(x, xm, alpha), '.', markersize = 1)\n",
    "_ = plt.legend([\"Exponential\", \"Pareto\"])\n",
    "_ = plt.title(\"Comparing the pareto and exponential distributions\")"
   ]
  },
  {
   "cell_type": "code",
   "execution_count": null,
   "metadata": {
    "collapsed": false
   },
   "outputs": [],
   "source": [
    "x_tail = linspace(0,100,10000)\n",
    "_ = plt.plot(x_tail, exponential_dist(x_tail,l),'.', markersize = 1)\n",
    "_ = plt.plot(x_tail, pareto_dist(x_tail, xm, .01), '.', markersize = 1)\n",
    "_ = plt.legend([\"Exponential, lambda = 1\", \"Pareto, alpha = .01\"])\n",
    "_ = plt.title(\"The heavy tail eventually wins (for all alpha)\")\n",
    "_ = plt.axis([0,100,0,.03])"
   ]
  },
  {
   "cell_type": "markdown",
   "metadata": {},
   "source": [
    "## LogNormal Distribution\n",
    "\n",
    "### A quick note on: the normal distribution\n",
    "\n",
    "It looks like this 😁:  \n",
    "$ f(x) =\\frac{1}{\\sqrt{2\\sigma^2\\pi}} e^{-(x - \\mu)^2 / \\, 2\\sigma^2} $"
   ]
  },
  {
   "cell_type": "code",
   "execution_count": null,
   "metadata": {
    "collapsed": false
   },
   "outputs": [],
   "source": [
    "def normal_dist(x, sigma = 1, mu = 0):\n",
    "    '''\n",
    "    x: iterable of x values\n",
    "    sigma: variance\n",
    "    mu: mean\n",
    "    '''\n",
    "    return [1/(sqrt(2*(sigma**2)*pi)) * exp(-(point - mu)**2)/(2*(sigma**2)) for point in x]\n",
    "\n",
    "mu = 0\n",
    "sigma = 1\n",
    "x_mirrored = hstack([-x,x])\n",
    "_ = plt.plot(x_mirrored, normal_dist(x_mirrored, sigma, mu), '.', markersize = 1)\n",
    "_ = plt.ylabel(\"Probabilty mass at x\")\n",
    "_ = plt.xlabel(\"x\")\n",
    "_ = plt.title(\"Normal Distribution\")"
   ]
  },
  {
   "cell_type": "markdown",
   "metadata": {},
   "source": [
    "## LogNormal Distribution\n",
    "\n",
    "The LogNormal distribution is, maybe unsurprisingly, a distribution whose logarithm is normally distributed. \n",
    "\n",
    "The PDF of the LogNormal is: $ f(x) = \\frac{1}{x\\sigma\\sqrt{2\\pi}} \\, \\text{exp} [ -\\frac{(\\text{ln}x - \\mu)^2}{2\\sigma^2} ], x>0 $\n",
    "\n",
    "The LogNormal distribution is a heavy tailed distribution, a long tailed distribution, and a subexponential distribution."
   ]
  },
  {
   "cell_type": "code",
   "execution_count": null,
   "metadata": {
    "collapsed": false
   },
   "outputs": [],
   "source": [
    "def lognormal_dist(x, sigma, mu):\n",
    "    '''\n",
    "    x: iterable of x values\n",
    "    sigma: parameter sigma\n",
    "    mu: parameter mu\n",
    "    '''\n",
    "    pdf = []\n",
    "    for point in x:\n",
    "        pdf.append((1/(point*sigma*sqrt(2*pi))) * exp(-(log(point) - mu)**2 / (2*sigma**2)) )\n",
    "    return pdf\n",
    "mu = 0\n",
    "sigma = 1\n",
    "x_nonzero = x[x != 0]\n",
    "_ = plt.plot(x_nonzero, lognormal_dist(x_nonzero, sigma, mu), '.', markersize = 1)\n",
    "_ = plt.ylabel(\"Probabilty mass at x\")\n",
    "_ = plt.xlabel(\"x\")\n",
    "_ = plt.title(\"LogNormal Distribution\")"
   ]
  },
  {
   "cell_type": "code",
   "execution_count": null,
   "metadata": {
    "collapsed": false
   },
   "outputs": [],
   "source": [
    "_ = plt.semilogx(x_nonzero, lognormal_dist(x_nonzero, sigma, mu), '.', markersize = 1)\n",
    "_ = plt.title(\"'The logarithm of x is normally distributed'\")"
   ]
  },
  {
   "cell_type": "markdown",
   "metadata": {},
   "source": [
    "## Central limits\n",
    "\n",
    "The central limit theorem that all undergraduates know and love: the sum of independent, identically distributed random variables goes to the normal distribution.\n",
    "\n",
    "In a later tutorial, I hope to get into when that breaks down theoretically (when those iid random variables have infinite varience, the limit is, in fact, a heavy-tailed distribution and not a normal distribution at all) and when it breaks down practically (obviously, real data cannot have infinite variance, but it can have very, very large variance).\n",
    "\n",
    "For now, I'm going to use the central limit theorem that we know and love to look at the limit of multaplicative (not additive) processes. **Multaplicative processes almost always lead to heavy tails**"
   ]
  },
  {
   "cell_type": "code",
   "execution_count": null,
   "metadata": {
    "collapsed": false
   },
   "outputs": [],
   "source": [
    "# samples of a process\n",
    "sums_of_uniform_samples = []\n",
    "for i in range(0,1000):\n",
    "    sums_of_uniform_samples.append(sum([uniform(1,2) for x in range(0,1000)]))"
   ]
  },
  {
   "cell_type": "code",
   "execution_count": null,
   "metadata": {
    "collapsed": false
   },
   "outputs": [],
   "source": [
    "_ = plt.hist(sums_of_uniform_samples,25)\n",
    "_ = plt.title(\"The Central Limit Theorem works! Hooray!\")"
   ]
  },
  {
   "cell_type": "code",
   "execution_count": null,
   "metadata": {
    "collapsed": false
   },
   "outputs": [],
   "source": [
    "# now, instead lets multiply together samples of the same (uniform) process\n",
    "multiply_uniform_samples = []\n",
    "for i in range(0,1000):\n",
    "    multiply_uniform_samples.append(reduce(lambda x, y: x*y, [uniform(1,2) for x in range(0,1000)]))"
   ]
  },
  {
   "cell_type": "markdown",
   "metadata": {},
   "source": [
    "### Multaplicative central limit\n",
    "\n",
    "Recall that $ x \\cdot y = \\log(x) + \\log(y) $\n",
    "\n",
    "If a multaplicative process is a process where we are multiplying together many iid random variables, then:\n",
    "\n",
    "$ P_n = X_1 \\cdot X_2 \\cdot X_3 \\cdots \\cdot X_n $  \n",
    "$ \\log(P_n) = \\log(X_1) + \\log(X_2) + \\log(X_3) + \\cdots \\log(X_n) $  \n",
    "And applying the central limit theorm, $\\log(P_n) \\sim N(\\mu, \\sigma^2) $ for some $\\mu, \\sigma^2$"
   ]
  },
  {
   "cell_type": "code",
   "execution_count": null,
   "metadata": {
    "collapsed": false
   },
   "outputs": [],
   "source": [
    "# note that I'm taking the log of the data before histogramming it \n",
    "_ = plt.hist([log(x) for x in multiply_uniform_samples],50)\n",
    "_ = plt.title(\"The LogNormal Distribution. Whoa.\")\n",
    "_ = plt.xlabel(\"log(x)\")"
   ]
  },
  {
   "cell_type": "markdown",
   "metadata": {},
   "source": [
    "## Fitting data\n",
    "\n",
    "My last note (and here there will be much more explanation in future notebooks), is on fitting a little bit of real data. Because real data is fun."
   ]
  },
  {
   "cell_type": "code",
   "execution_count": null,
   "metadata": {
    "collapsed": false
   },
   "outputs": [],
   "source": [
    "# This is a random list of follower counts for people on Twitter\n",
    "followers = []\n",
    "for follower_count in sorted(open(\"random_selection_of_followers.txt\",\"r\").read().split(\"\\n\")):\n",
    "    try:\n",
    "        followers.append(int(follower_count))\n",
    "    except ValueError:\n",
    "        pass\n",
    "# I'm grabbing exacly 1 million of those counts, because 1 million is a nice tidy number\n",
    "followers = sorted(sample(followers, 10**6))"
   ]
  },
  {
   "cell_type": "markdown",
   "metadata": {},
   "source": [
    "A common way of plotting these kinds of distributions is a rank-oreder plot, or (pictured below) a complementary cumulated distribution function (CCDF) with the idea that we want to visualize the probability that $X$ has frequency greater or equal to $x$.\n",
    "\n",
    "I simply order the observations of the number of followers and plot the fraction of users greater than $x$ against $x$ (the actual follower count)."
   ]
  },
  {
   "cell_type": "code",
   "execution_count": null,
   "metadata": {
    "collapsed": false
   },
   "outputs": [],
   "source": [
    "_ = plt.loglog(followers, [1 - i/10**6 for i in range(0,10**6)], '.', markersize = 1)\n",
    "_ = plt.title(\"Follower counts on Twitter\")\n",
    "_ = plt.ylabel(\"Probabilty that the number of followers \\n of a given user is greater than x\")\n",
    "_ = plt.xlabel(\"x\")"
   ]
  },
  {
   "cell_type": "code",
   "execution_count": null,
   "metadata": {
    "collapsed": false
   },
   "outputs": [],
   "source": [
    "# since follow counts are discrete, it's easy to bin them by making each bin 1 follower long\n",
    "freq_of_follow_counts = sorted(Counter(followers).items(), key = lambda x:x[0])\n",
    "# follow counts\n",
    "follow_count = [x[0] for x in freq_of_follow_counts]\n",
    "# frequency of each follower count\n",
    "frequency = [x[1] for x in freq_of_follow_counts]"
   ]
  },
  {
   "cell_type": "code",
   "execution_count": null,
   "metadata": {
    "collapsed": false
   },
   "outputs": [],
   "source": [
    "_ = plt.loglog(follow_count, frequency, '.')\n",
    "_ = plt.title(\"# of followers of random Twitter users\")\n",
    "_ = plt.xlabel(\"# of followers x\")\n",
    "_ = plt.ylabel(\"# of people with x followers\")"
   ]
  },
  {
   "cell_type": "markdown",
   "metadata": {},
   "source": [
    "## The powerlaw Python library\n",
    "\n",
    "A nice person made this thing. It's not the final word on fitting long tailed distributions to empirical data, but it's based on solid statistics and it enables us to fit power law and lognormal distributions to the same dataset and compare them."
   ]
  },
  {
   "cell_type": "code",
   "execution_count": null,
   "metadata": {
    "collapsed": false
   },
   "outputs": [],
   "source": [
    "# run a \"fit\" on the vector of all 1 million follower numbers\n",
    "results = powerlaw.Fit(followers)\n",
    "# https://github.com/jeffalstott/powerlaw/issues/28 <- I know you get a warning, \n",
    "#                                                       he knows you get a warning, it's not a big deal"
   ]
  },
  {
   "cell_type": "code",
   "execution_count": null,
   "metadata": {
    "collapsed": false
   },
   "outputs": [],
   "source": [
    "print(\"The alpha value of the Pareto distribution that fits this data best: {}.\".format(results.power_law.alpha))\n",
    "print(\"The x_m value of the Pareto distribution that fits this data best: {}.\".format(results.power_law.xmin))"
   ]
  },
  {
   "cell_type": "code",
   "execution_count": null,
   "metadata": {
    "collapsed": false
   },
   "outputs": [],
   "source": [
    "print(\"The sigma value of the LogNormal distribution that fits this data best: {}.\".format(results.lognormal.sigma))\n",
    "print(\"The mu value of the LogNormal distribution that fits this data best: {}.\".format(results.lognormal.mu))"
   ]
  },
  {
   "cell_type": "code",
   "execution_count": null,
   "metadata": {
    "collapsed": false
   },
   "outputs": [],
   "source": [
    "# Importantly, this package allows you to compare the powerlaw and lognormal distributions\n",
    "'''\n",
    "R is the log-likelihood ratio between both distributions and p is the p-value. \n",
    "Generally, we can say that if R is positive, than the first distribution is a better fit while if it is negative, \n",
    "the second one should be prefered. \n",
    "'''\n",
    "R, p = results.distribution_compare('power_law', 'lognormal') \n",
    "\n",
    "print(\"The R value: {}\".format(R))\n",
    "print(\"The p-value: {}\".format(p))"
   ]
  },
  {
   "cell_type": "code",
   "execution_count": null,
   "metadata": {
    "collapsed": false
   },
   "outputs": [],
   "source": [
    "# Those results don't look very good, but sometimes real distributions can seem mroe piecewise\n",
    "# let's try fitting jsut the top piece of that distribution\n",
    "results_without_tail = powerlaw.Fit([i for i in followers if i <= 10**2.5]) "
   ]
  },
  {
   "cell_type": "code",
   "execution_count": null,
   "metadata": {
    "collapsed": false
   },
   "outputs": [],
   "source": [
    "R_without_tail, p_without_tail = results_without_tail.distribution_compare('power_law', 'lognormal') \n",
    "\n",
    "print(\"The R value: {}\".format(R_without_tail))\n",
    "print(\"The p-value: {}\".format(p_without_tail))"
   ]
  },
  {
   "cell_type": "code",
   "execution_count": null,
   "metadata": {
    "collapsed": false
   },
   "outputs": [],
   "source": [
    "print(\"The sigma value of the LogNormal distribution that fits this data best: {}.\".format(results_without_tail.lognormal.sigma))\n",
    "print(\"The mu value of the LogNormal distribution that fits this data best: {}.\".format(results_without_tail.lognormal.mu))"
   ]
  },
  {
   "cell_type": "code",
   "execution_count": null,
   "metadata": {
    "collapsed": false
   },
   "outputs": [],
   "source": [
    "cuttoff_index_number = [ n for n,i in enumerate(followers) if i > 10**2.5 ][0]"
   ]
  },
  {
   "cell_type": "code",
   "execution_count": null,
   "metadata": {
    "collapsed": false
   },
   "outputs": [],
   "source": [
    "results_1.lognormal.plot_pdf()\n",
    "plt.loglog([i for i in follow_count], [i/10**6 for i in frequency], 'r.', markersize = 1)\n",
    "plt.title(\"LogNormal fit on empirical data\")"
   ]
  },
  {
   "cell_type": "code",
   "execution_count": null,
   "metadata": {
    "collapsed": false
   },
   "outputs": [],
   "source": [
    "results_1.power_law.plot_pdf()\n",
    "plt.loglog([i for i in follow_count], [i/10**6 for i in frequency], 'r.', markersize = 1)\n",
    "plt.title(\"Powerlaw fit on empirical data\")"
   ]
  }
 ],
 "metadata": {
  "kernelspec": {
   "display_name": "Python 3",
   "language": "python",
   "name": "python3"
  },
  "language_info": {
   "codemirror_mode": {
    "name": "ipython",
    "version": 3
   },
   "file_extension": ".py",
   "mimetype": "text/x-python",
   "name": "python",
   "nbconvert_exporter": "python",
   "pygments_lexer": "ipython3",
   "version": "3.5.1"
  }
 },
 "nbformat": 4,
 "nbformat_minor": 1
}
