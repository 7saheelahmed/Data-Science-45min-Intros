{
 "cells": [
  {
   "cell_type": "markdown",
   "metadata": {},
   "source": [
    "# Comparing collections (Part One)\n",
    "\n",
    "* Set comparison\n",
    "* Ordered collections\n",
    "* Ranked collections\n",
    "* Collection transformation"
   ]
  },
  {
   "cell_type": "code",
   "execution_count": 22,
   "metadata": {
    "collapsed": false
   },
   "outputs": [],
   "source": [
    "import random\n",
    "import collections\n",
    "import operator\n",
    "import time\n",
    "\n",
    "import numpy as np\n",
    "import scipy\n",
    "import matplotlib.pyplot as plt\n",
    "import seaborn as sns\n",
    "from sklearn import datasets\n",
    "import twitter\n",
    "%matplotlib inline\n",
    "\n",
    "import count_min\n",
    "\n",
    "# some matplotlib color-mapping \n",
    "cmap = plt.get_cmap('viridis')\n",
    "c_space = np.linspace(0,99,100)"
   ]
  },
  {
   "cell_type": "markdown",
   "metadata": {},
   "source": [
    "# Set comparison"
   ]
  },
  {
   "cell_type": "code",
   "execution_count": 4,
   "metadata": {
    "collapsed": false
   },
   "outputs": [],
   "source": [
    "# create two sets of data scientists\n",
    "a = set(['josh','fiona','scotty','skippy'])\n",
    "b = set(['jeff','whitney','fiona'])"
   ]
  },
  {
   "cell_type": "code",
   "execution_count": 5,
   "metadata": {
    "collapsed": false
   },
   "outputs": [
    {
     "name": "stderr",
     "output_type": "stream",
     "text": [
      "/Users/jkolb/pyenvs/3.5.1/lib/python3.5/site-packages/IPython/core/formatters.py:92: DeprecationWarning: DisplayFormatter._ipython_display_formatter_default is deprecated: use @default decorator instead.\n",
      "  def _ipython_display_formatter_default(self):\n",
      "/Users/jkolb/pyenvs/3.5.1/lib/python3.5/site-packages/IPython/core/formatters.py:669: DeprecationWarning: PlainTextFormatter._singleton_printers_default is deprecated: use @default decorator instead.\n",
      "  def _singleton_printers_default(self):\n"
     ]
    },
    {
     "data": {
      "text/plain": [
       "{'fiona'}"
      ]
     },
     "execution_count": 5,
     "metadata": {},
     "output_type": "execute_result"
    }
   ],
   "source": [
    "a.intersection(b)"
   ]
  },
  {
   "cell_type": "code",
   "execution_count": 6,
   "metadata": {
    "collapsed": true
   },
   "outputs": [],
   "source": [
    "c = set(range(10))\n",
    "d = set(range(8,15))"
   ]
  },
  {
   "cell_type": "code",
   "execution_count": 7,
   "metadata": {
    "collapsed": false
   },
   "outputs": [
    {
     "data": {
      "text/plain": [
       "{8, 9}"
      ]
     },
     "execution_count": 7,
     "metadata": {},
     "output_type": "execute_result"
    }
   ],
   "source": [
    "c.intersection(d)"
   ]
  },
  {
   "cell_type": "code",
   "execution_count": 8,
   "metadata": {
    "collapsed": false
   },
   "outputs": [
    {
     "data": {
      "text/plain": [
       "{0, 1, 2, 3, 4, 5, 6, 7, 8, 9, 10, 11, 12, 13, 14}"
      ]
     },
     "execution_count": 8,
     "metadata": {},
     "output_type": "execute_result"
    }
   ],
   "source": [
    "c.union(d)"
   ]
  },
  {
   "cell_type": "markdown",
   "metadata": {},
   "source": [
    "# List comparison"
   ]
  },
  {
   "cell_type": "markdown",
   "metadata": {},
   "source": [
    "## Number sequences"
   ]
  },
  {
   "cell_type": "code",
   "execution_count": 9,
   "metadata": {
    "collapsed": false
   },
   "outputs": [],
   "source": [
    "# create an ordered sequence of evenly-spaced integers\n",
    "# create a second ordered seqence of intergers, which differs from the first by only noise\n",
    "a = np.array([[i,i+np.random.normal()] for i in range(100)])"
   ]
  },
  {
   "cell_type": "code",
   "execution_count": 10,
   "metadata": {
    "collapsed": false
   },
   "outputs": [
    {
     "data": {
      "text/plain": [
       "<matplotlib.collections.PathCollection at 0x114d83fd0>"
      ]
     },
     "execution_count": 10,
     "metadata": {},
     "output_type": "execute_result"
    },
    {
     "data": {
      "image/png": "[encoded data removed]",
      "text/plain": [
       "<matplotlib.figure.Figure at 0x114d28a90>"
      ]
     },
     "metadata": {},
     "output_type": "display_data"
    }
   ],
   "source": [
    "# the color variation shows the sequence order\n",
    "plt.scatter(a[:,0],a[:,1],c=c_space,cmap=cmap)"
   ]
  },
  {
   "cell_type": "code",
   "execution_count": 11,
   "metadata": {
    "collapsed": false
   },
   "outputs": [
    {
     "data": {
      "text/plain": [
       "array([[ 1.        ,  0.99951139],\n",
       "       [ 0.99951139,  1.        ]])"
      ]
     },
     "execution_count": 11,
     "metadata": {},
     "output_type": "execute_result"
    }
   ],
   "source": [
    "# check the the correlation between the sequences (off-diagonal elements), \n",
    "# which will be high for small noise\n",
    "np.corrcoef(a,rowvar=0)"
   ]
  },
  {
   "cell_type": "code",
   "execution_count": 12,
   "metadata": {
    "collapsed": true
   },
   "outputs": [],
   "source": [
    "# now create two-similarly related sequences, but with non-even spacing and larger noise\n",
    "_ = [1,4,5,8,15,45,48,50,55,60,88,89,90,93,99]\n",
    "b = np.array([[i,i+np.random.normal()*5] for i in _])"
   ]
  },
  {
   "cell_type": "code",
   "execution_count": 13,
   "metadata": {
    "collapsed": false
   },
   "outputs": [
    {
     "data": {
      "text/plain": [
       "<matplotlib.collections.PathCollection at 0x114e399b0>"
      ]
     },
     "execution_count": 13,
     "metadata": {},
     "output_type": "execute_result"
    },
    {
     "data": {
      "image/png": "[encoded data removed]",
      "text/plain": [
       "<matplotlib.figure.Figure at 0x114d560f0>"
      ]
     },
     "metadata": {},
     "output_type": "display_data"
    }
   ],
   "source": [
    "plt.scatter(b[:,0],b[:,1],c=np.linspace(0,99,len(b)),cmap=cmap)"
   ]
  },
  {
   "cell_type": "code",
   "execution_count": 14,
   "metadata": {
    "collapsed": false
   },
   "outputs": [
    {
     "data": {
      "text/plain": [
       "array([[ 1.        ,  0.99154274],\n",
       "       [ 0.99154274,  1.        ]])"
      ]
     },
     "execution_count": 14,
     "metadata": {},
     "output_type": "execute_result"
    }
   ],
   "source": [
    "# check the correlation\n",
    "np.corrcoef(b,rowvar=0)"
   ]
  },
  {
   "cell_type": "code",
   "execution_count": 15,
   "metadata": {
    "collapsed": false
   },
   "outputs": [],
   "source": [
    "# now create randomly-ordered seqences with larger noise\n",
    "\n",
    "\n",
    "_ = np.array([random.random()*100 for _ in range(100)])\n",
    "c = np.array([[i,i+np.random.normal()*10] for i in _])"
   ]
  },
  {
   "cell_type": "code",
   "execution_count": 16,
   "metadata": {
    "collapsed": false
   },
   "outputs": [
    {
     "data": {
      "text/plain": [
       "<matplotlib.collections.PathCollection at 0x114f3d278>"
      ]
     },
     "execution_count": 16,
     "metadata": {},
     "output_type": "execute_result"
    },
    {
     "data": {
      "image/png": "[encoded data removed]",
      "text/plain": [
       "<matplotlib.figure.Figure at 0x114ef5160>"
      ]
     },
     "metadata": {},
     "output_type": "display_data"
    }
   ],
   "source": [
    "plt.scatter(c[:,0],c[:,1],c=c_space,cmap=cmap)"
   ]
  },
  {
   "cell_type": "code",
   "execution_count": 17,
   "metadata": {
    "collapsed": false
   },
   "outputs": [
    {
     "data": {
      "text/plain": [
       "array([[ 1.        ,  0.94772484],\n",
       "       [ 0.94772484,  1.        ]])"
      ]
     },
     "execution_count": 17,
     "metadata": {},
     "output_type": "execute_result"
    }
   ],
   "source": [
    "# the correlation coefficient is still relatively large\n",
    "np.corrcoef(c,rowvar=0)"
   ]
  },
  {
   "cell_type": "markdown",
   "metadata": {},
   "source": [
    "Try relating with the nosie scale and sparsity of the sequences with the correlation coefficient.\n",
    "\n",
    "\n",
    "# Ordinal comparison\n",
    "\n",
    "e.g. comparing rank"
   ]
  },
  {
   "cell_type": "code",
   "execution_count": 50,
   "metadata": {
    "collapsed": false
   },
   "outputs": [],
   "source": [
    "\"\"\"\n",
    "Get Tweets from the Twitter public API\n",
    "\"\"\"\n",
    "import yaml\n",
    "\n",
    "# Get your Twitter API tokens\n",
    "# this is specific to my computer; modify for yours\n",
    "my_creds_file = '/Users/jkolb/.twitter_api_creds'\n",
    "creds = yaml.load(open(my_creds_file))\n",
    "consumer_key = creds['audience']['consumer_key']\n",
    "consumer_secret = creds['audience']['consumer_secret']\n",
    "access_token_key = creds['audience']['token']\n",
    "access_token_secret = creds['audience']['token_secret']"
   ]
  },
  {
   "cell_type": "code",
   "execution_count": null,
   "metadata": {
    "collapsed": true
   },
   "outputs": [],
   "source": [
    "api = twitter.Api(consumer_key=consumer_key,\n",
    "                 consumer_secret=consumer_secret,\n",
    "                 access_token_key=access_token_key,\n",
    "                 access_token_secret=access_token_secret\n",
    "                 )\n",
    "\n",
    "mom_tweets = []\n",
    "for _ in range(20):\n",
    "    mom_tweets.extend( api.GetSearch(\"mom\",count=100) )\n",
    "    time.sleep(1)"
   ]
  },
  {
   "cell_type": "code",
   "execution_count": null,
   "metadata": {
    "collapsed": false
   },
   "outputs": [],
   "source": [
    "\"\"\"\n",
    "Get Tweets from the Gnip Search API\n",
    "\"\"\"\n",
    "\n",
    "\"\"\"\n",
    "from search.api import Query\n",
    "import json\n",
    "import yaml\n",
    "creds = yaml.load(open('/Users/jkolb/.creds.yaml'))\n",
    "\n",
    "# set up a query to the Gnip Search API\n",
    "q = Query(creds['username'],\n",
    "          creds['password'],\n",
    "          creds['search_endpoint'],\n",
    "          paged=True,\n",
    "          hard_max = 1000,\n",
    "          search_v2 = True\n",
    "          )\n",
    "\n",
    "# query parameters\n",
    "start_date = '2016-08-01T00:00'\n",
    "end_date = '2016-09-01T00:00'\n",
    "rule = 'mom'\n",
    "\n",
    "# get the tweet data\n",
    "q.execute(rule,start=start_date,end=end_date)\n",
    "mom_tweets = list(q.get_activity_set())\n",
    "\"\"\"\"\"\""
   ]
  },
  {
   "cell_type": "code",
   "execution_count": 44,
   "metadata": {
    "collapsed": false
   },
   "outputs": [],
   "source": [
    "def token_frequency(tweets,num_top_terms = 30,delta=10**-5,epsilon=0.001,):\n",
    "    \"\"\"\n",
    "    Space-tokenize tweet bodies and \n",
    "    return exact and approximate 1-gram counts\n",
    "    \n",
    "    Approximate the counts with a count-min sketch\n",
    "    \"\"\"\n",
    "    \n",
    "    terms = collections.defaultdict(int)\n",
    "    sketch = count_min.Sketch(dict(delta=delta,epsilon=epsilon,k=num_top_terms))\n",
    "    for tweet in tweets:\n",
    "        try:\n",
    "            tokens = tweet['body'].split()\n",
    "        except TypeError:\n",
    "            tokens = tweet.AsDict()['text'].split()\n",
    "        for token in tokens:\n",
    "            terms[token.lower()] += 1\n",
    "            sketch.update(token.lower(),1)\n",
    "    return (terms,sketch)"
   ]
  },
  {
   "cell_type": "code",
   "execution_count": 45,
   "metadata": {
    "collapsed": true
   },
   "outputs": [],
   "source": [
    "def display_two_lists(list_1,list_2):\n",
    "    \"\"\"helper function\"\"\"\n",
    "    for x,y in zip(list_1,list_2):\n",
    "        print(x,y)"
   ]
  },
  {
   "cell_type": "code",
   "execution_count": 46,
   "metadata": {
    "collapsed": true
   },
   "outputs": [],
   "source": [
    "num_top_terms = 30\n",
    "# accuracy parameters for CM sketch\n",
    "delta = 10**-4\n",
    "epsilon = 0.01"
   ]
  },
  {
   "cell_type": "code",
   "execution_count": 47,
   "metadata": {
    "collapsed": false
   },
   "outputs": [],
   "source": [
    "# get exact and approximate top terms and counts\n",
    "mom_terms,mom_sketch = token_frequency(mom_tweets,num_top_terms,delta,epsilon)\n",
    "exact_top_mom_terms = list(reversed(sorted(mom_terms.items(),key = operator.itemgetter(1))))[:num_top_terms]\n",
    "approx_top_mom_terms = [(term,count) for count,term in reversed(sorted(mom_sketch.top_k.values(),key = operator.itemgetter(0)))]"
   ]
  },
  {
   "cell_type": "markdown",
   "metadata": {},
   "source": [
    "**Kendall's tau coefficient** is a sort of correlation coefficient that is proportional to the difference between the number of _concordant_ pairs and the number of _discordant_ pairs.  "
   ]
  },
  {
   "cell_type": "code",
   "execution_count": 48,
   "metadata": {
    "collapsed": false
   },
   "outputs": [
    {
     "name": "stderr",
     "output_type": "stream",
     "text": [
      "/Users/jkolb/pyenvs/3.5.1/lib/python3.5/site-packages/scipy/stats/stats.py:250: RuntimeWarning: The input array could not be properly checked for nan values. nan values will be ignored.\n",
      "  \"values. nan values will be ignored.\", RuntimeWarning)\n"
     ]
    },
    {
     "data": {
      "text/plain": [
       "0.78551229330666639"
      ]
     },
     "execution_count": 48,
     "metadata": {},
     "output_type": "execute_result"
    }
   ],
   "source": [
    "kt_result = scipy.stats.kendalltau(exact_top_mom_terms,approx_top_mom_terms)\n",
    "kt_result.correlation"
   ]
  },
  {
   "cell_type": "code",
   "execution_count": 49,
   "metadata": {
    "collapsed": false
   },
   "outputs": [
    {
     "name": "stdout",
     "output_type": "stream",
     "text": [
      "('mom', 1507) ('mom', 1512)\n",
      "('rt', 1236) ('rt', 1248)\n",
      "('my', 941) ('my', 946)\n",
      "('to', 901) ('to', 911)\n",
      "('and', 745) ('and', 783)\n",
      "('your', 710) ('your', 720)\n",
      "('i', 648) ('i', 648)\n",
      "('you', 551) ('you', 551)\n",
      "('a', 431) ('mom:', 453)\n",
      "('mom:', 424) ('a', 431)\n",
      "('me', 415) ('the', 425)\n",
      "('the', 413) ('me', 419)\n",
      "('this', 283) ('is', 299)\n",
      "('is', 279) ('this', 286)\n",
      "('me:', 231) ('me:', 247)\n",
      "('when', 229) ('when', 236)\n",
      "('how', 219) ('her', 219)\n",
      "('her', 205) ('how', 219)\n",
      "('for', 201) ('for', 201)\n",
      "('of', 185) ('of', 185)\n",
      "('she', 175) ('she', 183)\n",
      "('it', 160) ('been', 178)\n",
      "('been', 157) ('through', 177)\n",
      "(':', 156) ('@pearcegodeep:', 172)\n",
      "('many', 156) ('\"', 167)\n",
      "('\"', 156) ('it', 164)\n",
      "('through', 150) ('https://t.co/esugkx28mv', 164)\n",
      "('@pearcegodeep:', 142) (':', 160)\n",
      "('https://t.co/esugkx28mv', 142) ('many', 156)\n",
      "('do', 132) ('do', 154)\n"
     ]
    }
   ],
   "source": [
    "display_two_lists(exact_top_mom_terms,approx_top_mom_terms)"
   ]
  },
  {
   "cell_type": "markdown",
   "metadata": {},
   "source": [
    "A harder problem: how to account for the varying importance of rank?"
   ]
  },
  {
   "cell_type": "markdown",
   "metadata": {},
   "source": [
    "# Over/under-indexing"
   ]
  },
  {
   "cell_type": "code",
   "execution_count": 51,
   "metadata": {
    "collapsed": false
   },
   "outputs": [],
   "source": [
    "# get some data around the term 'dad'\n",
    "\n",
    "# public API version\n",
    "dad_tweets = []\n",
    "for _ in range(20):\n",
    "    dad_tweets.extend( api.GetSearch(\"dad\",count=100) )\n",
    "    time.sleep(1)"
   ]
  },
  {
   "cell_type": "code",
   "execution_count": 53,
   "metadata": {
    "collapsed": false
   },
   "outputs": [
    {
     "data": {
      "text/plain": [
       "\"\\n# Gnip API verions\\nrule = 'dad'\\nq.execute(rule,start=start_date,end=end_date)\\ndad_tweets = list(q.get_activity_set())\\n\""
      ]
     },
     "execution_count": 53,
     "metadata": {},
     "output_type": "execute_result"
    }
   ],
   "source": [
    "\"\"\"\n",
    "# Gnip API verions\n",
    "rule = 'dad'\n",
    "q.execute(rule,start=start_date,end=end_date)\n",
    "dad_tweets = list(q.get_activity_set())\n",
    "\"\"\""
   ]
  },
  {
   "cell_type": "code",
   "execution_count": 54,
   "metadata": {
    "collapsed": false
   },
   "outputs": [],
   "source": [
    "dad_terms,dad_sketch = token_frequency(dad_tweets,num_top_terms,delta,epsilon)\n",
    "exact_top_dad_terms = list(reversed(sorted(dad_terms.items(),key = operator.itemgetter(1))))[:num_top_terms]\n",
    "approx_top_dad_terms = [(term,count) for count,term in reversed(sorted(dad_sketch.top_k.values(),key = operator.itemgetter(0)))]"
   ]
  },
  {
   "cell_type": "code",
   "execution_count": 55,
   "metadata": {
    "collapsed": false
   },
   "outputs": [
    {
     "name": "stdout",
     "output_type": "stream",
     "text": [
      "('dad', 1549) ('mom', 1507)\n",
      "('rt', 1127) ('rt', 1236)\n",
      "('to', 980) ('my', 941)\n",
      "('i', 860) ('to', 901)\n",
      "('the', 844) ('and', 745)\n",
      "('me', 714) ('your', 710)\n",
      "('you', 690) ('i', 648)\n",
      "('your', 675) ('you', 551)\n",
      "('on', 675) ('a', 431)\n",
      "('he', 655) ('mom:', 424)\n",
      "('my', 655) ('me', 415)\n",
      "('before', 538) ('the', 413)\n",
      "('please', 526) ('this', 283)\n",
      "('yo!', 510) ('is', 279)\n",
      "('planet.', 510) ('me:', 231)\n",
      "('@donaldjtrumpjr!', 510) ('when', 229)\n",
      "('destroys', 510) ('how', 219)\n",
      "('ask', 510) ('her', 205)\n",
      "('twitter.', 510) ('for', 201)\n",
      "('follow', 510) ('of', 185)\n",
      "('resign', 510) ('she', 175)\n",
      "('noticed', 510) ('it', 160)\n",
      "('thanks…', 490) ('been', 157)\n",
      "('@sethrogen:', 490) (':', 156)\n",
      "('and', 376) ('many', 156)\n",
      "('is', 346) ('\"', 156)\n",
      "('a', 339) ('through', 150)\n",
      "('for', 231) ('@pearcegodeep:', 142)\n",
      "('are', 193) ('https://t.co/esugkx28mv', 142)\n",
      "('this', 182) ('do', 132)\n"
     ]
    }
   ],
   "source": [
    "display_two_lists(exact_top_dad_terms,exact_top_mom_terms)"
   ]
  },
  {
   "cell_type": "markdown",
   "metadata": {},
   "source": [
    "But we don't really care about rank here. We care about removing the effect of a baseline."
   ]
  },
  {
   "cell_type": "code",
   "execution_count": 56,
   "metadata": {
    "collapsed": true
   },
   "outputs": [],
   "source": [
    "def normalize_by_difference(term_counts,baseline_counts):\n",
    "    \"\"\"define a normalized term frequency that subtracts off a baseline count\"\"\"\n",
    "    normed_term_counts = {}\n",
    "    for term,count in term_counts.items():\n",
    "        try:\n",
    "            normed_term_counts[term] = count - baseline_counts[term]\n",
    "        except KeyError:\n",
    "            normed_term_counts[term] = count\n",
    "    return normed_term_counts"
   ]
  },
  {
   "cell_type": "code",
   "execution_count": 57,
   "metadata": {
    "collapsed": false
   },
   "outputs": [
    {
     "data": {
      "text/plain": [
       "[('dad', 1462),\n",
       " ('on', 590),\n",
       " ('he', 563),\n",
       " ('before', 538),\n",
       " ('yo!', 510),\n",
       " ('planet.', 510),\n",
       " ('resign', 510),\n",
       " ('@donaldjtrumpjr!', 510),\n",
       " ('destroys', 510),\n",
       " ('twitter.', 510),\n",
       " ('noticed', 510),\n",
       " ('ask', 494),\n",
       " ('please', 492),\n",
       " ('thanks…', 490),\n",
       " ('@sethrogen:', 490),\n",
       " ('follow', 484),\n",
       " ('the', 431),\n",
       " ('me', 299),\n",
       " ('i', 212),\n",
       " ('you', 139)]"
      ]
     },
     "execution_count": 57,
     "metadata": {},
     "output_type": "execute_result"
    }
   ],
   "source": [
    "normalized_results = normalize_by_difference(dad_terms,mom_terms)\n",
    "\n",
    "# look at top of list to see most \"dad\"-like terms\n",
    "list(reversed(sorted(normalized_results.items(), key = operator.itemgetter(1))))[:20]"
   ]
  },
  {
   "cell_type": "code",
   "execution_count": 58,
   "metadata": {
    "collapsed": false
   },
   "outputs": [
    {
     "data": {
      "text/plain": [
       "[('go', -77),\n",
       " ('at', -77),\n",
       " ('did', -86),\n",
       " ('a', -92),\n",
       " ('been', -95),\n",
       " ('times', -97),\n",
       " ('do', -99),\n",
       " ('this', -101),\n",
       " ('an', -102),\n",
       " ('someone', -105),\n",
       " ('rt', -109),\n",
       " ('her', -114),\n",
       " ('many', -153),\n",
       " ('\"', -155),\n",
       " ('when', -160),\n",
       " ('how', -191),\n",
       " ('me:', -227),\n",
       " ('my', -286),\n",
       " ('and', -369),\n",
       " ('mom', -1412)]"
      ]
     },
     "execution_count": 58,
     "metadata": {},
     "output_type": "execute_result"
    }
   ],
   "source": [
    "# and look at the bottom of the list to see the mom-like terms\n",
    "list(reversed(sorted(normalized_results.items(), key = operator.itemgetter(1))))[-20:]"
   ]
  },
  {
   "cell_type": "markdown",
   "metadata": {},
   "source": [
    "But this normalization-by-difference only works if the two term frequency distributions have the same scale of counts. "
   ]
  },
  {
   "cell_type": "code",
   "execution_count": 59,
   "metadata": {
    "collapsed": false
   },
   "outputs": [],
   "source": [
    "def normalize_by_fraction(term_counts,baseline_counts):\n",
    "    \"\"\"normalize counts by the difference of the term-fractions for each distribution\"\"\"\n",
    "    normed_term_counts = {}\n",
    "    B = sum(baseline_counts.values())\n",
    "    A = sum(term_counts.values())\n",
    "    for term,count in term_counts.items():\n",
    "        try:\n",
    "            # fraction of baseline distribution for this term\n",
    "            b_frac = baseline_counts[term]/B\n",
    "        except KeyError:\n",
    "            b_frac = 0\n",
    "        \n",
    "        # fraction of primary term frequency distribution for this term\n",
    "        a_frac = count/A\n",
    "        \n",
    "        factor = (a_frac-b_frac)\n",
    "        normed_term_counts[term] = count * factor \n",
    "    return normed_term_counts"
   ]
  },
  {
   "cell_type": "code",
   "execution_count": 60,
   "metadata": {
    "collapsed": false
   },
   "outputs": [
    {
     "data": {
      "text/plain": [
       "[('dad', 65.04625878816911),\n",
       " ('on', 11.35391535337112),\n",
       " ('he', 10.49533948411985),\n",
       " ('the', 9.62448294280985),\n",
       " ('before', 8.356979933593186),\n",
       " ('yo!', 7.50974447812906),\n",
       " ('planet.', 7.50974447812906),\n",
       " ('resign', 7.50974447812906),\n",
       " ('@donaldjtrumpjr!', 7.50974447812906),\n",
       " ('destroys', 7.50974447812906),\n",
       " ('twitter.', 7.50974447812906),\n",
       " ('noticed', 7.50974447812906),\n",
       " ('please', 7.42691656924851),\n",
       " ('ask', 7.25358374982895),\n",
       " ('follow', 7.0934832946413815),\n",
       " ('thanks…', 6.932293922332899),\n",
       " ('@sethrogen:', 6.932293922332899),\n",
       " ('me', 5.417262730735218),\n",
       " ('i', 3.85985063825802),\n",
       " ('you', 1.8111924301860725)]"
      ]
     },
     "execution_count": 60,
     "metadata": {},
     "output_type": "execute_result"
    }
   ],
   "source": [
    "normalized_results = normalize_by_fraction(dad_terms,mom_terms)\n",
    "sorted_list = list(reversed(sorted(normalized_results.items(), key = operator.itemgetter(1))))\n",
    "sorted_list[:20]"
   ]
  },
  {
   "cell_type": "markdown",
   "metadata": {
    "collapsed": true
   },
   "source": [
    "Well, this sort of works. We could also comine the term-fractions in other ways, e.g. a ratio (a_frac/b_frac), or the relative difference ( [a_frac-b_frac]/a_frac ). \n",
    "\n",
    "In the end, we need to think harder about what differences and similarities we want to be able to highlight and ignore. See Part Two..."
   ]
  }
 ],
 "metadata": {
  "kernelspec": {
   "display_name": "Python 3",
   "language": "python",
   "name": "python3"
  },
  "language_info": {
   "codemirror_mode": {
    "name": "ipython",
    "version": 3
   },
   "file_extension": ".py",
   "mimetype": "text/x-python",
   "name": "python",
   "nbconvert_exporter": "python",
   "pygments_lexer": "ipython3",
   "version": "3.5.1"
  }
 },
 "nbformat": 4,
 "nbformat_minor": 0
}
