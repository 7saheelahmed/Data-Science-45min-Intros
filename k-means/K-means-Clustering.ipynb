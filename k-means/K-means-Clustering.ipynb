{
 "metadata": {
  "name": "",
  "signature": "sha256:c9fb89413eac6c2ce455a5e264ec38b313898292b514e35a3e4622567c9537c5"
 },
 "nbformat": 3,
 "nbformat_minor": 0,
 "worksheets": [
  {
   "cells": [
    {
     "cell_type": "markdown",
     "metadata": {},
     "source": [
      "##A cloud of data in two dimensions\n",
      "Generate a set of data from three spherical gaussian distributions, set the spacing so the clouds mix a little.  How might we identify the three clusters?"
     ]
    },
    {
     "cell_type": "code",
     "collapsed": false,
     "input": [
      "%matplotlib inline\n",
      "import random\n",
      "def make_data(n_points, n_clusters=2, dim=2, sigma=1):\n",
      "    x = [[] for i in range(dim)]\n",
      "    for i in range(n_clusters):\n",
      "        for d in range(dim):\n",
      "            x[d].extend([random.gauss(i*3,sigma) for j in range(n_points)])\n",
      "    return x\n",
      "#[x,y] = make_data(100, 3)\n",
      "scatter(*make_data(75, 3))"
     ],
     "language": "python",
     "metadata": {},
     "outputs": []
    },
    {
     "cell_type": "markdown",
     "metadata": {},
     "source": [
      "###Find the center of a cluster"
     ]
    },
    {
     "cell_type": "code",
     "collapsed": false,
     "input": [
      "def centroid(x):\n",
      "    return [[sum(col)/float(len(x[0]))] for col in x]\n",
      "ex1 = make_data(100, 1)\n",
      "#print ex1\n",
      "scatter(*ex1, color=\"green\")\n",
      "print centroid(ex1)\n",
      "scatter(*centroid(ex1), color=\"red\", marker=\"x\")"
     ],
     "language": "python",
     "metadata": {},
     "outputs": []
    },
    {
     "cell_type": "markdown",
     "metadata": {},
     "source": [
      "###Start by guessing the cluster membership"
     ]
    },
    {
     "cell_type": "code",
     "collapsed": false,
     "input": [
      "co = [\"red\", \"orange\", \"yellow\", \"green\", \"blue\", \"black\",\"brown\"]\n",
      "def guess_clusters(x, n_clusters):\n",
      "    # req co list of identifiers\n",
      "    for i in range(len(x[0])):\n",
      "        return [ co[random.choice(range(n_clusters))] for i in range(len(x[0]))]\n",
      "ex2 = make_data(50, 2)\n",
      "scatter(*ex2)\n",
      "mem_ex2 = guess_clusters(ex2,2)\n",
      "#print mem_ex2\n",
      "scatter(*ex2, color=mem_ex2)"
     ],
     "language": "python",
     "metadata": {},
     "outputs": []
    },
    {
     "cell_type": "markdown",
     "metadata": {},
     "source": [
      "###Try to refine by finding the centroid of the new clusters we guessed about"
     ]
    },
    {
     "cell_type": "code",
     "collapsed": false,
     "input": [
      "def select_members(x, membership, cluster):\n",
      "    return [ [i for i,label in zip(dim, membership) if label == cluster] for dim in x ]\n",
      "print mem_ex2.count(\"red\")\n",
      "scatter(*select_members(ex2, mem_ex2, \"red\"), color=\"red\")\n",
      "scatter(*centroid(select_members(ex2, mem_ex2, \"red\")), color=\"red\", marker=\"x\")\n"
     ],
     "language": "python",
     "metadata": {},
     "outputs": []
    },
    {
     "cell_type": "code",
     "collapsed": false,
     "input": [
      "print mem_ex2.count(\"orange\")\n",
      "scatter(*select_members(ex2, mem_ex2, \"orange\"), color=\"orange\")\n",
      "scatter(*centroid(select_members(ex2, mem_ex2, \"orange\")), color=\"orange\", marker=\"x\")"
     ],
     "language": "python",
     "metadata": {},
     "outputs": []
    },
    {
     "cell_type": "markdown",
     "metadata": {},
     "source": [
      "###Find distances (will use to find distances to the centroid, in this case)"
     ]
    },
    {
     "cell_type": "code",
     "collapsed": false,
     "input": [
      "import math\n",
      "def distance(p1, p2):\n",
      "    # odd... vectors are lists of lists with only 1 element in each dim\n",
      "    return math.sqrt(sum([(i[0]-j[0])**2 for i,j in zip(p1, p2)]))\n",
      "print distance([[-1],[-1]],[[2],[3]])"
     ],
     "language": "python",
     "metadata": {},
     "outputs": []
    },
    {
     "cell_type": "markdown",
     "metadata": {},
     "source": [
      "###Update membership of points to closest centroid"
     ]
    },
    {
     "cell_type": "code",
     "collapsed": false,
     "input": [
      "import sys\n",
      "def reassign(x, centriods):\n",
      "    membership = []\n",
      "    for idx in range(len(x[0])):\n",
      "        min_d = sys.maxint\n",
      "        cluster = \"\"\n",
      "        for c, vc in centriods.items():\n",
      "            dist = distance(vc, [[t[idx]] for t in x])\n",
      "            if dist < min_d:\n",
      "                min_d = dist\n",
      "                cluster = c\n",
      "        membership.append(cluster)\n",
      "    return membership\n",
      "\n",
      "cent_ex2 = {i:centroid(select_members(ex2, mem_ex2, i)) for i in co[:2]}\n",
      "mem_ex2 = reassign(ex2, cent_ex2)\n",
      "scatter(*ex2, color=mem_ex2)\n",
      "scatter(*cent_ex2[\"red\"], color=\"red\", marker=\"x\")\n",
      "scatter(*cent_ex2[\"orange\"], color=\"orange\", marker=\"x\")"
     ],
     "language": "python",
     "metadata": {},
     "outputs": []
    },
    {
     "cell_type": "markdown",
     "metadata": {},
     "source": [
      "###Looks promising, put it all together so we can repeat the steps easily"
     ]
    },
    {
     "cell_type": "code",
     "collapsed": false,
     "input": [
      "# function\n",
      "def get_centroids(x, membership):\n",
      "    return {i:centroid(select_members(x, membership, i)) for i in set(membership)}\n",
      "\n",
      "# redifine with total distance measure\n",
      "def reassign(x, centroids):\n",
      "    membership, scores = [], {}\n",
      "    # step through all the vectors\n",
      "    for idx in range(len(x[0])):\n",
      "        min_d, cluster = sys.maxint, None\n",
      "        for c, vc in centroids.items():\n",
      "            dist = distance(vc, [[t[idx]] for t in x])\n",
      "            if dist < min_d:\n",
      "                min_d = dist\n",
      "                cluster = c\n",
      "        scores[cluster] = min_d + scores.get(cluster, 0)\n",
      "        membership.append(cluster)\n",
      "    return membership, sum(scores.values())/float(len(x[0]))\n",
      "\n",
      "def k_means(data, k):\n",
      "    # start with random distribution\n",
      "    membership = guess_clusters(data, k)\n",
      "    score, last_score = 0.0, sys.maxint\n",
      "    while abs(last_score - score) > 1e-7:\n",
      "        last_score = score\n",
      "        c = get_centroids(data, membership)\n",
      "        membership, score = reassign(data, c)\n",
      "        #print last_score - score\n",
      "    return membership, c, score\n",
      "        \n",
      "ex3 = make_data(100, 7, sigma=1) \n",
      "mem_ex3, cl_ex3, s_ex3 = k_means(ex3, 7)\n",
      "scatter(*ex3, color = mem_ex3)\n",
      "for i, pt in cl_ex3.items():\n",
      "    scatter(*pt, color=i, marker=\"x\")\n"
     ],
     "language": "python",
     "metadata": {},
     "outputs": []
    },
    {
     "cell_type": "markdown",
     "metadata": {},
     "source": [
      "###How many clusters? Look for the \"knee\" in the err function..."
     ]
    },
    {
     "cell_type": "code",
     "collapsed": false,
     "input": [
      "ex4 = make_data(200, 4) \n",
      "err = []\n",
      "trial_ks = range(1,8)\n",
      "for k in trial_ks:\n",
      "    mem_ex4, cl_ex4, s_ex4 = k_means(ex4, k)\n",
      "    err.append(s_ex4)\n",
      "scatter(*ex4, color = mem_ex4)\n"
     ],
     "language": "python",
     "metadata": {},
     "outputs": []
    },
    {
     "cell_type": "code",
     "collapsed": false,
     "input": [
      "plot(trial_ks, err)"
     ],
     "language": "python",
     "metadata": {},
     "outputs": []
    },
    {
     "cell_type": "markdown",
     "metadata": {},
     "source": [
      "##But don't use this code. Use Scikit Learn!"
     ]
    },
    {
     "cell_type": "code",
     "collapsed": false,
     "input": [],
     "language": "python",
     "metadata": {},
     "outputs": []
    }
   ],
   "metadata": {}
  }
 ]
}