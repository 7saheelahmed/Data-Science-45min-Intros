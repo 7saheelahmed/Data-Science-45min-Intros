{
 "cells": [
  {
   "cell_type": "markdown",
   "metadata": {},
   "source": [
    "# Introduction To Probabalistic Graph Models\n",
    "## Scott Hendrickson\n",
    "## 2016-Aug-19\n",
    "\n",
    "Requirements:\n",
    "    * numpy\n",
    "    * pandas\n",
    "    * libpgm\n",
    "    * networkx  (for plotting)"
   ]
  },
  {
   "cell_type": "markdown",
   "metadata": {},
   "source": [
    "Notes: This is a introductory survey. Unlike my favorite kind of RST, we won't build up models from first steps and assumptions as much as try to survey the basic concepts with examples, demonstrations and tie-ins to things you already are have familiarity."
   ]
  },
  {
   "cell_type": "markdown",
   "metadata": {},
   "source": [
    "## Why PGMs?\n",
    "When we started statistics, we talked about measurements, for example, of the height of students in you school, and noted that instances of these meansurements--events--fall into a probabiliy distribution. In this case it was likely a Normal-looking distribution with many events around the average and a few larger or smaller than average.\n",
    "\n",
    "This introduced the idea of a random variable.\n",
    "\n",
    "What do we do when measurements of a random variable fall according to some complex probability distribution? This happens all the time. Sometimes we approximate. Other times, we realize that the the random variable we are measuring has some comlex underlying dependencies we can address.\n",
    "\n",
    "For example, imagine that we measure the heights of 7th graders in you school and call this our random variable. Later, we realize that the average height of males and females is different by a few inches. We need a model that accounts for the depencence of height on sex at this age.\n",
    "\n",
    "From our data we can now write:\n",
    "\n",
    "$$p(male) = .49$$\n",
    "$$p(female) = .51$$\n",
    "$$p(h) \\propto \\exp{\\frac{(h-\\bar{h})^2}{2 \\sigma_h^2}}$$\n",
    "\n",
    "In this case, we know that $\\bar{h}$ and $\\sigma_h$ will have different values for males and females."
   ]
  },
  {
   "cell_type": "markdown",
   "metadata": {},
   "source": [
    "This kind of problem is common!  It turns out there are powerful general strategies for dealing with whole classes of proglems of dependencies in the distribution of random variables.\n",
    "\n",
    "## PGMs\n",
    "\n",
    "In general we want to model the joint probability distribution for a random variable in terms of other random variables and parameters.\n",
    "\n",
    "$$X = P(x_1, x_2, \\dots ,x_n)$$\n",
    "\n",
    "Decompose this probability by applying the chain rule:\n",
    "\n",
    "$$P(x_1, x_2, \\dots ,x_n) = P(x_1| x_2, \\dots ,x_n) P(x_2, |x_3, \\dots ,x_n) \\dots P(x_n)$$\n",
    "\n",
    "In general, if $x_1$ is independent from $x_2$ then,\n",
    "\n",
    "$$P(x_1|x_2) = P(x_1)$$\n",
    "$$P(x_1, x_2) = P(x_1)P(x_2)$$\n",
    "\n",
    "Also, with Bayes rule, we can invert dependencies:\n",
    "\n",
    "$$P(y|x) = \\frac{P(y)P(x|y)}{P(x)}$$"
   ]
  },
  {
   "cell_type": "markdown",
   "metadata": {},
   "source": [
    "## Back to our example...\n",
    "\n",
    "For height and gender,\n",
    "\n",
    "$$P(h,s) = P(h|s)P(s)$$\n",
    "\n",
    "Observations:\n",
    "* We could have decomposed $P(g,h)$ and eneded up with $P(g|h)P(h)$\n",
    "* Bayes lets us swap this to serve the case where our model says \"height is dependent on sex\""
   ]
  },
  {
   "cell_type": "markdown",
   "metadata": {},
   "source": [
    "## In general, represent this decompostion by a graph\n",
    "* Nodes: random variables. \n",
    "* Each node has a Conditional Probability Distribution (CDP).\n",
    "* Edges: dependencies \n",
    "\n",
    "We say a JPD P _factorizes_ over graph G, if P can be encoded by:\n",
    "\n",
    "$$P(x_1, x_2, \\dots ,x_n) = \\Pi_{i=1}^n P(x_i|Par_G(x_i))$$\n",
    "\n",
    "Where $Par_G(x_i)$ is the parent graph of G."
   ]
  },
  {
   "cell_type": "code",
   "execution_count": 56,
   "metadata": {
    "collapsed": false
   },
   "outputs": [
    {
     "data": {
      "image/png": "[encoded data removed]",
      "text/plain": [
       "<matplotlib.figure.Figure at 0x10626e410>"
      ]
     },
     "metadata": {},
     "output_type": "display_data"
    }
   ],
   "source": [
    "%matplotlib inline\n",
    "import matplotlib.pyplot as plt\n",
    "import networkx as nx\n",
    "\n",
    "G=nx.DiGraph()\n",
    "G.add_edge('sex','height',weight=0.6)\n",
    "nx.draw_networkx(G, node_color='y',node_size=2000, width=3)\n",
    "plt.axis('off')\n",
    "plt.show()"
   ]
  },
  {
   "cell_type": "markdown",
   "metadata": {},
   "source": [
    "### Why is this a useful problem solving tool?\n",
    "\n",
    "This can model a much more general set of Joint Probability Distributions than our student-height problem.  Do all possible graphs (given nodes) represent a useful model for for a JPD?\n",
    "\n",
    "We can talk about classes of graphs that solve problems\n",
    "* Bi-directional Graphs are Markov Models\n",
    "* Directed Acyclic Graphs (DAGs) are called Baysian Models\n",
    "\n",
    "We can use graphs for book keeping about distributions and dependencies\n",
    "\n",
    "Practical models can have many nodes. Graphs models help us manage complexity.\n",
    "\n",
    "We can state reasoning rules that are constent with the statistical assumptions that allow understand and transform nodes or groups of nodes."
   ]
  },
  {
   "cell_type": "markdown",
   "metadata": {},
   "source": [
    "## Some jobs we need to figure out how to do to make this practically useful\n",
    "\n",
    "0. Ask questions about the probabilities represented by the model. _Inference_:\n",
    "    * Causal Reasoning is looking for downstream effects of assumptions about parents. E.g. Given a male student, how likely is it he will be 165 cm in height?\n",
    "    * Evidential Reasoning is looking for upstream effects of assumptions about childern. E.g. Give a height of 174 cm, what is probability that the student is female? \n",
    "    * Intercausal. Given to observations of a common cause, what can we say about the likelyhood of one of the cause measurements?\n",
    "\n",
    "1. Learn parameters of a model given graph structure and representative data\n",
    "\n",
    "2. Learn the structure of the graph given representative data\n",
    "\n",
    "3. Build heuristics and rules by which we can reason about graphs. E.g. How to convert Bayese models to Markov models?  What sort of structures allow influence to propogate and which do not?"
   ]
  },
  {
   "cell_type": "code",
   "execution_count": 41,
   "metadata": {
    "collapsed": true
   },
   "outputs": [],
   "source": [
    "import numpy as np\n",
    "import pandas as pd\n",
    "import csv\n",
    "import json\n",
    "\n",
    "from libpgm.graphskeleton import GraphSkeleton\n",
    "from libpgm.nodedata import NodeData\n",
    "from libpgm.discretebayesiannetwork import DiscreteBayesianNetwork\n",
    "from libpgm.tablecpdfactorization import TableCPDFactorization\n",
    "from libpgm.pgmlearner import PGMLearner"
   ]
  },
  {
   "cell_type": "markdown",
   "metadata": {},
   "source": [
    "## Let's look at some data\n",
    "\n",
    "Survival data from Titanic based on age, sex and travel class."
   ]
  },
  {
   "cell_type": "code",
   "execution_count": 42,
   "metadata": {
    "collapsed": false
   },
   "outputs": [
    {
     "name": "stdout",
     "output_type": "stream",
     "text": [
      "   pclass  survived                              name  sex  age\n",
      "0       3         0               Abbing, Mr. Anthony    0   42\n",
      "1       3         0     Abbott, Master. Eugene Joseph    0   13\n",
      "2       3         0       Abbott, Mr. Rossmore Edward    0   16\n",
      "3       3         1  Abbott, Mrs. Stanton (Rosa Hunt)    1   35\n",
      "4       3         1       Abelseth, Miss. Karen Marie    1   16\n",
      "            pclass     survived          sex          age\n",
      "count  1045.000000  1045.000000  1045.000000  1045.000000\n",
      "mean      2.208612     0.408612     0.371292    29.869538\n",
      "std       0.841069     0.491813     0.483382    14.415518\n",
      "min       1.000000     0.000000     0.000000     0.166700\n",
      "25%       1.000000     0.000000     0.000000    21.000000\n",
      "50%       2.000000     0.000000     0.000000    28.000000\n",
      "75%       3.000000     1.000000     1.000000    39.000000\n",
      "max       3.000000     1.000000     1.000000    80.000000\n"
     ]
    }
   ],
   "source": [
    "titanic = pd.DataFrame.from_csv(\"./data/titanic3.csv\", index_col = None)\n",
    "print titanic.head()\n",
    "print titanic.describe()"
   ]
  },
  {
   "cell_type": "markdown",
   "metadata": {},
   "source": [
    "Summarize with a pivot table to see the kinds of distributions that maybe lurking in the data."
   ]
  },
  {
   "cell_type": "code",
   "execution_count": 43,
   "metadata": {
    "collapsed": false
   },
   "outputs": [
    {
     "name": "stdout",
     "output_type": "stream",
     "text": [
      "      survived  pclass  sex\n",
      "name  0         1       0        97\n",
      "                        1         5\n",
      "                2       0       135\n",
      "                        1        11\n",
      "                3       0       289\n",
      "                        1        80\n",
      "      1         1       0        53\n",
      "                        1       128\n",
      "                2       0        23\n",
      "                        1        92\n",
      "                3       0        59\n",
      "                        1        72\n",
      "      All                      1043\n",
      "dtype: int64\n"
     ]
    }
   ],
   "source": [
    "ptable = pd.pivot_table(titanic, values=[\"name\"], columns=[\"survived\", \"pclass\",\"sex\"], aggfunc=lambda x: len(x.unique()), margins=True)\n",
    "print ptable"
   ]
  },
  {
   "cell_type": "code",
   "execution_count": 44,
   "metadata": {
    "collapsed": false
   },
   "outputs": [],
   "source": [
    "# need to converst to node:value list for libpgm\n",
    "with open(\"./data/titanic3.csv\") as f:\n",
    "    rdr = csv.reader(f, )\n",
    "    headers = next(rdr, None)\n",
    "    data = [{k:float(v) for k,v in zip(headers, row) if k !=\"name\"} for row in rdr]\n",
    "headers.remove(\"name\")\n",
    "#print data"
   ]
  },
  {
   "cell_type": "markdown",
   "metadata": {},
   "source": [
    "## Learn Parameters of Graph Model give Data"
   ]
  },
  {
   "cell_type": "code",
   "execution_count": 45,
   "metadata": {
    "collapsed": false
   },
   "outputs": [
    {
     "name": "stdout",
     "output_type": "stream",
     "text": [
      "{'Vdata': None, 'E': [['age', 'pclass'], ['sex', 'survived'], ['pclass', 'survived']], 'V': ['pclass', 'survived', 'sex', 'age']}\n"
     ]
    },
    {
     "data": {
      "image/png": "[encoded data removed]",
      "text/plain": [
       "<matplotlib.figure.Figure at 0x106247d10>"
      ]
     },
     "metadata": {},
     "output_type": "display_data"
    }
   ],
   "source": [
    "pgn = {\n",
    "    \"V\": headers,\n",
    "    \"E\": [[\"age\", \"pclass\"],\n",
    "        [\"sex\", \"survived\"],\n",
    "         [\"pclass\", \"survived\"]],\n",
    "    \"Vdata\": None }\n",
    "print pgn\n",
    "G=nx.DiGraph()\n",
    "for f,t in pgn[\"E\"]:\n",
    "    G.add_edge(f,t)\n",
    "nx.draw_networkx(G, node_color='y',node_size=2000, width=3)\n",
    "plt.axis('off')\n",
    "plt.show()"
   ]
  },
  {
   "cell_type": "code",
   "execution_count": 46,
   "metadata": {
    "collapsed": false
   },
   "outputs": [],
   "source": [
    "skel = GraphSkeleton()\n",
    "skel.V = pgn[\"V\"]\n",
    "skel.E = pgn[\"E\"]\n",
    "skel.toporder()\n",
    "\n",
    "learner = PGMLearner()\n",
    "result = learner.discrete_mle_estimateparams(skel, data)"
   ]
  },
  {
   "cell_type": "code",
   "execution_count": 47,
   "metadata": {
    "collapsed": false
   },
   "outputs": [
    {
     "data": {
      "text/html": [
       "<div>\n",
       "<table border=\"1\" class=\"dataframe\">\n",
       "  <thead>\n",
       "    <tr style=\"text-align: right;\">\n",
       "      <th></th>\n",
       "      <th>0</th>\n",
       "      <th>1</th>\n",
       "    </tr>\n",
       "  </thead>\n",
       "  <tbody>\n",
       "    <tr>\n",
       "      <th>0</th>\n",
       "      <td>0.628708</td>\n",
       "      <td>0.371292</td>\n",
       "    </tr>\n",
       "  </tbody>\n",
       "</table>\n",
       "</div>"
      ],
      "text/plain": [
       "          0         1\n",
       "0  0.628708  0.371292"
      ]
     },
     "execution_count": 47,
     "metadata": {},
     "output_type": "execute_result"
    }
   ],
   "source": [
    "pd.DataFrame(result.Vdata[\"sex\"][\"cprob\"]).transpose()"
   ]
  },
  {
   "cell_type": "code",
   "execution_count": 48,
   "metadata": {
    "collapsed": false
   },
   "outputs": [
    {
     "data": {
      "text/html": [
       "<div>\n",
       "<table border=\"1\" class=\"dataframe\">\n",
       "  <thead>\n",
       "    <tr style=\"text-align: right;\">\n",
       "      <th></th>\n",
       "      <th>0</th>\n",
       "      <th>1</th>\n",
       "      <th>2</th>\n",
       "    </tr>\n",
       "  </thead>\n",
       "  <tbody>\n",
       "    <tr>\n",
       "      <th>['0.1667']</th>\n",
       "      <td>1.000000</td>\n",
       "      <td>0.000000</td>\n",
       "      <td>0.000000</td>\n",
       "    </tr>\n",
       "    <tr>\n",
       "      <th>['0.3333']</th>\n",
       "      <td>1.000000</td>\n",
       "      <td>0.000000</td>\n",
       "      <td>0.000000</td>\n",
       "    </tr>\n",
       "    <tr>\n",
       "      <th>['0.4167']</th>\n",
       "      <td>1.000000</td>\n",
       "      <td>0.000000</td>\n",
       "      <td>0.000000</td>\n",
       "    </tr>\n",
       "    <tr>\n",
       "      <th>['0.6667']</th>\n",
       "      <td>0.000000</td>\n",
       "      <td>1.000000</td>\n",
       "      <td>0.000000</td>\n",
       "    </tr>\n",
       "    <tr>\n",
       "      <th>['0.75']</th>\n",
       "      <td>1.000000</td>\n",
       "      <td>0.000000</td>\n",
       "      <td>0.000000</td>\n",
       "    </tr>\n",
       "    <tr>\n",
       "      <th>['0.8333']</th>\n",
       "      <td>0.333333</td>\n",
       "      <td>0.666667</td>\n",
       "      <td>0.000000</td>\n",
       "    </tr>\n",
       "    <tr>\n",
       "      <th>['0.9167']</th>\n",
       "      <td>0.000000</td>\n",
       "      <td>0.500000</td>\n",
       "      <td>0.500000</td>\n",
       "    </tr>\n",
       "    <tr>\n",
       "      <th>['1.0']</th>\n",
       "      <td>0.700000</td>\n",
       "      <td>0.300000</td>\n",
       "      <td>0.000000</td>\n",
       "    </tr>\n",
       "    <tr>\n",
       "      <th>['10.0']</th>\n",
       "      <td>1.000000</td>\n",
       "      <td>0.000000</td>\n",
       "      <td>0.000000</td>\n",
       "    </tr>\n",
       "    <tr>\n",
       "      <th>['11.0']</th>\n",
       "      <td>0.750000</td>\n",
       "      <td>0.000000</td>\n",
       "      <td>0.250000</td>\n",
       "    </tr>\n",
       "    <tr>\n",
       "      <th>['11.5']</th>\n",
       "      <td>1.000000</td>\n",
       "      <td>0.000000</td>\n",
       "      <td>0.000000</td>\n",
       "    </tr>\n",
       "    <tr>\n",
       "      <th>['12.0']</th>\n",
       "      <td>0.333333</td>\n",
       "      <td>0.666667</td>\n",
       "      <td>0.000000</td>\n",
       "    </tr>\n",
       "    <tr>\n",
       "      <th>['13.0']</th>\n",
       "      <td>0.600000</td>\n",
       "      <td>0.200000</td>\n",
       "      <td>0.200000</td>\n",
       "    </tr>\n",
       "    <tr>\n",
       "      <th>['14.0']</th>\n",
       "      <td>0.625000</td>\n",
       "      <td>0.250000</td>\n",
       "      <td>0.125000</td>\n",
       "    </tr>\n",
       "    <tr>\n",
       "      <th>['14.5']</th>\n",
       "      <td>1.000000</td>\n",
       "      <td>0.000000</td>\n",
       "      <td>0.000000</td>\n",
       "    </tr>\n",
       "    <tr>\n",
       "      <th>['15.0']</th>\n",
       "      <td>0.666667</td>\n",
       "      <td>0.166667</td>\n",
       "      <td>0.166667</td>\n",
       "    </tr>\n",
       "    <tr>\n",
       "      <th>['16.0']</th>\n",
       "      <td>0.736842</td>\n",
       "      <td>0.105263</td>\n",
       "      <td>0.157895</td>\n",
       "    </tr>\n",
       "    <tr>\n",
       "      <th>['17.0']</th>\n",
       "      <td>0.650000</td>\n",
       "      <td>0.150000</td>\n",
       "      <td>0.200000</td>\n",
       "    </tr>\n",
       "    <tr>\n",
       "      <th>['18.0']</th>\n",
       "      <td>0.615385</td>\n",
       "      <td>0.230769</td>\n",
       "      <td>0.153846</td>\n",
       "    </tr>\n",
       "    <tr>\n",
       "      <th>['18.5']</th>\n",
       "      <td>0.666667</td>\n",
       "      <td>0.333333</td>\n",
       "      <td>0.000000</td>\n",
       "    </tr>\n",
       "    <tr>\n",
       "      <th>['19.0']</th>\n",
       "      <td>0.551724</td>\n",
       "      <td>0.275862</td>\n",
       "      <td>0.172414</td>\n",
       "    </tr>\n",
       "    <tr>\n",
       "      <th>['2.0']</th>\n",
       "      <td>0.666667</td>\n",
       "      <td>0.250000</td>\n",
       "      <td>0.083333</td>\n",
       "    </tr>\n",
       "    <tr>\n",
       "      <th>['20.0']</th>\n",
       "      <td>0.826087</td>\n",
       "      <td>0.173913</td>\n",
       "      <td>0.000000</td>\n",
       "    </tr>\n",
       "    <tr>\n",
       "      <th>['20.5']</th>\n",
       "      <td>1.000000</td>\n",
       "      <td>0.000000</td>\n",
       "      <td>0.000000</td>\n",
       "    </tr>\n",
       "    <tr>\n",
       "      <th>['21.0']</th>\n",
       "      <td>0.682927</td>\n",
       "      <td>0.195122</td>\n",
       "      <td>0.121951</td>\n",
       "    </tr>\n",
       "    <tr>\n",
       "      <th>['22.0']</th>\n",
       "      <td>0.697674</td>\n",
       "      <td>0.139535</td>\n",
       "      <td>0.162791</td>\n",
       "    </tr>\n",
       "    <tr>\n",
       "      <th>['22.5']</th>\n",
       "      <td>1.000000</td>\n",
       "      <td>0.000000</td>\n",
       "      <td>0.000000</td>\n",
       "    </tr>\n",
       "    <tr>\n",
       "      <th>['23.0']</th>\n",
       "      <td>0.423077</td>\n",
       "      <td>0.346154</td>\n",
       "      <td>0.230769</td>\n",
       "    </tr>\n",
       "    <tr>\n",
       "      <th>['23.5']</th>\n",
       "      <td>1.000000</td>\n",
       "      <td>0.000000</td>\n",
       "      <td>0.000000</td>\n",
       "    </tr>\n",
       "    <tr>\n",
       "      <th>['24.0']</th>\n",
       "      <td>0.468085</td>\n",
       "      <td>0.340426</td>\n",
       "      <td>0.191489</td>\n",
       "    </tr>\n",
       "    <tr>\n",
       "      <th>...</th>\n",
       "      <td>...</td>\n",
       "      <td>...</td>\n",
       "      <td>...</td>\n",
       "    </tr>\n",
       "    <tr>\n",
       "      <th>['50.0']</th>\n",
       "      <td>0.133333</td>\n",
       "      <td>0.333333</td>\n",
       "      <td>0.533333</td>\n",
       "    </tr>\n",
       "    <tr>\n",
       "      <th>['51.0']</th>\n",
       "      <td>0.375000</td>\n",
       "      <td>0.125000</td>\n",
       "      <td>0.500000</td>\n",
       "    </tr>\n",
       "    <tr>\n",
       "      <th>['52.0']</th>\n",
       "      <td>0.000000</td>\n",
       "      <td>0.333333</td>\n",
       "      <td>0.666667</td>\n",
       "    </tr>\n",
       "    <tr>\n",
       "      <th>['53.0']</th>\n",
       "      <td>0.000000</td>\n",
       "      <td>0.000000</td>\n",
       "      <td>1.000000</td>\n",
       "    </tr>\n",
       "    <tr>\n",
       "      <th>['54.0']</th>\n",
       "      <td>0.000000</td>\n",
       "      <td>0.400000</td>\n",
       "      <td>0.600000</td>\n",
       "    </tr>\n",
       "    <tr>\n",
       "      <th>['55.0']</th>\n",
       "      <td>0.000000</td>\n",
       "      <td>0.125000</td>\n",
       "      <td>0.875000</td>\n",
       "    </tr>\n",
       "    <tr>\n",
       "      <th>['55.5']</th>\n",
       "      <td>1.000000</td>\n",
       "      <td>0.000000</td>\n",
       "      <td>0.000000</td>\n",
       "    </tr>\n",
       "    <tr>\n",
       "      <th>['56.0']</th>\n",
       "      <td>0.000000</td>\n",
       "      <td>0.000000</td>\n",
       "      <td>1.000000</td>\n",
       "    </tr>\n",
       "    <tr>\n",
       "      <th>['57.0']</th>\n",
       "      <td>0.000000</td>\n",
       "      <td>0.600000</td>\n",
       "      <td>0.400000</td>\n",
       "    </tr>\n",
       "    <tr>\n",
       "      <th>['58.0']</th>\n",
       "      <td>0.000000</td>\n",
       "      <td>0.000000</td>\n",
       "      <td>1.000000</td>\n",
       "    </tr>\n",
       "    <tr>\n",
       "      <th>['59.0']</th>\n",
       "      <td>0.333333</td>\n",
       "      <td>0.333333</td>\n",
       "      <td>0.333333</td>\n",
       "    </tr>\n",
       "    <tr>\n",
       "      <th>['6.0']</th>\n",
       "      <td>0.666667</td>\n",
       "      <td>0.166667</td>\n",
       "      <td>0.166667</td>\n",
       "    </tr>\n",
       "    <tr>\n",
       "      <th>['60.0']</th>\n",
       "      <td>0.000000</td>\n",
       "      <td>0.285714</td>\n",
       "      <td>0.714286</td>\n",
       "    </tr>\n",
       "    <tr>\n",
       "      <th>['60.5']</th>\n",
       "      <td>1.000000</td>\n",
       "      <td>0.000000</td>\n",
       "      <td>0.000000</td>\n",
       "    </tr>\n",
       "    <tr>\n",
       "      <th>['61.0']</th>\n",
       "      <td>0.200000</td>\n",
       "      <td>0.200000</td>\n",
       "      <td>0.600000</td>\n",
       "    </tr>\n",
       "    <tr>\n",
       "      <th>['62.0']</th>\n",
       "      <td>0.000000</td>\n",
       "      <td>0.400000</td>\n",
       "      <td>0.600000</td>\n",
       "    </tr>\n",
       "    <tr>\n",
       "      <th>['63.0']</th>\n",
       "      <td>0.250000</td>\n",
       "      <td>0.250000</td>\n",
       "      <td>0.500000</td>\n",
       "    </tr>\n",
       "    <tr>\n",
       "      <th>['64.0']</th>\n",
       "      <td>0.000000</td>\n",
       "      <td>0.000000</td>\n",
       "      <td>1.000000</td>\n",
       "    </tr>\n",
       "    <tr>\n",
       "      <th>['65.0']</th>\n",
       "      <td>0.333333</td>\n",
       "      <td>0.000000</td>\n",
       "      <td>0.666667</td>\n",
       "    </tr>\n",
       "    <tr>\n",
       "      <th>['66.0']</th>\n",
       "      <td>0.000000</td>\n",
       "      <td>1.000000</td>\n",
       "      <td>0.000000</td>\n",
       "    </tr>\n",
       "    <tr>\n",
       "      <th>['67.0']</th>\n",
       "      <td>0.000000</td>\n",
       "      <td>0.000000</td>\n",
       "      <td>1.000000</td>\n",
       "    </tr>\n",
       "    <tr>\n",
       "      <th>['7.0']</th>\n",
       "      <td>0.750000</td>\n",
       "      <td>0.250000</td>\n",
       "      <td>0.000000</td>\n",
       "    </tr>\n",
       "    <tr>\n",
       "      <th>['70.0']</th>\n",
       "      <td>0.000000</td>\n",
       "      <td>0.500000</td>\n",
       "      <td>0.500000</td>\n",
       "    </tr>\n",
       "    <tr>\n",
       "      <th>['70.5']</th>\n",
       "      <td>1.000000</td>\n",
       "      <td>0.000000</td>\n",
       "      <td>0.000000</td>\n",
       "    </tr>\n",
       "    <tr>\n",
       "      <th>['71.0']</th>\n",
       "      <td>0.000000</td>\n",
       "      <td>0.000000</td>\n",
       "      <td>1.000000</td>\n",
       "    </tr>\n",
       "    <tr>\n",
       "      <th>['74.0']</th>\n",
       "      <td>1.000000</td>\n",
       "      <td>0.000000</td>\n",
       "      <td>0.000000</td>\n",
       "    </tr>\n",
       "    <tr>\n",
       "      <th>['76.0']</th>\n",
       "      <td>0.000000</td>\n",
       "      <td>0.000000</td>\n",
       "      <td>1.000000</td>\n",
       "    </tr>\n",
       "    <tr>\n",
       "      <th>['8.0']</th>\n",
       "      <td>0.333333</td>\n",
       "      <td>0.666667</td>\n",
       "      <td>0.000000</td>\n",
       "    </tr>\n",
       "    <tr>\n",
       "      <th>['80.0']</th>\n",
       "      <td>0.000000</td>\n",
       "      <td>0.000000</td>\n",
       "      <td>1.000000</td>\n",
       "    </tr>\n",
       "    <tr>\n",
       "      <th>['9.0']</th>\n",
       "      <td>1.000000</td>\n",
       "      <td>0.000000</td>\n",
       "      <td>0.000000</td>\n",
       "    </tr>\n",
       "  </tbody>\n",
       "</table>\n",
       "<p>98 rows × 3 columns</p>\n",
       "</div>"
      ],
      "text/plain": [
       "                   0         1         2\n",
       "['0.1667']  1.000000  0.000000  0.000000\n",
       "['0.3333']  1.000000  0.000000  0.000000\n",
       "['0.4167']  1.000000  0.000000  0.000000\n",
       "['0.6667']  0.000000  1.000000  0.000000\n",
       "['0.75']    1.000000  0.000000  0.000000\n",
       "['0.8333']  0.333333  0.666667  0.000000\n",
       "['0.9167']  0.000000  0.500000  0.500000\n",
       "['1.0']     0.700000  0.300000  0.000000\n",
       "['10.0']    1.000000  0.000000  0.000000\n",
       "['11.0']    0.750000  0.000000  0.250000\n",
       "['11.5']    1.000000  0.000000  0.000000\n",
       "['12.0']    0.333333  0.666667  0.000000\n",
       "['13.0']    0.600000  0.200000  0.200000\n",
       "['14.0']    0.625000  0.250000  0.125000\n",
       "['14.5']    1.000000  0.000000  0.000000\n",
       "['15.0']    0.666667  0.166667  0.166667\n",
       "['16.0']    0.736842  0.105263  0.157895\n",
       "['17.0']    0.650000  0.150000  0.200000\n",
       "['18.0']    0.615385  0.230769  0.153846\n",
       "['18.5']    0.666667  0.333333  0.000000\n",
       "['19.0']    0.551724  0.275862  0.172414\n",
       "['2.0']     0.666667  0.250000  0.083333\n",
       "['20.0']    0.826087  0.173913  0.000000\n",
       "['20.5']    1.000000  0.000000  0.000000\n",
       "['21.0']    0.682927  0.195122  0.121951\n",
       "['22.0']    0.697674  0.139535  0.162791\n",
       "['22.5']    1.000000  0.000000  0.000000\n",
       "['23.0']    0.423077  0.346154  0.230769\n",
       "['23.5']    1.000000  0.000000  0.000000\n",
       "['24.0']    0.468085  0.340426  0.191489\n",
       "...              ...       ...       ...\n",
       "['50.0']    0.133333  0.333333  0.533333\n",
       "['51.0']    0.375000  0.125000  0.500000\n",
       "['52.0']    0.000000  0.333333  0.666667\n",
       "['53.0']    0.000000  0.000000  1.000000\n",
       "['54.0']    0.000000  0.400000  0.600000\n",
       "['55.0']    0.000000  0.125000  0.875000\n",
       "['55.5']    1.000000  0.000000  0.000000\n",
       "['56.0']    0.000000  0.000000  1.000000\n",
       "['57.0']    0.000000  0.600000  0.400000\n",
       "['58.0']    0.000000  0.000000  1.000000\n",
       "['59.0']    0.333333  0.333333  0.333333\n",
       "['6.0']     0.666667  0.166667  0.166667\n",
       "['60.0']    0.000000  0.285714  0.714286\n",
       "['60.5']    1.000000  0.000000  0.000000\n",
       "['61.0']    0.200000  0.200000  0.600000\n",
       "['62.0']    0.000000  0.400000  0.600000\n",
       "['63.0']    0.250000  0.250000  0.500000\n",
       "['64.0']    0.000000  0.000000  1.000000\n",
       "['65.0']    0.333333  0.000000  0.666667\n",
       "['66.0']    0.000000  1.000000  0.000000\n",
       "['67.0']    0.000000  0.000000  1.000000\n",
       "['7.0']     0.750000  0.250000  0.000000\n",
       "['70.0']    0.000000  0.500000  0.500000\n",
       "['70.5']    1.000000  0.000000  0.000000\n",
       "['71.0']    0.000000  0.000000  1.000000\n",
       "['74.0']    1.000000  0.000000  0.000000\n",
       "['76.0']    0.000000  0.000000  1.000000\n",
       "['8.0']     0.333333  0.666667  0.000000\n",
       "['80.0']    0.000000  0.000000  1.000000\n",
       "['9.0']     1.000000  0.000000  0.000000\n",
       "\n",
       "[98 rows x 3 columns]"
      ]
     },
     "execution_count": 48,
     "metadata": {},
     "output_type": "execute_result"
    }
   ],
   "source": [
    "pd.DataFrame(result.Vdata[\"pclass\"][\"cprob\"]).transpose()"
   ]
  },
  {
   "cell_type": "markdown",
   "metadata": {},
   "source": [
    "## Causal Reasoning"
   ]
  },
  {
   "cell_type": "code",
   "execution_count": 49,
   "metadata": {
    "collapsed": false
   },
   "outputs": [
    {
     "name": "stdout",
     "output_type": "stream",
     "text": [
      "0.371291866029\n",
      "0.663292523186\n",
      "0.415977933644\n"
     ]
    },
    {
     "data": {
      "text/plain": [
       "      sex  pclass  survived\n",
       "name  0    1       0            97\n",
       "                   1            53\n",
       "           2       0           135\n",
       "                   1            23\n",
       "           3       0           289\n",
       "                   1            59\n",
       "      1    1       0             5\n",
       "                   1           128\n",
       "           2       0            11\n",
       "                   1            92\n",
       "           3       0            80\n",
       "                   1            72\n",
       "dtype: int64"
      ]
     },
     "execution_count": 49,
     "metadata": {},
     "output_type": "execute_result"
    }
   ],
   "source": [
    "nd = NodeData()\n",
    "nd.Vdata = result.Vdata\n",
    "nd.alldata = None\n",
    "bn = DiscreteBayesianNetwork(skel, nd)\n",
    "\n",
    "# query alters tables\n",
    "tcpd = TableCPDFactorization(bn)\n",
    "print tcpd.specificquery(dict(sex=[1]), dict())\n",
    "\n",
    "tcpd = TableCPDFactorization(bn)\n",
    "print tcpd.specificquery(dict(sex=[1]), dict(survived=1))\n",
    "\n",
    "tcpd = TableCPDFactorization(bn)\n",
    "print tcpd.specificquery(dict(sex=[0],pclass=[3.0]), dict(survived=0))\n",
    "\n",
    "pd.pivot_table(titanic, values=[\"name\"], columns=[\"sex\", \"pclass\",\"survived\"], aggfunc=lambda x: len(x.unique()))"
   ]
  },
  {
   "cell_type": "markdown",
   "metadata": {},
   "source": [
    "## Learn Graph Structure"
   ]
  },
  {
   "cell_type": "code",
   "execution_count": 50,
   "metadata": {
    "collapsed": false
   },
   "outputs": [
    {
     "name": "stdout",
     "output_type": "stream",
     "text": [
      "[\n",
      "  [\n",
      "    \"age\", \n",
      "    \"pclass\"\n",
      "  ], \n",
      "  [\n",
      "    \"age\", \n",
      "    \"survived\"\n",
      "  ], \n",
      "  [\n",
      "    \"pclass\", \n",
      "    \"survived\"\n",
      "  ], \n",
      "  [\n",
      "    \"sex\", \n",
      "    \"survived\"\n",
      "  ]\n",
      "]\n",
      "[\n",
      "  \"sex\", \n",
      "  \"age\", \n",
      "  \"pclass\", \n",
      "  \"survived\"\n",
      "]\n"
     ]
    },
    {
     "data": {
      "image/png": "[encoded data removed]",
      "text/plain": [
       "<matplotlib.figure.Figure at 0x107327c90>"
      ]
     },
     "metadata": {},
     "output_type": "display_data"
    }
   ],
   "source": [
    "# instantiate my learner \n",
    "learner = PGMLearner()\n",
    "\n",
    "# estimate structure\n",
    "result = learner.lg_constraint_estimatestruct(data, indegree=1)\n",
    "\n",
    "# output\n",
    "print json.dumps(result.E, indent=2)\n",
    "print json.dumps(result.V, indent=2)\n",
    "\n",
    "G=nx.DiGraph()\n",
    "for f,t in result.E:\n",
    "    G.add_edge(f,t,weight=0.6)\n",
    "nx.draw_networkx(G, node_color='y',node_size=2000, width=3)\n",
    "plt.axis('off')\n",
    "plt.show()"
   ]
  },
  {
   "cell_type": "code",
   "execution_count": 51,
   "metadata": {
    "collapsed": true
   },
   "outputs": [],
   "source": [
    "## different model, so learn new parameters"
   ]
  },
  {
   "cell_type": "code",
   "execution_count": 52,
   "metadata": {
    "collapsed": false
   },
   "outputs": [],
   "source": [
    "skel = GraphSkeleton()\n",
    "skel.V = result.V\n",
    "skel.E = result.E\n",
    "skel.toporder()\n",
    "\n",
    "learner = PGMLearner()\n",
    "result = learner.discrete_mle_estimateparams(skel, data)"
   ]
  },
  {
   "cell_type": "markdown",
   "metadata": {},
   "source": [
    "## Queries with New Model"
   ]
  },
  {
   "cell_type": "code",
   "execution_count": 55,
   "metadata": {
    "collapsed": false
   },
   "outputs": [
    {
     "name": "stdout",
     "output_type": "stream",
     "text": [
      "0.371291866029\n",
      "0.636917029612\n",
      "0.408512668557\n"
     ]
    },
    {
     "data": {
      "text/plain": [
       "      sex  pclass  survived\n",
       "name  0    1       0            97\n",
       "                   1            53\n",
       "           2       0           135\n",
       "                   1            23\n",
       "           3       0           289\n",
       "                   1            59\n",
       "      1    1       0             5\n",
       "                   1           128\n",
       "           2       0            11\n",
       "                   1            92\n",
       "           3       0            80\n",
       "                   1            72\n",
       "dtype: int64"
      ]
     },
     "execution_count": 55,
     "metadata": {},
     "output_type": "execute_result"
    }
   ],
   "source": [
    "nd = NodeData()\n",
    "nd.Vdata = result.Vdata\n",
    "nd.alldata = None\n",
    "bn = DiscreteBayesianNetwork(skel, nd)\n",
    "\n",
    "# query alters tables\n",
    "tcpd = TableCPDFactorization(bn)\n",
    "print tcpd.specificquery(dict(sex=[1]), dict())\n",
    "\n",
    "tcpd = TableCPDFactorization(bn)\n",
    "print tcpd.specificquery(dict(sex=[1]), dict(survived=1))\n",
    "\n",
    "tcpd = TableCPDFactorization(bn)\n",
    "print tcpd.specificquery(dict(sex=[0],pclass=[3.0]), dict(survived=0))\n",
    "\n",
    "pd.pivot_table(titanic, values=[\"name\"], columns=[\"sex\", \"pclass\",\"survived\"], aggfunc=lambda x: len(x.unique()))"
   ]
  },
  {
   "cell_type": "code",
   "execution_count": null,
   "metadata": {
    "collapsed": true
   },
   "outputs": [],
   "source": []
  }
 ],
 "metadata": {
  "kernelspec": {
   "display_name": "Python 2",
   "language": "python",
   "name": "python2"
  },
  "language_info": {
   "codemirror_mode": {
    "name": "ipython",
    "version": 2
   },
   "file_extension": ".py",
   "mimetype": "text/x-python",
   "name": "python",
   "nbconvert_exporter": "python",
   "pygments_lexer": "ipython2",
   "version": "2.7.8"
  }
 },
 "nbformat": 4,
 "nbformat_minor": 0
}
