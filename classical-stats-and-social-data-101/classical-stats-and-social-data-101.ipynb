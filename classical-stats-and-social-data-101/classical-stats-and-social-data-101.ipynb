{
 "metadata": {
  "name": ""
 },
 "nbformat": 3,
 "nbformat_minor": 0,
 "worksheets": [
  {
   "cells": [
    {
     "cell_type": "markdown",
     "metadata": {},
     "source": [
      "#Outline\n",
      "* Motivate the use of the Binomial and Poisson distributions in social media analysis\n",
      "* Explore one hypothesis test: the p-value\n",
      "* Address shortcomings"
     ]
    },
    {
     "cell_type": "markdown",
     "metadata": {},
     "source": [
      "# The Binomial and Poisson distributions"
     ]
    },
    {
     "cell_type": "markdown",
     "metadata": {},
     "source": [
      "Consider a set of trials where, for each trial, something happens (a \"success\") or does not happen (a \"failure\").\n",
      "\n",
      "$p = $ probability of a success  \n",
      "$1-p = $ the probability of a failure  \n",
      "$N = $ number of trials\n",
      "\n",
      "The Binomial distribution is a function of the discrete variable $k$. Its value $B(k;p,N)$ give the probabilty of observing $k$ successes in $N$ trials, given success probability $p$. \n",
      "\n",
      "$B(k;p,N) = \\frac{N!}{k!(N-k)!}p^k(1-p)^{N-k}$\n",
      "\n",
      "As series of coin flips is a common process whose distribution of outcomes is described by the Binomial distribution with $p=0.5$.\n",
      "\n",
      "Let's start by looking at the exact distribution. Remember that this is a function of a _discrete_ variable."
     ]
    },
    {
     "cell_type": "code",
     "collapsed": false,
     "input": [
      "# matplotlib plots are placed inline\n",
      "%matplotlib inline  \n",
      "\n",
      "import matplotlib.pyplot as plt\n",
      "import numpy as np\n",
      "\n",
      "# use scipy.stats to define the distribution\n",
      "import scipy\n",
      "from scipy import stats\n",
      "\n",
      "N = 10 #number of coin flips in a set\n",
      "p = 0.5 # probability of head\n",
      "\n",
      "x = scipy.linspace(0,N,N+1) # create bins\n",
      "pmf = scipy.stats.binom.pmf(x,N,p) #pmf = probability mass function\n",
      "plt.bar(x,pmf)"
     ],
     "language": "python",
     "metadata": {},
     "outputs": [
      {
       "metadata": {},
       "output_type": "pyout",
       "prompt_number": 1,
       "text": [
        "<Container object of 11 artists>"
       ]
      },
      {
       "metadata": {},
       "output_type": "display_data",
       "png": "[encoded data removed]",
       "text": [
        "<matplotlib.figure.Figure at 0x10c9a4310>"
       ]
      }
     ],
     "prompt_number": 1
    },
    {
     "cell_type": "markdown",
     "metadata": {},
     "source": [
      "Now let's look at a histogram made from values randomly draw from the exact distribution. This histograms represents, for example, a finite-sized set of coin flips."
     ]
    },
    {
     "cell_type": "code",
     "collapsed": false,
     "input": [
      "N = 10 #number of coin flips in a set\n",
      "p = 0.5 # probability of head\n",
      "size = 50 # number of sets of coin flips\n",
      "np.random.binomial(N,p,size) # number of heads in a set of coin flips"
     ],
     "language": "python",
     "metadata": {},
     "outputs": [
      {
       "metadata": {},
       "output_type": "pyout",
       "prompt_number": 2,
       "text": [
        "array([7, 3, 3, 4, 3, 8, 6, 6, 6, 6, 4, 3, 4, 5, 6, 4, 6, 2, 4, 1, 6, 7, 2,\n",
        "       5, 3, 7, 7, 4, 4, 4, 5, 7, 3, 5, 3, 4, 7, 4, 7, 6, 6, 6, 5, 5, 2, 3,\n",
        "       4, 5, 6, 5])"
       ]
      }
     ],
     "prompt_number": 2
    },
    {
     "cell_type": "code",
     "collapsed": false,
     "input": [
      "data = np.random.binomial(N,p,500)\n",
      "n_bins = N\n",
      "binned_data, bins, patches = plt.hist(data, n_bins, range = (0,10), normed=True)\n"
     ],
     "language": "python",
     "metadata": {},
     "outputs": [
      {
       "metadata": {},
       "output_type": "display_data",
       "png": "[encoded data removed]",
       "text": [
        "<matplotlib.figure.Figure at 0x109fca1d0>"
       ]
      }
     ],
     "prompt_number": 3
    },
    {
     "cell_type": "markdown",
     "metadata": {},
     "source": [
      "Let's go back to the exact distribution and mess with the parameters. Be sure to adjust both the success probability and the number of trials."
     ]
    },
    {
     "cell_type": "code",
     "collapsed": false,
     "input": [
      "N = 100 #number of coin flips in a set\n",
      "p = 0.5 # probability of head\n",
      "\n",
      "x = scipy.linspace(0,N,N+1) # create bins\n",
      "pmf = scipy.stats.binom.pmf(x,N,p) #pmf = probability mass function\n",
      "plt.bar(x,pmf)"
     ],
     "language": "python",
     "metadata": {},
     "outputs": [
      {
       "metadata": {},
       "output_type": "pyout",
       "prompt_number": 4,
       "text": [
        "<Container object of 101 artists>"
       ]
      },
      {
       "metadata": {},
       "output_type": "display_data",
       "png": "[encoded data removed]",
       "text": [
        "<matplotlib.figure.Figure at 0x10d67e410>"
       ]
      }
     ],
     "prompt_number": 4
    },
    {
     "cell_type": "markdown",
     "metadata": {},
     "source": [
      "Now consider the limit where $p\\to 0$ and $N\\to\\infty$, but where $pN = \\nu$ stays constant. \n",
      "\n",
      "In this case, $\\nu$ is the number of \"successes\", or the number of any \"thing\" in a _large_ data set that appears with low relative frequency. This value $\\nu$ is the single parameter, called the _mean_, of the Poisson distribution. This distribution describes many phenomena, including many variables in social data.\n",
      "\n",
      "* 1 hour or tweets from the firehose $\\longrightarrow$ large $N$  \n",
      "* the probability of ProfileLocation = \"Boulder, Colorado, United States\" $\\longrightarrow$ small $p$\n",
      "\n",
      "So, the number of tweets with ProfileLocation = \"Boulder, Colorado, United States\" in a large sample of tweets will be described by the Poisson distribution with mean $\\nu$. \n",
      "\n",
      "The Poisson distribution is given by:\n",
      "\n",
      "$P(n;\\nu) = \\frac{\\nu^n e^{-\\nu}}{n!}$\n",
      "\n",
      "Let's look at the shape of the distribution:"
     ]
    },
    {
     "cell_type": "code",
     "collapsed": false,
     "input": [
      "nu = 3 # Poisson mean...the most likely value\n",
      "N = nu*3 # this simply sets a range; it is not a parameter of the distribution\n",
      "\n",
      "x = scipy.linspace(0,N,N+1) # create bins\n",
      "pmf = scipy.stats.poisson.pmf(x,nu) #pmf = probability mass function\n",
      "plt.bar(x,pmf)"
     ],
     "language": "python",
     "metadata": {},
     "outputs": [
      {
       "metadata": {},
       "output_type": "pyout",
       "prompt_number": 5,
       "text": [
        "<Container object of 10 artists>"
       ]
      },
      {
       "metadata": {},
       "output_type": "display_data",
       "png": "[encoded data removed]",
       "text": [
        "<matplotlib.figure.Figure at 0x10d67e910>"
       ]
      }
     ],
     "prompt_number": 5
    },
    {
     "cell_type": "markdown",
     "metadata": {},
     "source": [
      "Things to note:  \n",
      "\n",
      "* the distribution is a function of a discrete variable\n",
      "* the distribution has one continuous parameter\n",
      "* the distribution is asymmetric for small values of $\\nu$\n",
      "* the distribution becomes symmetric for large values of $\\nu$\n",
      "\n",
      "Conclusion: the Poisson distribution can be expected to model the frequency of observation of rare events. "
     ]
    },
    {
     "cell_type": "markdown",
     "metadata": {},
     "source": [
      "# Hypothesis Tests and p-values"
     ]
    },
    {
     "cell_type": "markdown",
     "metadata": {},
     "source": [
      "##Scientific method diversion\n",
      "\n",
      "The scientific method does not prove that a hypothesis is true/correct. Rather, hypotheses are disproved by experimental results that are inconsistent with the hypothesis.\n",
      "\n",
      "In many fields, consistency or inconsistency is a discrete state. For systems where the statistics of small numbers come into play, things are more complicated. We must define what _level of inconsistency_ constitutes the disproval of a hypothesis.\n",
      "\n",
      "## Hypothesis forms\n",
      "\n",
      "To quantitatively test a hypothesis, we need a quantitative hypothesis, and some data.\n",
      "\n",
      "Example hypotheses:  \n",
      "\n",
      "* the rate of tweets with ProfileLocation = \"Boulder, Colorado, United States\" is Poisson distributed with a mean of 4.5 / hour. \n",
      "* the rate of tweets with ProfileLocation = \"Boulder, Colorado, United States\" is Poisson distributed with a mean of 4.5 / 10k tweets. \n",
      "* the number of Twitter users with more than 1000 @-mentions in the past hour is normally distributed with mean 301 and sigma 20.\n",
      "\n",
      "*Complication:* note that the hypotheses specify the form of the data distribution, as well as numerical parameters of those distributions. So this is in some sense a composite, conditional hypothesis: we assume both the shape of the distribution and particular values for the parameters. \n",
      "\n",
      "For now, we'll assume that our _form_ is a well-founded hypothesis, and will not be tested. We will test hypotheses that are defined by the value of the Poisson mean.\n",
      "\n",
      "Now look at some data..."
     ]
    },
    {
     "cell_type": "code",
     "collapsed": false,
     "input": [
      "# define a function that counts the number of \"Boulder, Colorado, United States\" entries \n",
      "# in a file containing ProfileLocation strings \n",
      "def count_boulders(file_name):\n",
      "    f = open(file_name)\n",
      "    boulder_counter = 0\n",
      "    for line in f:\n",
      "        if 'Boulder, Colorado, United States' in line:\n",
      "            boulder_counter += 1\n",
      "    return boulder_counter"
     ],
     "language": "python",
     "metadata": {},
     "outputs": [],
     "prompt_number": 6
    },
    {
     "cell_type": "markdown",
     "metadata": {},
     "source": [
      "The files 'locations.X.txt', where 1<=X<=12, each contain the ProfileLocation strings from 10k tweets. "
     ]
    },
    {
     "cell_type": "code",
     "collapsed": false,
     "input": [
      "print('{} tweets from Boulder'.format(count_boulders('locations.1.txt')))"
     ],
     "language": "python",
     "metadata": {},
     "outputs": [
      {
       "output_type": "stream",
       "stream": "stdout",
       "text": [
        "4 tweets from Boulder\n"
       ]
      }
     ],
     "prompt_number": 7
    },
    {
     "cell_type": "markdown",
     "metadata": {},
     "source": [
      "The value 4 seems like a good first hypothesis. When put into a Poisson distribution, our hypothesis for the distribution of the number of Boulder tweets in 10k tweets is:"
     ]
    },
    {
     "cell_type": "code",
     "collapsed": false,
     "input": [
      "nu = 4 # Poisson mean...the most likely value\n",
      "N = nu*3 # this simply sets a range; it is not a parameter of the distribution\n",
      "\n",
      "x = scipy.linspace(0,N,N+1) # create bins\n",
      "pmf = scipy.stats.poisson.pmf(x,nu) #pmf = probability mass function\n",
      "plt.bar(x,pmf)"
     ],
     "language": "python",
     "metadata": {},
     "outputs": [
      {
       "metadata": {},
       "output_type": "pyout",
       "prompt_number": 8,
       "text": [
        "<Container object of 13 artists>"
       ]
      },
      {
       "metadata": {},
       "output_type": "display_data",
       "png": "[encoded data removed]",
       "text": [
        "<matplotlib.figure.Figure at 0x10d88dc90>"
       ]
      }
     ],
     "prompt_number": 8
    },
    {
     "cell_type": "markdown",
     "metadata": {},
     "source": [
      "The distribution is normalized to unit area, so that probabilities for individual bins can be read off the plot. The probability of observing 0 Boulder tweets in 10k is ~2%, while observing 6 is about 10% probable.\n",
      "\n",
      "## The p-value\n",
      "\n",
      "The p-value is defined for a hypothesis and a single experimental result. It is the total probablility, under the given hypothesis, of observing a result as likely or less likely than the actual observation. In its simplest form, this corresponds to integrating the tail of the distribution at and beyond the observed value.\n",
      "\n",
      "In many fields of science, the observation of a result with a p-value of less than 0.05 is considered a disproval of the hypothesis."
     ]
    },
    {
     "cell_type": "code",
     "collapsed": false,
     "input": [
      "# define a function that returns the p-value for a Poisson distribution with mean nu and observed value x\n",
      "def p_value_poisson(nu,x_obs):\n",
      "    dist = scipy.stats.poisson(nu)\n",
      "    return 1-dist.cdf(x_obs-1) # cdf = cumulative distribution function...integrates from 0 up to x\n",
      "\n",
      "print(p_value_poisson(5,10)) # probability of observing 10,11,12... when the true mean is 5\n",
      "print(p_value_poisson(4,5)) # probability of observing 5,6,7,8... when the true mean is 4\n"
     ],
     "language": "python",
     "metadata": {},
     "outputs": [
      {
       "output_type": "stream",
       "stream": "stdout",
       "text": [
        "0.0318280573062\n",
        "0.37116306482\n"
       ]
      }
     ],
     "prompt_number": 9
    },
    {
     "cell_type": "markdown",
     "metadata": {},
     "source": [
      "Is this a good hypothesis test? Let's use the mean estimated from 'locations.1.txt', and test the p-value of 'locations.2.txt'."
     ]
    },
    {
     "cell_type": "code",
     "collapsed": false,
     "input": [
      "print('{} boulder tweets in {}'.format(count_boulders('locations.1.txt'),'locations.1.txt'))\n",
      "print('{} boulder tweets in {}'.format(count_boulders('locations.2.txt'),'locations.2.txt'))\n",
      "\n",
      "p_value_poisson(count_boulders('locations.1.txt'),count_boulders('locations.2.txt'))"
     ],
     "language": "python",
     "metadata": {},
     "outputs": [
      {
       "output_type": "stream",
       "stream": "stdout",
       "text": [
        "4 boulder tweets in locations.1.txt\n",
        "8 boulder tweets in locations.2.txt\n"
       ]
      },
      {
       "metadata": {},
       "output_type": "pyout",
       "prompt_number": 10,
       "text": [
        "0.051133615792847253"
       ]
      }
     ],
     "prompt_number": 10
    },
    {
     "cell_type": "markdown",
     "metadata": {},
     "source": [
      "This says that, under our hypothesis of $\\nu=4$, there is a 5% probability of observing a result like or less likely than that observed in 'locations.2.txt'. Is our hypothesis disproved? Let's look at the of p-values for an ensemble of 10k sets of tweets"
     ]
    },
    {
     "cell_type": "code",
     "collapsed": false,
     "input": [
      "for file_number in range(1,12):\n",
      "    file_name = 'locations.' + str(file_number) + '.txt'\n",
      "    print('{} boulder tweets -> p_value: {}'.format(count_boulders(file_name),p_value_poisson(4,count_boulders(file_name))))\n",
      "    "
     ],
     "language": "python",
     "metadata": {},
     "outputs": [
      {
       "output_type": "stream",
       "stream": "stdout",
       "text": [
        "4 boulder tweets -> p_value: 0.566529879633\n",
        "8 boulder tweets -> p_value: 0.0511336157928\n",
        "0 boulder tweets -> p_value: 1.0\n",
        "1 boulder tweets -> p_value: 0.981684361111\n",
        "1 boulder tweets -> p_value: 0.981684361111\n",
        "1 boulder tweets -> p_value: 0.981684361111\n",
        "1 boulder tweets -> p_value: 0.981684361111\n",
        "0 boulder tweets -> p_value: 1.0\n",
        "0 boulder tweets -> p_value: 1.0\n",
        "0 boulder tweets -> p_value: 1.0\n",
        "0 boulder tweets -> p_value: 1.0\n"
       ]
      }
     ],
     "prompt_number": 11
    },
    {
     "cell_type": "markdown",
     "metadata": {},
     "source": [
      "It turns out that we based our hypothesis on a relatively uncommon frequency of Boulder tweets. And we tested this hypothesis with a set of data from 'locations.2.txt' which turn out to be even more uncommon.\n",
      "\n",
      "Let's make a few improvements:   \n",
      "\n",
      "* get slightly larger numbers by counting tweets from Boulder in 50k tweet buckets\n",
      "* calculate $\\nu$ from the first 10 buckets.\n",
      "* calculate the p-values for the remaining buckets\n",
      "\n",
      "\n",
      "These data can be found in 'num_boulder_50k.txt', where each line gives the number of tweets from Boulder in a 50k tweet bucket."
     ]
    },
    {
     "cell_type": "code",
     "collapsed": false,
     "input": [
      "line_counter = 0\n",
      "count_values = [] # array of number of Boulder tweets\n",
      "p_values = [] # array of p-values\n",
      "sum_of_boulder_tweets = 0 # used to get average number of Boulder tweets from first 10 values\n",
      "for line in open('num_boulder_50k.txt'):\n",
      "    if line_counter < 10:\n",
      "        sum_of_boulder_tweets += float(line)\n",
      "    else:\n",
      "        mean = sum_of_boulder_tweets/10\n",
      "        count_values.append(int(line))\n",
      "        p_values.append( p_value_poisson(mean,int(line)) )\n",
      "    line_counter += 1\n",
      "    \n",
      "print('\\nestimate for nu is {}\\n'.format(mean))\n"
     ],
     "language": "python",
     "metadata": {},
     "outputs": [
      {
       "output_type": "stream",
       "stream": "stdout",
       "text": [
        "\n",
        "estimate for nu is 1.8\n",
        "\n"
       ]
      }
     ],
     "prompt_number": 12
    },
    {
     "cell_type": "code",
     "collapsed": false,
     "input": [
      "# construct Poisson distribution and overlay it with the observed data\n",
      "N = 10\n",
      "x = scipy.linspace(0,N,N+1) # create bins\n",
      "pmf = scipy.stats.poisson.pmf(x,mean) #pmf = probability mass function\n",
      "plt.bar(x,pmf,color='yellow')\n",
      "plt.hist(count_values, N, range = (0,10), normed=True, histtype='step')"
     ],
     "language": "python",
     "metadata": {},
     "outputs": [
      {
       "metadata": {},
       "output_type": "pyout",
       "prompt_number": 13,
       "text": [
        "(array([ 0.23853211,  0.26605505,  0.23853211,  0.14678899,  0.06422018,\n",
        "        0.01834862,  0.        ,  0.02752294,  0.        ,  0.        ]),\n",
        " array([  0.,   1.,   2.,   3.,   4.,   5.,   6.,   7.,   8.,   9.,  10.]),\n",
        " <a list of 1 Patch objects>)"
       ]
      },
      {
       "metadata": {},
       "output_type": "display_data",
       "png": "[encoded data removed]",
       "text": [
        "<matplotlib.figure.Figure at 0x10d891310>"
       ]
      }
     ],
     "prompt_number": 13
    },
    {
     "cell_type": "code",
     "collapsed": false,
     "input": [
      "# now show the p-values\n",
      "print('printing {} p-values:\\n'.format(len(p_values)))\n",
      "for val in sorted(p_values):\n",
      "    print(val)\n"
     ],
     "language": "python",
     "metadata": {},
     "outputs": [
      {
       "output_type": "stream",
       "stream": "stdout",
       "text": [
        "printing 109 p-values:\n",
        "\n",
        "0.00256944962568\n",
        "0.00256944962568\n",
        "0.00256944962568\n",
        "0.0364066610011\n",
        "0.0364066610011\n",
        "0.108708394709\n",
        "0.108708394709\n",
        "0.108708394709\n",
        "0.108708394709\n",
        "0.108708394709\n",
        "0.108708394709\n",
        "0.108708394709\n",
        "0.269378914061\n",
        "0.269378914061\n",
        "0.269378914061\n",
        "0.269378914061\n",
        "0.269378914061\n",
        "0.269378914061\n",
        "0.269378914061\n",
        "0.269378914061\n",
        "0.269378914061\n",
        "0.269378914061\n",
        "0.269378914061\n",
        "0.269378914061\n",
        "0.269378914061\n",
        "0.269378914061\n",
        "0.269378914061\n",
        "0.269378914061\n",
        "0.53716311298\n",
        "0.53716311298\n",
        "0.53716311298\n",
        "0.53716311298\n",
        "0.53716311298\n",
        "0.53716311298\n",
        "0.53716311298\n",
        "0.53716311298\n",
        "0.53716311298\n",
        "0.53716311298\n",
        "0.53716311298\n",
        "0.53716311298\n",
        "0.53716311298\n",
        "0.53716311298\n",
        "0.53716311298\n",
        "0.53716311298\n",
        "0.53716311298\n",
        "0.53716311298\n",
        "0.53716311298\n",
        "0.53716311298\n",
        "0.53716311298\n",
        "0.53716311298\n",
        "0.53716311298\n",
        "0.53716311298\n",
        "0.53716311298\n",
        "0.53716311298\n",
        "0.834701111778\n",
        "0.834701111778\n",
        "0.834701111778\n",
        "0.834701111778\n",
        "0.834701111778\n",
        "0.834701111778\n",
        "0.834701111778\n",
        "0.834701111778\n",
        "0.834701111778\n",
        "0.834701111778\n",
        "0.834701111778\n",
        "0.834701111778\n",
        "0.834701111778\n",
        "0.834701111778\n",
        "0.834701111778\n",
        "0.834701111778\n",
        "0.834701111778\n",
        "0.834701111778\n",
        "0.834701111778\n",
        "0.834701111778\n",
        "0.834701111778\n",
        "0.834701111778\n",
        "0.834701111778\n",
        "0.834701111778\n",
        "0.834701111778\n",
        "0.834701111778\n",
        "0.834701111778\n",
        "0.834701111778\n",
        "0.834701111778\n",
        "1.0\n",
        "1.0\n",
        "1.0\n",
        "1.0\n",
        "1.0\n",
        "1.0\n",
        "1.0\n",
        "1.0\n",
        "1.0\n",
        "1.0\n",
        "1.0\n",
        "1.0\n",
        "1.0\n",
        "1.0\n",
        "1.0\n",
        "1.0\n",
        "1.0\n",
        "1.0\n",
        "1.0\n",
        "1.0\n",
        "1.0\n",
        "1.0\n",
        "1.0\n",
        "1.0\n",
        "1.0\n",
        "1.0\n"
       ]
      }
     ],
     "prompt_number": 14
    },
    {
     "cell_type": "markdown",
     "metadata": {},
     "source": [
      "\n"
     ]
    },
    {
     "cell_type": "markdown",
     "metadata": {},
     "source": [
      "## Some thoughts to think\n",
      "\n",
      "We've made some assumptions:\n",
      "\n",
      "* the value of $\\nu$ is not changing over the time period during which our samples were taken.\n",
      "    * all tweets are actually from hour 00 on Mondays in May 2014\n",
      "\n",
      "We could also use a more sophisticated estimation method for $\\nu$, but this won't significantly change the hypothesis\n",
      "\n",
      "For a sufficiently large number of results, there will ALWAYS be some with arbitrarily small p-values. So how do we disprove hypotheses?\n",
      "\n",
      "We can account for multiple trials with the look-elsewhere effect:  \n",
      "\n",
      "* this is a correction factor to the p-values which account the fact that looking in lots of places leads to improbable results\n",
      "* but it assumes the trials are completely independant\n",
      "\n",
      "Wouldn't it make more sense to use the output of one trial to influence subsequent results based on subsequent trials? "
     ]
    },
    {
     "cell_type": "code",
     "collapsed": false,
     "input": [],
     "language": "python",
     "metadata": {},
     "outputs": []
    }
   ],
   "metadata": {}
  }
 ]
}