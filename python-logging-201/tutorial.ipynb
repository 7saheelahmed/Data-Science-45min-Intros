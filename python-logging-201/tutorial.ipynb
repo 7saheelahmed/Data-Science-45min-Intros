{
 "metadata": {
  "name": "",
  "signature": "sha256:77e0fcd35e200acc0d1c28b08602b5934dd3b36080dbcbb43db550931ea8095e"
 },
 "nbformat": 3,
 "nbformat_minor": 0,
 "worksheets": [
  {
   "cells": [
    {
     "cell_type": "markdown",
     "metadata": {},
     "source": [
      "# Outline\n",
      "- create a dummy software package\n",
      "- add basic logging\n",
      "- elements of the logging package\n",
      "- advanced logging"
     ]
    },
    {
     "cell_type": "markdown",
     "metadata": {},
     "source": [
      "# Create a software \"package\"\n",
      "\n",
      "Inspired by the `python-oop` tutorial in this repo, let's create a class heirachy around pets. "
     ]
    },
    {
     "cell_type": "code",
     "collapsed": false,
     "input": [
      "import sys"
     ],
     "language": "python",
     "metadata": {},
     "outputs": [],
     "prompt_number": 1
    },
    {
     "cell_type": "code",
     "collapsed": false,
     "input": [
      "class Pet():\n",
      "    def __init__(self, **kwargs):\n",
      "        sys.stderr.write(\"Must not instantiate the base class 'Pet'! Exiting...\")\n",
      "        sys.exit()        \n",
      "\n",
      "    def talk(self):\n",
      "        sys.stdout.write(\"{}\\n\".format(self.word))\n",
      "        \n",
      "    def get_bio(self):\n",
      "        animal = self.__class__.__name__\n",
      "        sys.stdout.write(\"This pet is a {0} named {1}. It has {2} legs.\".format(animal,self.name,self.legs))\n",
      "        \n",
      "class Cat(Pet):\n",
      "    def __init__(self, **kwargs):\n",
      "        # default values\n",
      "        self.name = \"Tom\"\n",
      "        self.word = \"Meow\"\n",
      "        self.legs = 4\n",
      "        \n",
      "        [setattr(self,k,v) for k,v in kwargs.items()]\n",
      "        \n",
      "class Dog(Pet):\n",
      "    def __init__(self, **kwargs):\n",
      "        # default values\n",
      "        self.name = \"Fido\"\n",
      "        self.word = \"Arf!\"\n",
      "        self.legs = 4\n",
      "        \n",
      "        [setattr(self,k,v) for k,v in kwargs.items()]\n",
      "              \n",
      "class Snake(Pet):\n",
      "    def __init__(self, **kwargs):\n",
      "        # default values\n",
      "        self.name = \"Voltemort\"\n",
      "        self.word = \"Sssss\"\n",
      "        self.legs = 0\n",
      "        \n",
      "        [setattr(self,k,v) for k,v in kwargs.items()]\n",
      "                "
     ],
     "language": "python",
     "metadata": {},
     "outputs": [],
     "prompt_number": 2
    },
    {
     "cell_type": "markdown",
     "metadata": {},
     "source": [
      "Now we create a few pet objects."
     ]
    },
    {
     "cell_type": "code",
     "collapsed": false,
     "input": [
      "c = Cat()\n",
      "c.get_bio()"
     ],
     "language": "python",
     "metadata": {},
     "outputs": [
      {
       "output_type": "stream",
       "stream": "stdout",
       "text": [
        "This pet is a Cat named Tom. It has 4 legs."
       ]
      }
     ],
     "prompt_number": 3
    },
    {
     "cell_type": "code",
     "collapsed": false,
     "input": [
      "d = Dog(name=\"Lassie\")\n",
      "d.get_bio()"
     ],
     "language": "python",
     "metadata": {},
     "outputs": [
      {
       "output_type": "stream",
       "stream": "stdout",
       "text": [
        "This pet is a Dog named Lassie. It has 4 legs."
       ]
      }
     ],
     "prompt_number": 4
    },
    {
     "cell_type": "code",
     "collapsed": false,
     "input": [
      "s_1 = Snake()\n",
      "s_2 = Snake(word=\"Ss\")\n",
      "s_1.talk()\n",
      "print(\"The second snake says: {}\".format(s_2.word))"
     ],
     "language": "python",
     "metadata": {},
     "outputs": [
      {
       "output_type": "stream",
       "stream": "stdout",
       "text": [
        "Sssss\n",
        "The second snake says: Ss\n"
       ]
      }
     ],
     "prompt_number": 5
    },
    {
     "cell_type": "code",
     "collapsed": false,
     "input": [
      "def the_pets_speak(list_of_pets):\n",
      "    sys.stdout.write(\"The pets will speak now:\\n\")\n",
      "    for pet in list_of_pets:\n",
      "        pet.talk()"
     ],
     "language": "python",
     "metadata": {},
     "outputs": [],
     "prompt_number": 6
    },
    {
     "cell_type": "code",
     "collapsed": false,
     "input": [
      "list_of_pets = [c,d,s_1,s_2]\n",
      "the_pets_speak(list_of_pets)"
     ],
     "language": "python",
     "metadata": {},
     "outputs": [
      {
       "output_type": "stream",
       "stream": "stdout",
       "text": [
        "The pets will speak now:\n",
        "Meow\n",
        "Arf!\n",
        "Sssss\n",
        "Ss\n"
       ]
      }
     ],
     "prompt_number": 7
    },
    {
     "cell_type": "markdown",
     "metadata": {},
     "source": [
      "# Basic Logging\n",
      "Now we add some basic logging. You've likely seen some of this before.\n",
      "\n",
      "Before we go anywhere, remember the level hierarchy, ordered by diminishing severity:\n",
      "\n",
      " - CRITICAL\n",
      " - ERROR\n",
      " - WARNING\n",
      " - INFO\n",
      " - DEBUG"
     ]
    },
    {
     "cell_type": "code",
     "collapsed": false,
     "input": [
      "import logging\n",
      "\n",
      "logging.info(\"test info msg\")"
     ],
     "language": "python",
     "metadata": {},
     "outputs": [],
     "prompt_number": 19
    },
    {
     "cell_type": "code",
     "collapsed": false,
     "input": [
      "logging.warning(\"test warning msg\")"
     ],
     "language": "python",
     "metadata": {},
     "outputs": [
      {
       "output_type": "stream",
       "stream": "stderr",
       "text": [
        "WARNING:root:test warning msg\n"
       ]
      }
     ],
     "prompt_number": 20
    },
    {
     "cell_type": "markdown",
     "metadata": {},
     "source": [
      "In the two call just made, one printed its message to STDOUT, while the other seemed to do nothing. What's going on?\n",
      "\n",
      "Calls the the module-level functions `debug`, `info`, `warning`, etc make implicit calls to the function `logging.basicConfig`. This initiates the \"root logger\", and configures it to do a minimal set of useful things, including streaming certain messages to the console. The default severity level (below which messages are not passed on) is WARNING, which explains why the INFO-level message was not displayed.\n",
      "\n",
      "Let's explicitly access the root logger and change the level.\n",
      "\n",
      "Specific loggers are generated by a factory function: `logging.getLogger(\"MY_LOGGER_NAME\")`. Subsequent calls to the same function from within the same Python application will always return the SAME Logger object."
     ]
    },
    {
     "cell_type": "code",
     "collapsed": false,
     "input": [
      "# get a named logger from the logger factory\n",
      "logr = logging.getLogger(\"root\")\n",
      "\n",
      "# note: \"getLogger\"\n",
      "# - is a module-level function\n",
      "# - always returns the same object for a given argument\n",
      "# - is camel-cased"
     ],
     "language": "python",
     "metadata": {},
     "outputs": [],
     "prompt_number": 21
    },
    {
     "cell_type": "code",
     "collapsed": false,
     "input": [
      "# let's see what this thing is\n",
      "dir(logr)"
     ],
     "language": "python",
     "metadata": {},
     "outputs": [
      {
       "metadata": {},
       "output_type": "pyout",
       "prompt_number": 22,
       "text": [
        "['__class__',\n",
        " '__delattr__',\n",
        " '__dict__',\n",
        " '__doc__',\n",
        " '__format__',\n",
        " '__getattribute__',\n",
        " '__hash__',\n",
        " '__init__',\n",
        " '__module__',\n",
        " '__new__',\n",
        " '__reduce__',\n",
        " '__reduce_ex__',\n",
        " '__repr__',\n",
        " '__setattr__',\n",
        " '__sizeof__',\n",
        " '__str__',\n",
        " '__subclasshook__',\n",
        " '__weakref__',\n",
        " '_log',\n",
        " 'addFilter',\n",
        " 'addHandler',\n",
        " 'callHandlers',\n",
        " 'critical',\n",
        " 'debug',\n",
        " 'disabled',\n",
        " 'error',\n",
        " 'exception',\n",
        " 'fatal',\n",
        " 'filter',\n",
        " 'filters',\n",
        " 'findCaller',\n",
        " 'getChild',\n",
        " 'getEffectiveLevel',\n",
        " 'handle',\n",
        " 'handlers',\n",
        " 'info',\n",
        " 'isEnabledFor',\n",
        " 'level',\n",
        " 'log',\n",
        " 'makeRecord',\n",
        " 'manager',\n",
        " 'name',\n",
        " 'parent',\n",
        " 'propagate',\n",
        " 'removeFilter',\n",
        " 'removeHandler',\n",
        " 'root',\n",
        " 'setLevel',\n",
        " 'warn',\n",
        " 'warning']"
       ]
      }
     ],
     "prompt_number": 22
    },
    {
     "cell_type": "code",
     "collapsed": false,
     "input": [
      "# Now we'll set it level and test.\n",
      "logr.setLevel(\"INFO\")\n",
      "\n",
      "logr.info(\"test info msg\")\n",
      "logging.warning(\"test warning msg\")"
     ],
     "language": "python",
     "metadata": {},
     "outputs": [
      {
       "output_type": "stream",
       "stream": "stderr",
       "text": [
        "INFO:root:test info msg\n"
       ]
      },
      {
       "output_type": "stream",
       "stream": "stderr",
       "text": [
        "WARNING:root:test warning msg\n"
       ]
      }
     ],
     "prompt_number": 23
    },
    {
     "cell_type": "markdown",
     "metadata": {},
     "source": [
      "Great! It works. \n",
      "\n",
      "Note the tricksery: I called the `info` method of the Logger object named `logr`, but I called the `warning` method of the module called `logging`. Yet they both were handled by the same (root) logger.\n",
      "\n",
      "\n",
      "# Elements of the Logging Package\n",
      "\n",
      "- [LogRecord](https://docs.python.org/2/library/logging.html#logrecord-attributes) objects: encapsulate a logging message and its attributes like timestamp, level, etc.\n",
      "- [Logger](https://docs.python.org/2/library/logging.html#logger-objects) objects: container for LogRecord, which are retained or dropped according to the Logger's level. Loggers can have hierarchical relationships. \n",
      "- [Filter](https://docs.python.org/2/library/logging.html#filter-objects) objects: implements the rejection of LogRecord objects in Loggers, based on LogRecord level OR other criteria.\n",
      "- [Handler](https://docs.python.org/2/library/logging.handlers.html#module-logging.handlers) objects: affiliated with one or more Loggers; one base class, many derived classes, such as StreamHandler and FileHandle\n",
      "- [Formatter](https://docs.python.org/2/library/logging.html#formatter-objects) objects: affiliated with one or more Handlers; they define the output content and format\n",
      "\n",
      "\n",
      "You can think of the message path as a series of possible rejections: "
     ]
    },
    {
     "cell_type": "code",
     "collapsed": false,
     "input": [
      "from IPython.display import Image\n",
      "Image(\"https://docs.python.org/2/_images/logging_flow.png\")"
     ],
     "language": "python",
     "metadata": {},
     "outputs": [
      {
       "metadata": {},
       "output_type": "pyout",
       "png": "[encoded data removed]",
       "prompt_number": 24,
       "text": [
        "<IPython.core.display.Image at 0x10a8b1590>"
       ]
      }
     ],
     "prompt_number": 24
    },
    {
     "cell_type": "markdown",
     "metadata": {},
     "source": [
      "The `logging.basicConfig` function configures a Logger object named `root`, and affiliates it with a Handler and that Handler with a Formatter. \n",
      "\n",
      "Let's explicitly build a system that replicates this behavior: "
     ]
    },
    {
     "cell_type": "code",
     "collapsed": false,
     "input": [
      "# get the logger from the factory\n",
      "snarf = logging.getLogger(\"my_logger_named_snarf\")\n",
      "# make a handler\n",
      "snarfs_handler = logging.StreamHandler()\n",
      "snarfs_handler.setLevel(logging.INFO)\n",
      "# make a formatter with the magic syntax sauce\n",
      "snarfs_handlers_formatter = logging.Formatter(\"%(levelname)s:%(name)s:%(message)s\")\n",
      "\n",
      "# associate everything\n",
      "snarfs_handler.setFormatter(snarfs_handlers_formatter)\n",
      "snarf.addHandler(snarfs_handler)"
     ],
     "language": "python",
     "metadata": {},
     "outputs": [],
     "prompt_number": 34
    },
    {
     "cell_type": "code",
     "collapsed": false,
     "input": [
      "snarf.debug(\"test debug\")\n",
      "snarf.info(\"test info\")\n",
      "snarf.warning(\"test warning\")"
     ],
     "language": "python",
     "metadata": {},
     "outputs": [
      {
       "output_type": "stream",
       "stream": "stderr",
       "text": [
        "WARNING:my_logger_named_snarf:test warning\n"
       ]
      },
      {
       "output_type": "stream",
       "stream": "stderr",
       "text": [
        "WARNING:my_logger_named_snarf:test warning\n"
       ]
      }
     ],
     "prompt_number": 36
    },
    {
     "cell_type": "markdown",
     "metadata": {},
     "source": [
      "Yeah!"
     ]
    },
    {
     "cell_type": "markdown",
     "metadata": {},
     "source": [
      "# Advanced Logging\n",
      "\n",
      "Let's do the following:\n",
      "\n",
      "- "
     ]
    },
    {
     "cell_type": "code",
     "collapsed": false,
     "input": [],
     "language": "python",
     "metadata": {},
     "outputs": []
    }
   ],
   "metadata": {}
  }
 ]
}