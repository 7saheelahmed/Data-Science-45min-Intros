{
 "cells": [
  {
   "cell_type": "markdown",
   "metadata": {},
   "source": [
    "A notebook to evalute various estimators of the number of distinct classes in a population. \n",
    "\n",
    "Intended to supplement the readings *On the Estimation of the Number of Classes* in a Population by Leo A Goodman and *The Population Frequencies of Species and the Estimation of Population Parameters* by I. J. Good"
   ]
  },
  {
   "cell_type": "code",
   "execution_count": null,
   "metadata": {
    "collapsed": false
   },
   "outputs": [],
   "source": [
    "from __future__ import division\n",
    "import numpy as np\n",
    "from scipy.misc import comb\n",
    "from numpy import random as np_random\n",
    "from collections import Counter\n",
    "from random import sample, choice\n",
    "from math import factorial, log, exp\n",
    "import fileinput\n",
    "import matplotlib.pyplot as plt\n",
    "%matplotlib inline"
   ]
  },
  {
   "cell_type": "code",
   "execution_count": null,
   "metadata": {
    "collapsed": false
   },
   "outputs": [],
   "source": [
    "# make a population with classes that are Poisson distributed\n",
    "l = 10\n",
    "pop_size = 10000\n",
    "population = list(np_random.poisson(lam = l, size = pop_size))\n",
    "percent_sample = 1\n",
    "\n",
    "print \"For a {}% sample of a Poisson({}) population of size {}: \\n\".format(percent_sample, l, pop_size)"
   ]
  },
  {
   "cell_type": "code",
   "execution_count": null,
   "metadata": {
    "collapsed": false
   },
   "outputs": [],
   "source": [
    "# make a population with classes that are Poisson distributed\n",
    "pop_size = 10000\n",
    "population = [choice(range(0,100)) for x in range(0,pop_size)]\n",
    "percent_sample = 1\n",
    "\n",
    "print \"For a {}% sample of a Uniform (integers 1 through 100) population of size {}: \\n\".format(percent_sample, l, pop_size)"
   ]
  },
  {
   "cell_type": "code",
   "execution_count": null,
   "metadata": {
    "collapsed": false,
    "scrolled": true
   },
   "outputs": [],
   "source": [
    "# generate samples and print out info about the population\n",
    "print \"\\n The exact population demographics:\"\n",
    "pop_demographic = sorted(Counter(population).items(), key=lambda x: x[0])\n",
    "for key, value in pop_demographic:\n",
    "    print \"    {} items of class {}\".format(str(value).ljust(5), key)\n",
    "\n",
    "print \"\\n The demographics of the hypergeometric sample population:\"\n",
    "exactly_10_percent_sample = sample(population,int(pop_size*percent_sample/100))\n",
    "n = len(exactly_10_percent_sample)\n",
    "exactly_10_demographic_sample_only = Counter(exactly_10_percent_sample)\n",
    "exactly_10_demographic = Counter(exactly_10_percent_sample)\n",
    "for key in [x[0] for x in pop_demographic]:\n",
    "    if key not in exactly_10_demographic.keys():\n",
    "        exactly_10_demographic[key] = 0\n",
    "exactly_10_demographic = sorted(exactly_10_demographic.items(), key=lambda x: x[0])\n",
    "for key, value in exactly_10_demographic:\n",
    "    print \"    {} items of class {}\".format(str(value).ljust(5), key)\n",
    "print \" If the statistic x_{i} is the number of classes with i elements in the sample:\"\n",
    "x_counts_exact = sorted(Counter([x[1] for x in exactly_10_demographic]).items(), key=lambda x: x[0])\n",
    "for count, val in x_counts_exact:\n",
    "    print \"    {} classes appear {} times in the sample, x_{} = {}\".format(val, count, count, val)\n",
    "print \" So the observable vector x for this sample is \" \n",
    "print \" (recall that the number of classes appearing 0 times in the sample is not observable):\"\n",
    "x_vec = [0 for x in range(0,max([x[0] for x in x_counts_exact]))]\n",
    "for x in x_counts_exact:\n",
    "    if x[0] != 0:\n",
    "        x_vec[x[0]-1] = x[1]\n",
    "x_padded = np.pad(np.array(x_vec),(0,n-len(x_vec)),mode='constant',constant_values=0)\n",
    "print x_vec"
   ]
  },
  {
   "cell_type": "code",
   "execution_count": null,
   "metadata": {
    "collapsed": false
   },
   "outputs": [],
   "source": [
    "fig, ax = plt.subplots()\n",
    "ax.bar(range(1,len(x_vec) + 1), x_vec, .45)\n",
    "ax.bar([0.05], [x_counts_exact[0][1]], .45, color = 'gray')\n",
    "ax.set_xticks([t + .22 for t in range(0,len(x_vec) + 1)])\n",
    "ax.set_xticklabels(range(0,len(x_vec) + 1))\n",
    "plt.ylabel(\"# of classes appearing x times in the sample\")\n",
    "plt.xlabel(\"x\")\n",
    "#plt.title(\"Histogram of x\")"
   ]
  },
  {
   "cell_type": "code",
   "execution_count": null,
   "metadata": {
    "collapsed": false
   },
   "outputs": [],
   "source": [
    "'''\n",
    "eq_matrix = np.zeros((n,n))\n",
    "for i in xrange(0,n+1):\n",
    "    for j in xrange(0,n+1):\n",
    "        eq_matrix[i,j] = comb(i,j)*comb((pop_size - j), (n - i))/comb(pop_size, n)\n",
    "\n",
    "s_vec = np.linalg.solve(eq_matrix,x_padded)\n",
    "sum(s_vec)\n",
    "'''"
   ]
  },
  {
   "cell_type": "code",
   "execution_count": null,
   "metadata": {
    "collapsed": false
   },
   "outputs": [],
   "source": [
    "# calculate the unbiased estimator S\n",
    "S = 0\n",
    "for i in xrange(1, n + 1):\n",
    "    x_i = x_padded[i - 1]\n",
    "    if x_i != 0:\n",
    "        sign = (-1)**(i+1)\n",
    "        log_numerator = sum([log(h) for h in range(pop_size - n, pop_size - n + i - 1 + 1)])\n",
    "        log_denominator = sum([log(k) for k in range(n - i, n - i + 1)])\n",
    "        # print x_i + sign*exp(log_numerator/log_denominator)*x_i\n",
    "        S += x_i + sign*exp(log_numerator/log_denominator)*x_i\n",
    "print \"The estimated number of total classes in the population is {}\".format(S)"
   ]
  },
  {
   "cell_type": "code",
   "execution_count": null,
   "metadata": {
    "collapsed": false
   },
   "outputs": [],
   "source": [
    "pop_size"
   ]
  },
  {
   "cell_type": "code",
   "execution_count": null,
   "metadata": {
    "collapsed": false
   },
   "outputs": [],
   "source": [
    "# calculate the biased estimator S'\n",
    "S_1 = pop_size - ((pop_size)*(pop_size - 1))/((n)*(n - 1))*x_padded[2 - 1]\n",
    "print \"The estimator S' gives {} as the total number of classes in the population\".format(S_1)"
   ]
  },
  {
   "cell_type": "code",
   "execution_count": null,
   "metadata": {
    "collapsed": false
   },
   "outputs": [],
   "source": [
    "# calculate S''\n",
    "S_2 = (pop_size/n) * sum(x_padded)\n",
    "print \"The estimator S'' gives {} as the total number of classes in the population\".format(S_2)"
   ]
  },
  {
   "cell_type": "code",
   "execution_count": null,
   "metadata": {
    "collapsed": false
   },
   "outputs": [],
   "source": [
    "# calculate S'' (2)\n",
    "S_3 = sum(x_padded)\n",
    "print \"The estimator S'' gives {} as the total number of classes in the population\".format(S_3)"
   ]
  },
  {
   "cell_type": "code",
   "execution_count": null,
   "metadata": {
    "collapsed": false
   },
   "outputs": [],
   "source": [
    "# From I.J. Good's paper\n",
    "S_4 = (1/(1 - x_padded[0]/n))*(sum(x_padded))\n",
    "print \"The estimator suggested by I.J. Good gives {} as the number of classes in the population\".format(S_4)"
   ]
  },
  {
   "cell_type": "code",
   "execution_count": null,
   "metadata": {
    "collapsed": false
   },
   "outputs": [],
   "source": [
    "print \"Reminder: the actual number of classes in the population is {}\".format(len(set(population)))"
   ]
  },
  {
   "cell_type": "code",
   "execution_count": null,
   "metadata": {
    "collapsed": true
   },
   "outputs": [],
   "source": [
    "tweet_pop = []\n",
    "for line in fileinput.FileInput(\"craft_users_tweeting_soda_usernames.txt\"):\n",
    "    tweet_pop.append(line.strip())\n",
    "tweet_pop_size = len(tweet_pop)\n",
    "num_uniq_users_in_pop = len(set(tweet_pop))\n",
    "tweet_pop_demographic = sorted(Counter(tweet_pop).items(), key=lambda x: x[0])"
   ]
  },
  {
   "cell_type": "code",
   "execution_count": null,
   "metadata": {
    "collapsed": true
   },
   "outputs": [],
   "source": [
    "## Sample size, generate a new sample\n",
    "tweet_n = 4000\n",
    "sample_tweet_pop = sample(tweet_pop, tweet_n)"
   ]
  },
  {
   "cell_type": "code",
   "execution_count": null,
   "metadata": {
    "collapsed": false
   },
   "outputs": [],
   "source": [
    "sample_tweet_pop_demographic = Counter(sample_tweet_pop)\n",
    "for key in [x[0] for x in tweet_pop_demographic]:\n",
    "    if key not in sample_tweet_pop_demographic.keys():\n",
    "        sample_tweet_pop_demographic[key] = 0\n",
    "sample_tweet_pop_demographic = sorted(sample_tweet_pop_demographic.items(), key=lambda x: x[0])\n",
    "\n",
    "print \" If the statistic x_{i} is the number of classes with i elements in the sample:\"\n",
    "x_counts_tweets = sorted(Counter([x[1] for x in sample_tweet_pop_demographic]).items(), key=lambda x: x[0])\n",
    "for count, val in x_counts_tweets:\n",
    "    print \"    {} classes appear {} times in the sample, x_{} = {}\".format(val, count, count, val)\n",
    "print \" So the observable vector x for this sample is \" \n",
    "print \" (recall that the number of classes appearing 0 times in the sample is not observable):\"\n",
    "x_tweets_sample = [0 for x in range(0,max([x[0] for x in x_counts_tweets]))]\n",
    "for x in x_counts_tweets:\n",
    "    if x[0] != 0:\n",
    "        x_tweets_sample[x[0]-1] = x[1]\n",
    "x_tweets = np.pad(np.array(x_tweets_sample),(0,tweet_n-len(x_tweets_sample)),mode='constant',constant_values=0)\n",
    "print x_tweets_sample"
   ]
  },
  {
   "cell_type": "code",
   "execution_count": null,
   "metadata": {
    "collapsed": false
   },
   "outputs": [],
   "source": [
    "fig, ax = plt.subplots(figsize=(10,6))\n",
    "ax.bar(range(0,len(x_counts_tweets)), [t[1] for t in x_counts_tweets], .45)\n",
    "#ax.bar([0.05], [x_counts_exact[0][1]], .45, color = 'gray')\n",
    "ax.set_xticks([t + .22 for t in range(0,len(x_tweets_sample) + 1)])\n",
    "ax.set_xticklabels(range(0,len(x_tweets_sample) + 1))\n",
    "plt.ylabel(\"# of classes appearing x times in the sample\")\n",
    "plt.xlabel(\"x (unobservable, because x_0, the number of unobserved classes, is included)\")\n",
    "plt.title = (\"Histogram of x\")\n",
    "\n",
    "fig, ax = plt.subplots(figsize=(10,6))\n",
    "ax.bar(range(0,len(x_tweets_sample)), x_tweets_sample, .45)\n",
    "#ax.bar([0.05], [x_counts_exact[0][1]], .45, color = 'gray')\n",
    "ax.set_xticks([t + .22 for t in range(0,len(x_tweets_sample) + 1)])\n",
    "ax.set_xticklabels(range(0,len(x_tweets_sample) + 1))\n",
    "plt.ylabel(\"# of classes appearing x times in the sample\")\n",
    "plt.xlabel(\"x oberseved\")\n",
    "plt.title = (\"Histogram of x\")"
   ]
  },
  {
   "cell_type": "code",
   "execution_count": null,
   "metadata": {
    "collapsed": false
   },
   "outputs": [],
   "source": [
    "# calculate the unbiased estimator S\n",
    "tweet_S = 0\n",
    "test = []\n",
    "for i in xrange(1, tweet_n + 1):\n",
    "    x_i = x_tweets[i - 1]\n",
    "    if x_i != 0:\n",
    "        sign = (-1)**(i+1)\n",
    "        log_numerator = sum([log(h) for h in range(tweet_pop_size - tweet_n, tweet_pop_size - tweet_n + i - 1 + 1)])\n",
    "        log_denominator = sum([log(k) for k in range(tweet_n - i, tweet_n - i + 1)])\n",
    "        test.append(x_i + sign*exp(log_numerator/log_denominator)*x_i)\n",
    "        tweet_S += x_i + sign*exp(log_numerator/log_denominator)*x_i\n",
    "    else:\n",
    "        break\n",
    "print \"The estimated number of total classes in the population is {}\".format(tweet_S)"
   ]
  },
  {
   "cell_type": "code",
   "execution_count": null,
   "metadata": {
    "collapsed": false
   },
   "outputs": [],
   "source": [
    "# calculate the biased estimator S'\n",
    "tweet_S_1 = tweet_pop_size - ((tweet_pop_size)*(tweet_pop_size - 1))/((tweet_n)*(tweet_n - 1))*x_tweets[2 - 1]\n",
    "print \"The estimator S' gives {} as the total number of classes in the population\".format(tweet_S_1)"
   ]
  },
  {
   "cell_type": "code",
   "execution_count": null,
   "metadata": {
    "collapsed": false
   },
   "outputs": [],
   "source": [
    "# calculate S''\n",
    "tweet_S_2 = (tweet_pop_size/tweet_n) * sum(x_tweets)\n",
    "print \"The estimator S'' gives {} as the total number of classes in the population\".format(tweet_S_2)"
   ]
  },
  {
   "cell_type": "code",
   "execution_count": null,
   "metadata": {
    "collapsed": false
   },
   "outputs": [],
   "source": [
    "# calculate S'' (2)\n",
    "tweet_S_3 = sum(x_tweets)\n",
    "print \"The estimator S'' gives {} as the total number of classes in the population\".format(tweet_S_3)"
   ]
  },
  {
   "cell_type": "code",
   "execution_count": null,
   "metadata": {
    "collapsed": false
   },
   "outputs": [],
   "source": [
    "# From I.J. Good's paper\n",
    "tweet_S_4 = (1/(1 - x_tweets[0]/tweet_n))*(sum(x_tweets))\n",
    "print \"The estimator suggested by I.J. Good gives {} as the number of classes in the population\".format(tweet_S_4)"
   ]
  },
  {
   "cell_type": "code",
   "execution_count": null,
   "metadata": {
    "collapsed": false
   },
   "outputs": [],
   "source": [
    "print \"REminder: the actual number of classes (unique users) in the population is: {}\".format(num_uniq_users_in_pop)"
   ]
  },
  {
   "cell_type": "code",
   "execution_count": null,
   "metadata": {
    "collapsed": false
   },
   "outputs": [],
   "source": [
    "first_cutoff = np.where(x_tweets==1)[0][0]\n",
    "x_tweets_ = x_tweets[0:first_cutoff]\n",
    "outliers = []\n",
    "for i,k in enumerate(x_tweets[first_cutoff:]):\n",
    "    if k != 0:\n",
    "        outliers.append((i + first_cutoff + 1, k))\n",
    "# assume that these more common classes were sampled pretty evenly\n",
    "num_outliers_in_sample = sum([x[0]*x[1] for x in outliers])\n",
    "num_outliers_in_pop = sum([x[0]*x[1]*tweet_pop_size/tweet_n for x in outliers])\n",
    "num_outlier_classes = sum([x[1] for x in outliers])\n",
    "\n",
    "tweet_pop_size_ = int(tweet_pop_size - num_outliers_in_pop)\n",
    "tweet_n_ = int(tweet_n - num_outliers_in_sample)"
   ]
  },
  {
   "cell_type": "code",
   "execution_count": null,
   "metadata": {
    "collapsed": false
   },
   "outputs": [],
   "source": [
    "# calculate the unbiased estimator S\n",
    "tweet_S = 0\n",
    "for i in xrange(1, len(x_tweets_) + 1):\n",
    "    x_i = x_tweets_[i - 1]\n",
    "    if x_i != 0:\n",
    "        sign = (-1)**(i+1)\n",
    "        log_numerator = sum([log(h) for h in range(tweet_pop_size_ - tweet_n_, tweet_pop_size_ - tweet_n_ + i - 1 + 1)])\n",
    "        log_denominator = sum([log(k) for k in range(tweet_n_ - i, tweet_n_ - i + 1)])\n",
    "        # print x_i + sign*exp(log_numerator/log_denominator)*x_i\n",
    "        tweet_S += x_i + sign*exp(log_numerator/log_denominator)*x_i\n",
    "    else:\n",
    "        break\n",
    "print \"The estimated number of total classes in the population is {}\".format(int(tweet_S + num_outlier_classes))"
   ]
  },
  {
   "cell_type": "code",
   "execution_count": null,
   "metadata": {
    "collapsed": false
   },
   "outputs": [],
   "source": [
    "# Analysis of the classes that *do not* appear in the sample\n",
    "users_not_in_sample = set([x[0] for x in sample_tweet_pop_demographic if x[1]==0])\n",
    "users_not_in_sample_demographic = []\n",
    "users_in_sample_demographic = []\n",
    "for u in tweet_pop_demographic:\n",
    "    if u[0] in users_not_in_sample:\n",
    "        users_not_in_sample_demographic.append(u)\n",
    "    else:\n",
    "        users_in_sample_demographic.append(u)\n",
    "counts_users_in_sample = Counter([x[1] for x in users_in_sample_demographic]).items()\n",
    "counts_users_not_in_sample = Counter([x[1] for x in users_not_in_sample_demographic]).items()\n",
    "\n",
    "x_users_in_sample = [0 for x in range(0,max([x[0] for x in counts_users_in_sample]))]\n",
    "for x in counts_users_in_sample:\n",
    "    if x[0] != 0:\n",
    "        x_users_in_sample[x[0]-1] = x[1]\n",
    "\n",
    "x_users_not_in_sample = [0 for x in range(0,max([x[0] for x in counts_users_not_in_sample]))]\n",
    "for x in counts_users_not_in_sample:\n",
    "    if x[0] != 0:\n",
    "        x_users_not_in_sample[x[0]-1] = x[1]\n",
    "\n",
    "print x_users_in_sample\n",
    "print x_users_not_in_sample"
   ]
  },
  {
   "cell_type": "code",
   "execution_count": null,
   "metadata": {
    "collapsed": false
   },
   "outputs": [],
   "source": [
    "fig, ax = plt.subplots(figsize=(10,6))\n",
    "ax.bar(range(0,len(x_users_not_in_sample)), x_users_not_in_sample, .45)\n",
    "ax.set_xticks([t + .22 for t in range(0,len(x_users_not_in_sample) + 1)])\n",
    "ax.set_xticklabels(range(0,len(x_users_not_in_sample) + 1))\n",
    "plt.ylabel(\"# of classes appearing x times in the pop and at least once in the sample\")\n",
    "plt.xlabel(\"x \")\n",
    "plt.title = (\"Histogram of x\")\n"
   ]
  },
  {
   "cell_type": "code",
   "execution_count": null,
   "metadata": {
    "collapsed": false
   },
   "outputs": [],
   "source": [
    "x_users_not_in_sample[0]/x_users_not_in_sample[1]"
   ]
  },
  {
   "cell_type": "code",
   "execution_count": null,
   "metadata": {
    "collapsed": true
   },
   "outputs": [],
   "source": []
  }
 ],
 "metadata": {
  "kernelspec": {
   "display_name": "Python 2",
   "language": "python",
   "name": "python2"
  },
  "language_info": {
   "codemirror_mode": {
    "name": "ipython",
    "version": 2
   },
   "file_extension": ".py",
   "mimetype": "text/x-python",
   "name": "python",
   "nbconvert_exporter": "python",
   "pygments_lexer": "ipython2",
   "version": "2.7.10"
  }
 },
 "nbformat": 4,
 "nbformat_minor": 0
}
