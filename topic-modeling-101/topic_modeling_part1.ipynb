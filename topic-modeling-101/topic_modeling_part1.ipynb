{
 "metadata": {
  "name": "",
  "signature": "sha256:c81bc0e7e47023df1fb780cbb17440b1a4fa9e9778ad2169a75f0fde700c870f"
 },
 "nbformat": 3,
 "nbformat_minor": 0,
 "worksheets": [
  {
   "cells": [
    {
     "cell_type": "markdown",
     "metadata": {},
     "source": [
      "\n",
      "#Definitions:\n",
      "* 1.) document - a body of text (eg. tweet)\n",
      "* 2.) text corpus - the set of documents that contains the text for the analysis (eg. many tweets)\n",
      "* 3.) dictionary - a mapping between tokens and their integer ids. In other words, the key:value pairs are token:unique_id for each unique token in the text corpus (eg. {'mathematics':1,'engineering':1,'physics':3})\n",
      "* 4.) vector corpus - the set of documents transformed such that each token is a tuple (token_id , doc_freq).\n",
      "\n",
      "\n",
      "#Stop words:\n",
      "**Topics are limited to tokens contained within the text corpus**. We can remove specific tokens from consideration using a set of stopwords, which can be edited per project requirement. \n"
     ]
    },
    {
     "cell_type": "code",
     "collapsed": false,
     "input": [
      "from nltk.corpus import stopwords\n",
      "\n",
      "stopset = set(stopwords.words('english'))\n",
      "print type(stopset)\n",
      "stopset.update([\"ruby tuesday\"]) # add token\n",
      "stopset.remove(\"own\")            # remove token\n",
      "\n",
      "# single lang\n",
      "print \"--English stopset\"\n",
      "print stopset\n",
      "\n",
      "# multi lang\n",
      "print\n",
      "print \"--Multi language stopset\"\n",
      "langs=['danish', 'dutch', 'english', 'french', 'german', 'italian','norwegian', 'portuguese', 'russian', 'spanish', 'swedish']\n",
      "stop_list = []\n",
      "for lang in langs:\n",
      "    stop_list.extend(stopwords.words(lang))\n",
      "\n",
      "stop_words_set=set(stop_list) #  -- could save to disk --\n",
      "print stop_words_set\n"
     ],
     "language": "python",
     "metadata": {},
     "outputs": [
      {
       "output_type": "stream",
       "stream": "stdout",
       "text": [
        "<type 'set'>\n",
        "--English stopset\n",
        "set(['all', 'just', 'being', 'over', 'both', 'through', 'yourselves', 'its', 'before', 'herself', 'had', 'should', 'to', 'only', 'under', 'ours', 'has', 'do', 'them', 'his', 'very', 'they', 'not', 'during', 'now', 'him', 'nor', 'did', 'this', 'she', 'each', 'further', 'where', 'few', 'because', 'doing', 'some', 'are', 'our', 'ourselves', 'out', 'what', 'for', 'while', 'does', 'above', 'between', 't', 'be', 'we', 'who', 'were', 'here', 'hers', 'by', 'on', 'about', 'of', 'against', 's', 'or', 'into', 'yourself', 'down', 'your', 'from', 'her', 'their', 'there', 'been', 'whom', 'too', 'themselves', 'was', 'until', 'more', 'himself', 'that', 'but', 'don', 'with', 'than', 'those', 'he', 'me', 'myself', 'these', 'up', 'will', 'below', 'can', 'theirs', 'my', 'and', 'then', 'is', 'am', 'it', 'an', 'as', 'itself', 'at', 'have', 'in', 'any', 'if', 'again', 'no', 'when', 'same', 'how', 'other', 'which', 'ruby tuesday', 'you', 'after', 'most', 'such', 'why', 'a', 'off', 'i', 'yours', 'so', 'the', 'having', 'once'])\n",
        "\n",
        "--Multi language stopset\n",
        "set(['\\xd0\\xb7\\xd0\\xb0\\xd1\\x87\\xd0\\xb5\\xd0\\xbc', 'ogs\\xc3\\xa5', '\\xc3\\xa9t\\xc3\\xa9', 'negl', 'dere', 'otro', 'dazu', 'auf', 'otra', 'aus', 'under', 'aux', 'f\\xc3\\xbcr', 'dela', 'dele', 'dell', 'algunos', 'houv\\xc3\\xa9ssemos', 'tinham', '\\xd0\\xbd\\xd1\\x83', 'ten\\xc3\\xadais', 'haben', 'est\\xc3\\xa3o', 'tendr\\xc3\\xadais', 'upp', 'fuera', 'esos', '\\xd0\\xbd\\xd0\\xb0\\xd1\\x81', 'zonder', 'fece', 'varit', 'estar\\xc3\\xadais', 'n', 'ellas', 'feci', 'nel', 'nem', '\\xd1\\x87\\xd0\\xb5\\xd1\\x80\\xd0\\xb5\\xd0\\xb7', 'avranno', 'nei', 'ned', 'ten\\xc3\\xadan', 'ebbe', 'kun', 'estuvo', 'habr\\xc3\\xadais', 'above', 'estuve', 'starei', 'med', 'meg', 'wezen', 'men', 'facesse', 'here', 'meu', 'met', 'nicht', 'mes', 'hers', 'sidan', 'gli', 'vosostras', 'aurai', 'esteve', 'desselben', 'estar\\xc3\\xa1', 'erais', 'ten\\xc3\\xadas', 'estar\\xc3\\xa9', 'sarai', 'estive', 'einiger', 'einiges', 'fussions', 'loro', '\\xc3\\xa9tions', 'seraient', 'einigem', 'einigen', 'vom', 'until', 'seja', 'hubi\\xc3\\xa9semos', 'e\\xc3\\xbbtes', 'facemmo', 'muss', 'quale', 'me', 'fossimo', 'ma', 'avremo', 'mi', 'sintiendo', 'era', '\\xd0\\xb2\\xd0\\xbe', '\\xc3\\xa9t\\xc3\\xa9es', 'my', 'avaient', 'estar\\xc3\\xadamos', 'tuvieses', 'gegen', 'eussent', 'seremos', 'dykk', 'want', 'tuviesen', 'anderer', 'anderes', 'hoe', 'end', 'hon', 'enn', 'how', 'dieselben', 'hos', 'anderen', 'anderem', 'after', 'las', 'hasta', 'sentid', 'vere', '\\xc3\\xb6ver', 'vart', 'vars', '\\xd0\\xbd\\xd0\\xb0\\xd0\\xb4\\xd0\\xbe', 'aient', 'over', 'tuvi\\xc3\\xa9ramos', 'hubiese', 'nostra', 'vara', 'nostre', 'nostri', 'before', 'begge', 'ihr', 'then', 'them', '\\xc3\\xa9tait', 'deinem', '\\xc3\\xa9tais', 'deines', 'deiner', 'they', 'mucho', 'pelas', 'wenn', 'hubieran', 'l', 'each', 'damit', 'seriez', '\\xd1\\x80\\xd0\\xb0\\xd0\\xb7', 'manche', 'aurais', 'aurait', 'diesem', 'diesen', '\\xd0\\xb4\\xd1\\x80\\xd1\\x83\\xd0\\xb3\\xd0\\xbe\\xd0\\xb9', '\\xd1\\x81', 'dieser', 'dieses', 'suyas', 'werde', 'ten\\xc3\\xada', '\\xd1\\x8f', 'icke', 'elle', 'inom', 'k\\xc3\\xb6nnen', 'ist', 'att', 'staranno', 'hennar', '\\xd0\\xbd\\xd0\\xb0\\xd0\\xb4', '\\xd0\\xb2\\xd1\\x81\\xd0\\xb5\\xd0\\xb3\\xd0\\xb4\\xd0\\xb0', 'einer', 'eines', 'avrebbe', 'tuoi', 'einen', 'einem', 'ser\\xc3\\xadas', '\\xc3\\xa8', 's\\xc3\\xa5nn', '\\xc3\\xa0', 'ingen', '\\xc3\\xa5', 'toi', 'ton', 'too', 'estuvi\\xc3\\xa9semos', 'v\\xc3\\xa6ret', 'fuese', 'habr\\xc3\\xa1s', 'estavam', 'habr\\xc3\\xa1n', 'verte', 'fussent', 'etter', '\\xd1\\x87\\xd1\\x83\\xd1\\x82\\xd1\\x8c', '\\xd0\\xba\\xd1\\x82\\xd0\\xbe', 'varje', 'haya', 'hemos', 'habidos', 'este', 'esta', 'mina', 'esto', 'mine', 'tiveram', 'fosti', 'foste', 'deres', 'derer', 'houveremos', 'thi', 'ohne', 'erano', 'tiv\\xc3\\xa9ramos', 'the', 'somme', 'fusse', 'don', 'hanno', 'm', 'dog', '\\xd0\\xb1\\xd1\\x8b', 'dov', 'tivermos', 'sentidos', 'och', 'wirst', 'dessen', 'sarebbero', '\\xd0\\xb3\\xd0\\xb4\\xd0\\xb5', 'avrete', 'do', 'meget', 'far\\xc3\\xb2', 'sobre', 'di', 'de', 'f\\xc3\\xb4ssemos', 'da', 'geen', 'fu\\xc3\\xa9ramos', 'du', 'einmal', 'furent', 'stiamo', 'sentida', 'nichts', 'estados', 'sentido', 'iets', 'blev', 'sugl', '\\xd0\\xb2\\xd1\\x8b', 'anders', 'nur', 'nun', 'num', '\\xd0\\xbe\\xd0\\xbd', '\\xd0\\xbe\\xd0\\xb1', 'blei', 'inni', 'eres', 'staremmo', 'muy', 'estiveram', 'farei', 'we', 'diese', 'wo', 'soyons', 'sera', 'anche', 'f\\xc3\\xb4ramos', 'houver\\xc3\\xa3o', 'houver\\xc3\\xa1', 'h\\xc3\\xa3o', 'queste', 'uns', 'questa', 'estuviera', 'questo', 'questi', 'against', 'una', 'und', 'une', 'veel', 'com', 'col', 'estar\\xc3\\xada', 'uno', 'foram', 'durante', 'fra', 'avr\\xc3\\xb2', 'been', 'estaban', 'estabas', 'noen', 'tenemos', '\\xd0\\xb1\\xd1\\x83\\xd0\\xb4\\xd0\\xb5\\xd1\\x82', 'aies', 'e\\xc3\\xbbmes', 'zich', 'hvilken', 'stavano', 'suas', 'avessimo', 'inkje', 'aqueles', 'tiv\\xc3\\xa9ssemos', 'auras', 'ait', 'avrei', '\\xd0\\xb1\\xd0\\xb5\\xd0\\xb7', 'seras', 'dello', 'houver\\xc3\\xadamos', 'serai', 'aie', 'delle', 'della', 'faremmo', 'unos', 'have', 'is', 'it', 'ik', 'im', 'il', 'io', 'in', 'if', '\\xd1\\x82\\xd0\\xbe\\xd0\\xbb\\xd1\\x8c\\xd0\\xba\\xd0\\xbe', 'manchem', 'manchen', 'manches', 'mancher', 'aviez', '\\xd0\\xb2\\xd1\\x81\\xd0\\xb5\\xd0\\xb3\\xd0\\xbe', 'facevamo', 'ella', '\\xc3\\xa0s', 'jetzt', 'hans', 'kvarhelst', 'depois', 'ihrem', 'ihren', 'stettero', '\\xd0\\xbc\\xd0\\xbd\\xd0\\xbe\\xd0\\xb3\\xd0\\xbe', 'ihres', 'avrebbero', 'yours', 'andere', 'just', 'anderm', 'andern', '\\xd0\\xb4\\xd0\\xb2\\xd0\\xb0', 'ikkje', 'anderr', 'tenham', 'estiverem', 's\\xc3\\xad', 'hai', 'antes', 'ham', 'han', 's\\xc3\\xa5', 'hab', 'ela', 'had', 'estuvieron', 'ele', 'hay', 'har', 'has', 'hat', 's\\xc3\\xb3', 'opp', 'unter', 'stavate', 'mykje', '\\xd0\\xbd\\xd0\\xb0\\xd0\\xba\\xd0\\xbe\\xd0\\xbd\\xd0\\xb5\\xd1\\x86', '\\xd0\\xbe\\xd0\\xbd\\xd0\\xb8', 'kunne', '\\xd0\\xbe\\xd0\\xbd\\xd0\\xb0', 'facendo', 'ich', 'for', '\\xd0\\xb2\\xd0\\xbe\\xd1\\x82', 'n\\xc3\\xa4r', 'muito', 'uma', 'tuviese', 'foi', 'unse', 'dette', 'estuvieran', 'tutto', 'eravate', 'estuvieras', 'tenidas', 'zur', '\\xd1\\x81\\xd0\\xbe', 'theirs', 'o', 'algo', '\\xd0\\xbe\\xd1\\x82', 'zum', 'aber', 'fuisteis', 'som', 'son', 'down', 'sou', 'stavamo', 'soy', 'jene', '\\xd0\\xbc\\xd0\\xbe\\xd0\\xb6\\xd0\\xbd\\xd0\\xbe', 'avait', 'kven', 'tenhamos', 'wat', 'was', 'war', 'suyos', 'ellos', 'uten', 'fora', 'avions', '\\xd0\\xbf\\xd0\\xbe', 'dieselbe', 'tuviste', 'tengan', 'tengas', 'facevano', 'efter', 'abbiano', 'ni', 'no', 'na', 'tivemos', 'when', 'ne', 'ourselves', 'til', 'ser\\xc3\\xadais', 'nu', 'tuyas', 'kva', 'dies', 'havemos', 'kvi', 'siente', 'far\\xc3\\xa0', 'oss', 'abbiamo', 'aurions', 'selbst', 'sejam', 'habidas', 'd\\xc3\\xa5', 'quienes', 'ved', '\\xd0\\xbd\\xd0\\xb5\\xd0\\xbb\\xd1\\x8c\\xd0\\xb7\\xd1\\x8f', 'vem', 'fuiste', 'ert', 'ihnen', 'houveria', 'hatten', 'din', 'did', 'die', 'warst', 'dig', 'somos', 'dit', '\\xd1\\x85\\xd0\\xbe\\xd1\\x82\\xd1\\x8c', 'dir', 'ville', 'hvem', '\\xd1\\x82\\xd1\\x8b', '\\xd0\\xbd\\xd0\\xb0', '\\xd0\\xbd\\xd0\\xb5', '\\xd0\\xbd\\xd0\\xb8', 'hver', '\\xd0\\xbd\\xd0\\xbe', '\\xc3\\xa9taient', '\\xc3\\xa9ramos', 'facessi', 'stando', 'ser\\xc3\\xa9is', 'sareste', 'saresti', 'serait', 'negli', 'serais', 'ero', 'hab\\xc3\\xada', 'eri', 'geweest', 'deg', 'estar\\xc3\\xa1s', 'estar\\xc3\\xa1n', '\\xd0\\xbf\\xd1\\x80\\xd0\\xb8', '\\xd0\\xbf\\xd1\\x80\\xd0\\xbe', 'pero', 'vous', 'auront', 'aurons', 'ook', 'siate', 'jag', 'varf\\xc3\\xb6r', '\\xd0\\xbb\\xd1\\x83\\xd1\\x87\\xd1\\x88\\xd0\\xb5', 'auraient', 'can', 'tuviera', 'ihre', 'fossem', 'tengamos', 'noch', 'est\\xc3\\xa9is', 'hayamos', '\\xd0\\xb1\\xd0\\xbe\\xd0\\xbb\\xd0\\xb5\\xd0\\xb5', '\\xd1\\x8d\\xd1\\x82\\xd0\\xbe\\xd1\\x82', 'till', 'korleis', '\\xc3\\xbcber', 'mas', 'habremos', 'aos', 'such', '\\xd0\\xb2\\xd1\\x81\\xd0\\xb5\\xd1\\x85', 'dove', 'man', 'est\\xc3\\xa9n', '\\xc3\\xa9tants', 's\\xc3\\xa5dana', 'su', 'si', 'so', 'est\\xc3\\xa9s', 'nous', 'sa', 'n\\xc3\\xa5', 'se', '\\xc3\\xa9tante', 'sejamos', '\\xd1\\x82\\xd0\\xb0\\xd0\\xbc', 'hende', 'hubierais', '\\xd0\\xb2\\xd0\\xb4\\xd1\\x80\\xd1\\x83\\xd0\\xb3', '\\xd1\\x81\\xd0\\xbe\\xd0\\xb2\\xd1\\x81\\xd0\\xb5\\xd0\\xbc', 'mais', 'facciate', 'ours', 'non', 'noi', 'noe', 'w\\xc3\\xbcrden', 'nog', 'gewesen', 'not', 'qu', 'now', 'nor', 'nos', 'avons', 'desde', 'em', 'el', 'en', 'ej', 'ed', 'eg', 'eu', 'et', 'es', 'er', 'stiano', 'w\\xc3\\xbcrde', 'dort', 'hajam', 'poco', 'bli', 'ble', 'denselben', 'v\\xc3\\xa5ra', 'tienen', 'farebbero', 'auch', 'v\\xc3\\xa5rt', '\\xd1\\x82\\xd0\\xbe\\xd1\\x82', 't\\xc3\\xba', 'tienes', 'keinen', 'starebbe', '\\xd0\\xb1\\xd1\\x83\\xd0\\xb4\\xd1\\x82\\xd0\\xbe', 'tendr\\xc3\\xadamos', '\\xd1\\x82\\xd0\\xbe', 'est\\xc3\\xa1bamos', 'zal', 'noget', 'h\\xc3\\xa4r', 'yourself', 'ons', 'avais', 'degl', 'ont', 'jenem', 'jenen', 'ikke', '\\xd0\\xbf\\xd0\\xbe\\xd1\\x81\\xd0\\xbb\\xd0\\xb5', 'ebbi', 'jenes', 'jener', 'vilka', 'n\\xc3\\xa5gra', 'that', 'hun', 'qual', '\\xd1\\x87\\xd0\\xb5\\xd0\\xbc', 'hur', 'than', 'werd', 'were', '\\xd1\\x82\\xd1\\x80\\xd0\\xb8', '\\xd0\\xbc\\xd0\\xb5\\xd0\\xb6\\xd0\\xb4\\xd1\\x83', 'and', 'n\\xc3\\xa3o', 'alles', 'aller', 'sull', '\\xc3\\xa9tantes', 'allen', 'allem', 'any', 'estamos', 'sj\\xc3\\xa4lv', '\\xd0\\xb2\\xd0\\xbf\\xd1\\x80\\xd0\\xbe\\xd1\\x87\\xd0\\xb5\\xd0\\xbc', 'zou', 'ten\\xc3\\xadamos', 'wird', 'dykkar', '\\xd1\\x8d\\xd1\\x82\\xd0\\xbe\\xd0\\xbc', '\\xd1\\x8d\\xd1\\x82\\xd0\\xbe\\xd0\\xb9', 'p\\xc3\\xa5', 'saremo', '\\xc3\\xa9tiez', 'solche', 'estejam', 'hubieras', 'elas', 'estoy', '\\xd1\\x82\\xd0\\xb5\\xd0\\xb1\\xd1\\x8f', 'estos', 'estou', 'ayants', 'daar', '\\xd1\\x82\\xd0\\xbe\\xd0\\xbc', 'dich', 'only', 'ayante', 'toch', 'nell', 'tuyos', 'dasselbe', '\\xd0\\xbf\\xd0\\xbe\\xd1\\x82\\xd0\\xbe\\xd0\\xbc', 'avendo', 'leur', 'where', 'seas', 'kvifor', 'sean', 'facessimo', 'hvorfor', 'estad', 'estar', 'estas', 'between', 'nostro', 'tiverem', 'ju', 'tus', 'mellan', 'jo', 'como', 'tuo', 'tua', 'come', 'ja', 'tendr\\xc3\\xadas', 'estivermos', 's', '\\xc3\\xa5t', 'aura', 'quien', 'tendr\\xc3\\xadan', 'voc\\xc3\\xaa', '\\xd0\\xb1\\xd1\\x8b\\xd1\\x82\\xd1\\x8c', 'hva', 'avevamo', 'cuando', 'je', 'ante', 'se\\xc3\\xa1is', '\\xd0\\xb8\\xd0\\xbc', 'siete', '\\xd0\\xb8\\xd0\\xb7', 'oder', 'tue', 'qu\\xc3\\xa9', '\\xc3\\xa9t\\xc3\\xa9s', '\\xd0\\xbf\\xd0\\xbe\\xd0\\xb4', 'those', '\\xc3\\xa9t\\xc3\\xa9e', 'houverei', 'myself', 'ett', 'these', '\\xd1\\x8d\\xd1\\x82\\xd0\\xbe\\xd0\\xb3\\xd0\\xbe', '\\xd0\\xbd\\xd0\\xb8\\xd1\\x87\\xd0\\xb5\\xd0\\xb3\\xd0\\xbe', 'ein', 'eran', 'eram', 'soit', 'eras', 'sois', 'par', 'pas', 'sentidas', 'same', 'hvilke', 'todos', 'staresti', 'eitt', 'fecero', 'stareste', 'tenha', 'deinen', 'hebben', 'tenho', 'estivessem', 'habr\\xc3\\xa9', 'tiver', 'machen', 'eller', 'soient', 'deze', 'being', 'hay\\xc3\\xa1is', 'quella', 'quelle', 'aveste', 'quello', 'ten\\xc3\\xa9is', 'ditt', 'serei', 'hab\\xc3\\xa9is', 'mot', 'moi', 'mon', 'tanto', 'serez', 'vosostros', 'mod', 'aurez', 'eussiez', 't', 'nosotras', 'avrai', '\\xd0\\xba\\xd1\\x83\\xd0\\xb4\\xd0\\xb0', '\\xd1\\x87\\xd1\\x82\\xd0\\xbe', 'deira', 'naar', 'havde', 'eurer', 'sommes', 'eures', '\\xc3\\xa4n', 'meinen', 'meinem', 'meiner', 'meines', '\\xc3\\xa4r', 'ser\\xc3\\xada', 'sarebbe', 'aveva', 'seine', '\\xd0\\xbc\\xd1\\x8b', '\\xd0\\xbe\\xd0\\xb4\\xd0\\xb8\\xd0\\xbd', 'habe', 'n\\xc3\\xb3s', 'on', 'om', 'og', 'of', 'ob', '\\xd1\\x83\\xd0\\xb6', 'est\\xc3\\xa1vamos', 'ou', 'os', 'or', 'op', 'houvera', 'habiendo', 'esses', 'tendremos', 'tuvisteis', 'your', 'per', 'het', 'welches', 'welcher', 'her', 'there', 'los', 'starete', 'eues', '\\xd0\\xb6\\xd0\\xb5', 'hem', 'welchem', 'hei', 'welchen', 'stemmo', 'mich', 'ser\\xc3\\xa3o', '\\xd0\\xb8\\xd1\\x85', 'with', '\\xd1\\x82\\xd1\\x83\\xd1\\x82', 'tendr\\xc3\\xa1n', 'tendr\\xc3\\xa1s', 'keine', 'ad', 'af', 'vors', 'am', 'al', 'ao', 'vort', 'as', 'estiver', 'lhes', 'uit', 'av', 'tenga', 'vore', 'again', 'you', 'avessero', 'estuviese', 'hubiste', '\\xd0\\xbc\\xd0\\xbe\\xd0\\xb6\\xd0\\xb5\\xd1\\x82', 'etwas', 'sullo', 'sulla', 'sulle', 'unsen', 'unsem', 'eusse', 'u', 'unser', 'unses', 'estuviste', 'all', '\\xd0\\xbf\\xd0\\xb5\\xd1\\x80\\xd0\\xb5\\xd0\\xb4', 'f\\xc3\\xbbt', 'alt', 'als', 'tu', '\\xd1\\x83', 'to', 'derselbe', 'ti', 'kvar', 'te', 'ta', 'estando', 'estaba', 'very', 'sono', '\\xd0\\xbd\\xd0\\xb8\\xd1\\x85', 'fai', 'sont', 'tuvimos', 'estar\\xc3\\xa9is', 'houverem', '\\xd0\\xbd\\xd0\\xb8\\xd0\\xb1\\xd1\\x83\\xd0\\xb4\\xd1\\x8c', 'worden', 'estaremos', 'hendes', '\\xd0\\xb5\\xd1\\x81\\xd1\\x82\\xd1\\x8c', 'tem', 'altijd', 'haar', 'kunnen', '\\xd0\\xbd\\xd0\\xb5\\xd0\\xb5', 'ser\\xc3\\xadan', 'further', 'tes', 'teu', '\\xd0\\xbd\\xd0\\xb5\\xd0\\xb9', 'what', 'sua', 'suo', 'sul', 'sui', '\\xd0\\xbb\\xd0\\xb8', '\\xd1\\x87\\xd1\\x82\\xd0\\xbe\\xd0\\xb1', 'sus', 'sur', 'deles', 'jede', 'iemand', 'avr\\xc3\\xa0', 'farete', 'hadde', 'toen', 'avessi', 'v\\xc3\\xa5r', 'avesse', 'durch', 'vid', 'e\\xc3\\xbbt', 'vil', '\\xc3\\xa9l', 'otros', '\\xd0\\xbc\\xd0\\xbe\\xd0\\xb9', 'fueras', 'hvordan', 'tutti', 'varte', 'houver', 'da\\xc3\\x9f', 'abbiate', '\\xd0\\xb7\\xd0\\xb0', 'fueran', 'sondern', 'more', 'mellom', 'door', 'fusses', 'der', 'des', 'det', '\\xd0\\xb7\\xd0\\xb4\\xd0\\xb5\\xd1\\x81\\xd1\\x8c', 'dei', 'minhas', 'del', 'dem', 'den', 'tuas', '\\xd0\\xba\\xd0\\xb0\\xd0\\xba\\xd0\\xbe\\xd0\\xb9', 't\\xc3\\xadnhamos', 'ser\\xc3\\xa1', 'wieder', '\\xd0\\xb1\\xd0\\xbe\\xd0\\xbb\\xd1\\x8c\\xd1\\x88\\xd0\\xb5', '\\xd0\\xbf\\xd0\\xbe\\xd1\\x82\\xd0\\xbe\\xd0\\xbc\\xd1\\x83', 'avemmo', 'sitt', 'stia', 'fu', 'tuvieseis', 'notre', 'numa', 'a', 'lhe', 'kein', 'ter\\xc3\\xa1', 'through', 'its', 'zelf', 'alle', 'hab\\xc3\\xadan', 'alla', 'allo', '\\xd0\\xbe\\xd0\\xbf\\xd1\\x8f\\xd1\\x82\\xd1\\x8c', 'allt', 'hvor', 'nossos', 'hab\\xc3\\xadas', 'musste', 'yo', 'ya', '\\xd1\\x82\\xd0\\xbe\\xd0\\xb3\\xd0\\xbe', '\\xd1\\x8d\\xd1\\x82\\xd1\\x83', 'tivessem', 'ces', 'est\\xc3\\xa1is', 'm\\xc3\\xa1s', 'denne', 'hvis', 'denna', '\\xd0\\xbd\\xd0\\xb5\\xd0\\xb3\\xd0\\xbe', 'hubieseis', 'nossa', 'houv\\xc3\\xa9ramos', 'todo', 'nosso', 'm\\xc3\\xadas', 'tenida', '\\xd0\\xb2\\xd1\\x81\\xd0\\xb5', 'serions', 'tenido', 'suoi', '\\xd1\\x82\\xd0\\xbe\\xd0\\xb6\\xd0\\xb5', 'b\\xc3\\xa5de', 'por', 'nokre', '\\xd0\\xbd\\xd0\\xb5\\xd1\\x82', 'estada', 'voor', '\\xd0\\xb8\\xd0\\xbd\\xd0\\xbe\\xd0\\xb3\\xd0\\xb4\\xd0\\xb0', 'nosotros', 'pelos', 'tivesse', 'hubiera', 'dina', 'nach', 'tuvieras', 'tuvieran', 'tot', 'jer', 'kom', 'kon', 'esas', 'avec', 'avez', 'contra', 'jeg', 'seamos', 'contro', 'para', 'tive', 'sta', 'aan', 'dans', 'dann', 'teve', 'tuvi\\xc3\\xa9semos', 'teriam', 'tendr\\xc3\\xada', 'v\\xc3\\xa6rt', 'v\\xc3\\xa6re', 'faccio', 'estuvieses', 'euch', 'faccia', '\\xd0\\xbd\\xd0\\xb8\\xd0\\xbc', 'also', 'estuviesen', 'nuestras', 'selv', 'ser\\xc3\\xa1s', '\\xd1\\x82\\xd0\\xb5\\xd0\\xbf\\xd0\\xb5\\xd1\\x80\\xd1\\x8c', 'estivesse', 'tuvo', 'kan', 'essa', 'most', 'esse', '\\xd1\\x80\\xd0\\xb0\\xd0\\xb7\\xd0\\xb2\\xd0\\xb5', 'ser\\xc3\\xa1n', 'tivera', 'minha', 'meine', 'hubieses', 'fossi', 'hubiesen', 'stessimo', 'fosse', 'h\\xc3\\xa1', 'tinha', 'tened', '\\xd1\\x83\\xd0\\xb6\\xd0\\xb5', 'quem', 'faresti', 'fareste', 'korso', 'porque', 'steste', 'his', 'mein', 'esteja', 'stesti', 'during', 'hij', 'him', 'hin', 'houveriam', 'vilket', 'f\\xc3\\xbbtes', 'n\\xc3\\xa5gon', 'seu', 'sto', 'ses', '\\xd0\\xbc\\xd0\\xbe\\xd1\\x8f', 'fuesen', 'seg', 'fueses', 'bare', 'are', 'sea', 'sem', 'sei', 'ingi', 'tendr\\xc3\\xa9is', 'sonst', 'dein', 'deim', 'soll', 'dalla', 'jeden', 'jedem', 'dalle', 'dallo', 'estivemos', 'jedes', 'jeder', '\\xd0\\xb2\\xd1\\x81\\xd1\\x8e', 'both', 'c', 'avesti', 'quelli', 'samma', 'samme', 'auriez', '\\xd1\\x81\\xd0\\xb2\\xd0\\xbe\\xd1\\x8e', 'hajamos', 'fummo', 'estuvisteis', '\\xd0\\xbc\\xd0\\xbd\\xd0\\xb5', 'teus', 'whom', 'dus', 'sar\\xc3\\xa0', 'sar\\xc3\\xb2', 'estuvierais', 'fut', 'fus', 'while', 'fue', '\\xd0\\xb5\\xd0\\xb3\\xd0\\xbe', 'fui', 's\\xc3\\xa5dan', 'wollen', 'von', 'voi', 'itself', '\\xd0\\xb8\\xd0\\xbb\\xd0\\xb8', 'vor', 'vos', 'fueron', '\\xd1\\x8d\\xd1\\x82\\xd0\\xb8', 'estes', 'nokon', 'zwar', 'eure', 'estiv\\xc3\\xa9ssemos', '\\xd0\\xb5\\xd1\\x81\\xd0\\xbb\\xd0\\xb8', 'nokor', 'entre', 'f\\xc3\\xb6r', 'star\\xc3\\xa0', 'euer', 'eles', 'hab\\xc3\\xadamos', 'y', 'star\\xc3\\xb2', 'stesse', 'estadas', 'stessi', 'skal', 'mie', 'nuestra', '\\xd0\\xb5\\xd0\\xbc\\xd1\\x83', 'henne', 'nuestro', 'bliver', 'cui', 'bin', 'hennes', 'bij', 'avevano', 'hayan', 'habida', 'hayas', 'bis', 'habido', 'facciamo', 'd', 'houveram', 'een', '\\xd1\\x82\\xd0\\xb0\\xd0\\xba\\xd0\\xbe\\xd0\\xb9', 'mycket', 'estuvi\\xc3\\xa9ramos', 'ihrer', 'm\\xc3\\xada', 'sue', 'm\\xc3\\xado', 'tambi\\xc3\\xa9n', 'ser\\xc3\\xadamos', 'some', 'hinter', 'hubi\\xc3\\xa9ramos', '\\xd0\\xbd\\xd0\\xb8\\xd0\\xba\\xd0\\xbe\\xd0\\xb3\\xd0\\xb4\\xd0\\xb0', '\\xc3\\xa9tant', 'aquele', 'somt', 'aquela', 'voc\\xc3\\xaas', 'tuve', 'terei', 'staremo', 'algunas', 'pelo', 'pela', 'be', 'nello', 'nella', 'nelle', 'weil', '\\xd1\\x82\\xd0\\xb5\\xd0\\xbc', 'by', 'bist', 'fomos', 'saranno', 'inte', 'teniendo', 'into', 'aquilo', 'heeft', 'degli', 'fossero', 'avremmo', 'suis', 'f\\xc3\\xb8r', 'dessa', 'himself', 'kunde', 'seria', 'ut', 'uw', 'up', 'um', 'un', 'sollte', 'ud', 'nogle', '\\xd0\\xb1\\xd1\\x8b\\xd0\\xbb\\xd0\\xb0', '\\xd0\\xb1\\xd1\\x8b\\xd0\\xbb\\xd0\\xbe', '\\xd0\\xb1\\xd1\\x8b\\xd0\\xbb\\xd0\\xb8', 'fu\\xc3\\xa9semos', 'noko', 'elles', 'noka', 's\\xc3\\xa3o', 'wollte', 'habr\\xc3\\xa1', 'nas', 'f\\xc3\\xbbmes', 'siden', 'temos', 'avevo', 'avevi', 'pi\\xc3\\xb9', 'dall', 'starai', 'derselben', 'dos', 'euren', 'eurem', 'agl', 'e', 'muchos', 'having', 'once', 'estar\\xc3\\xadan', 'sitta', 'essas', 'ge', 'estar\\xc3\\xadas', 'stavi', 'stavo', 'stava', '\\xd1\\x87\\xd0\\xb5\\xd0\\xb3\\xd0\\xbe', 'sarei', 'nuestros', 'stiate', 'niets', 'maar', 'yourselves', 'tra', 'starebbero', 'blitt', 'zo', 'est\\xc3\\xa9', 'ze', 'est\\xc3\\xa1', 'zu', '\\xd1\\x81\\xd0\\xb5\\xd0\\xb1\\xd0\\xb5', 'eurent', 'einige', 'indem', 'mitt', 'lei', 'les', 'sind', 'sine', 'sina', 'honom', 'avreste', 'tegen', 'avresti', '\\xd1\\x81\\xd0\\xb5\\xd0\\xb9\\xd1\\x87\\xd0\\xb0\\xd1\\x81', '\\xd0\\xb4\\xd0\\xb0\\xd0\\xb6\\xd0\\xb5', 'wie', 'wil', 'n\\xc3\\xa5r', 'wir', 'zijn', '\\xd0\\xb4\\xd0\\xbb\\xd1\\x8f', 'ser\\xc3\\xa9', 'from', 'che', '\\xd0\\xb2\\xd0\\xb0\\xd0\\xbc', 'chi', 'few', 'estabais', 'themselves', 'zij', 'm\\xc3\\xad', 'estuvieseis', 'vuestro', 'vuestra', 'farebbe', 'hatte', 'this', 'pour', 'meer', 'votre', 'faceste', 'reeds', 'facesti', 'slik', 'zwischen', 'seriam', 'sit', 'sia', 'sig', 'waren', 'cual', 'delas', 'sin', 'hubisteis', 'facevate', '\\xd0\\xb1\\xd1\\x8b\\xd0\\xbb', 'houve', 'isso', 'w\\xc3\\xa4hrend', 'le', 'habr\\xc3\\xa9is', 'la', 'eue', 'lo', 'li', 'demselben', 'eux', 'eut', 'eus', 'sie', 'dal', 'habr\\xc3\\xada', 'dan', 'dai', 'dat', 'doch', 'das', 'stette', 'stetti', 'hossen', 'solches', 'solcher', 'vilken', 'doing', 'mijn', 'fueseis', 'our', 'solchen', 'solchem', 'out', '\\xd1\\x82\\xd0\\xbe\\xd0\\xb3\\xd0\\xb4\\xd0\\xb0', 'tuya', 'tuyo', 'fr\\xc3\\xa5n', 'werden', 'stessero', 'omdat', 'deras', 'b\\xc3\\xa5e', 'fuerais', 'faceva', 'eravamo', 'facevi', 'facevo', 'formos', 'que', 'qui', 'fuimos', '\\xd1\\x81\\xd0\\xb5\\xd0\\xb1\\xd1\\x8f', '\\xd0\\xbc\\xd0\\xb5\\xd0\\xbd\\xd1\\x8f', 'tuvierais', 't\\xc3\\xa9m', '\\xd0\\xb5\\xd1\\x89\\xd0\\xb5', 'furono', 'suya', 'ihn', 'ihm', 'suyo', 'estemos', 'their', 'abbia', 'skulle', 'blivit', 'heb', 'eit', 'quando', 'sj\\xc3\\xb8l', 'ebbero', '\\xd0\\xb2\\xd0\\xb0\\xd1\\x81', 'herself', '\\xd0\\xb5\\xd0\\xb9', 'bei', 'ben', '\\xd0\\xb5\\xd0\\xb5', 'houvemos', 'seinem', 'seinen', 'perch\\xc3\\xa9', 'eusses', 'blir', '\\xd0\\xba\\xd0\\xb0\\xd0\\xba\\xd0\\xb0\\xd1\\x8f', 'n\\xc3\\xa5got', 'seiner', 'seines', 'mij', 'mio', 'min', 'mia', 'fussiez', 'mig', 'isto', 'which', 'seront', 'mis', 'mir', '\\xd1\\x87\\xd1\\x82\\xd0\\xbe\\xd0\\xb1\\xd1\\x8b', 'mit', 'serons', 'teria', 'who', 'detta', 'estivera', 'mange', 'sedan', 'why', 'medan', 'est\\xc3\\xa1s', 'con', 'est\\xc3\\xa1n', 'denn', 's\\xc3\\xa5dant', 'hj\\xc3\\xa5', 'weiter', 'niet', 'soyez', 'moet', 'hade', 'should', 'forem', '\\xd0\\xb2\\xd0\\xb5\\xd0\\xb4\\xd1\\x8c', 'ayez', '\\xc3\\xaates', 'ter\\xc3\\xadamos', 'deine', 'avete', '\\xd1\\x82\\xd0\\xb0\\xd0\\xba', 'wordt', 'tendr\\xc3\\xa9', 'viel', 'keiner', 'keines', 'tendr\\xc3\\xa1', 'she', 'keinem', 'k\\xc3\\xb6nnte', 'aquelas', 'miei', 'sehr', 'facciano', 'tuvieron', 'nossas', 'lui', 'm\\xc3\\xaame', 'haja', 'faremo', 'd\\xc3\\xa4r', 'avuti', 'avuto', 'avuta', 'avute', 'houvessem', 'teng\\xc3\\xa1is', 'ci', 'ce', 'blive', 'tiene', 'farai', 'ai', 'tenidos', 'estava', 'meus', 'siamo', 'an', '\\xd0\\xba\\xd0\\xbe\\xd0\\xbd\\xd0\\xb5\\xd1\\x87\\xd0\\xbd\\xd0\\xbe', 'estuvimos', 'facessero', 'hubo', 'tengo', 'hube', 'will', 'saremmo', 'au', 'vilkas', 'at', 'vi', 'mesmo', 'welche', 'nada', 'coi', 'essendo', 'estejamos', 'ter\\xc3\\xa3o', 'estado', 'sugli', 'off', 'i', 'avevate', 'at\\xc3\\xa9', 'habr\\xc3\\xadan', 'habr\\xc3\\xadas', 'j\\xc3\\xa1', 'weg', 'houvermos', 'disse', 'utan', 'dess', 'ayant', 'houvesse', 'hubimos', '\\xd0\\xba\\xd0\\xb0\\xd0\\xba', '\\xd0\\xbf\\xd0\\xbe\\xd1\\x87\\xd1\\x82\\xd0\\xb8', 'teremos', 'because', 'otras', 'est', 'dagl', 'fanno', 'doen', 'ese', 'does', 'esa', 'eso', '\\xd0\\xb2', '\\xd0\\xb0', '\\xd0\\xb6', '\\xd0\\xba', '\\xd0\\xba\\xd0\\xbe\\xd0\\xb3\\xd0\\xb4\\xd0\\xb0', '\\xd0\\xb8', '\\xd0\\xbe', 'fordi', 'ayons', 'm\\xc3\\xados', 'hoss', 'about', 'anden', 'onder', 'ander', 'hier', 'einig', 'kann', 'own', 'stanno', 'donde', 'eine', 'van', 'eens', 'ayantes', 'vad', 'quante', 'eussions', 'quanta', 'var', 'estiv\\xc3\\xa9ramos', 'quanto', 'quanti', 'faranno', 'but', 'ho', 'ha', 'he', '\\xd0\\xb4\\xd0\\xb0', 'dagli', 'j', '\\xd0\\xb4\\xd0\\xbe', 'below', 'sein', 'hvad', 'vuestros', 'ins', 'vostri', 'inn', 'vostro', 'ind', 'vostra', 'vostre', 'deires', 'siano', 'other', 'seus', 'sich', 'sarete', 'agli', 'hubieron', 'habr\\xc3\\xadamos', '\\xd1\\x81\\xd0\\xb0\\xd0\\xbc', 'tamb\\xc3\\xa9m', 'stai', 'vuestras', '\\xd1\\x85\\xd0\\xbe\\xd1\\x80\\xd0\\xbe\\xd1\\x88\\xd0\\xbe', 'hab\\xc3\\xadais'])\n"
       ]
      }
     ],
     "prompt_number": 34
    },
    {
     "cell_type": "markdown",
     "metadata": {},
     "source": [
      "#Text Corpus:\n",
      "The text corpus used for the demo is contained in a file with lines of text separated by carriage returns. Each line of text is it's own document. We will use the entire text corpus as our training set to build the dictionary and then remove stopwords; however, the dictionary need not be built from the entire text corpus if a smaller set of documents is sufficient. "
     ]
    },
    {
     "cell_type": "code",
     "collapsed": false,
     "input": [
      "with open('text_corpus.txt', 'r') as f:\n",
      "    documents=[]\n",
      "    for line in f.readlines():\n",
      "        documents.append(line.strip())\n",
      "print documents    "
     ],
     "language": "python",
     "metadata": {},
     "outputs": [
      {
       "output_type": "stream",
       "stream": "stdout",
       "text": [
        "['Human machine interface for lab abc computer applications', 'A survey of user opinion of computer system response time', 'The EPS user interface management system', 'System and human system engineering testing of EPS', 'Relation of user perceived response time to error measurement', 'The generation of random binary unordered trees', 'The intersection graph of paths in trees', 'Graph minors IV Widths of trees and well quasi ordering', 'Graph minors A survey']\n"
       ]
      }
     ],
     "prompt_number": 35
    },
    {
     "cell_type": "markdown",
     "metadata": {},
     "source": [
      "#Dictionary:\n",
      "Next, we'll create a dictionary from the tokens in the entire text corpus. We're splitting the documents on white space for this demo; however, we'll use regex in later. We'll then remove stopwords and tokens that only appear once in the entire text corpus."
     ]
    },
    {
     "cell_type": "code",
     "collapsed": false,
     "input": [
      "from gensim import corpora, models, similarities\n",
      "import logging\n",
      "logging.basicConfig(format='%(asctime)s : %(levelname)s : %(message)s', level=logging.INFO, filename=\"./log/topic-log\")\n",
      "logr = logging.getLogger(\"topic_model\")\n",
      "logr.info(\"#\"*15 + \" started \" + \"#\"*15)\n",
      "\n",
      "print \"Dictionary (full text corpus):\"\n",
      "dictionary = corpora.Dictionary(line.lower().split() for line in open('text_corpus.txt'))\n",
      "print dictionary\n",
      "print (dictionary.token2id)\n",
      "\n",
      "print\n",
      "\n",
      "print \"Dictionary (removed stopwords and once-ids):\"\n",
      "stop_ids = [dictionary.token2id[stopword] for stopword in stop_words_set if stopword in dictionary.token2id]\n",
      "\n",
      "once_ids = [tokenid for tokenid, corpus_freq in dictionary.dfs.iteritems() if corpus_freq == 1]\n",
      "#remove stop_ids,\"+\",once_ids\n",
      "dictionary.filter_tokens(bad_ids=stop_ids + once_ids,good_ids=None)\n",
      "## consider: dictionary.filter_extremes(no_below=2) \n",
      "dictionary.compactify()\n",
      "print dictionary\n",
      "print (dictionary.token2id)\n"
     ],
     "language": "python",
     "metadata": {},
     "outputs": [
      {
       "output_type": "stream",
       "stream": "stdout",
       "text": [
        "Dictionary (full text corpus):\n",
        "Dictionary(42 unique tokens: ['and', 'minors', 'generation', 'testing', 'iv']...)\n",
        "{'and': 19, 'minors': 37, 'generation': 28, 'testing': 21, 'iv': 36, 'engineering': 20, 'computer': 2, 'relation': 25, 'human': 4, 'measurement': 23, 'unordered': 31, 'binary': 27, 'abc': 0, 'for': 3, 'ordering': 38, 'graph': 32, 'widths': 41, 'system': 13, 'machine': 7, 'to': 26, 'quasi': 39, 'random': 29, 'paths': 35, 'error': 22, 'trees': 30, 'lab': 6, 'applications': 1, 'management': 17, 'user': 15, 'interface': 5, 'intersection': 34, 'response': 11, 'a': 8, 'perceived': 24, 'in': 33, 'of': 9, 'well': 40, 'eps': 16, 'survey': 12, 'time': 14, 'opinion': 10, 'the': 18}\n",
        "\n",
        "Dictionary (removed stopwords and once-ids):\n",
        "Dictionary(12 unique tokens: ['minors', 'graph', 'system', 'trees', 'eps']...)\n",
        "{'minors': 0, 'graph': 1, 'system': 2, 'trees': 3, 'eps': 4, 'computer': 5, 'survey': 6, 'user': 7, 'human': 8, 'time': 9, 'interface': 10, 'response': 11}\n"
       ]
      }
     ],
     "prompt_number": 36
    },
    {
     "cell_type": "markdown",
     "metadata": {},
     "source": [
      "We can also **add documents dynamically**, which is a huge advantage for real time data! Notice how the dictionary starts with 12 unique tokens (above) and ends with 25 tokens (below). Also note that we must add a list of lists such that docs=[[doc1],[doc2]...] where doc1 and doc2 are tokenized strings. "
     ]
    },
    {
     "cell_type": "code",
     "collapsed": false,
     "input": [
      "import copy\n",
      "print \"Add documents to dictionary dynamically:\"\n",
      "print \"doc to add = \\\"Pooh bear says, 'People say nothing is impossible, but I do nothing every day.'\\\"\"\n",
      "print\n",
      "print \"doc tokenized =\",[item for item in \"Pooh bear says 'People say nothing is impossible, but I do nothing every day.'\".lower().split() if item not in stop_ids]\n",
      "print\n",
      "\n",
      "docs=[[item for item in \"Pooh bear says, 'People say nothing is impossible, but I do nothing every day.'\".lower().split() if item not in stop_ids]]\n",
      "d=copy.deepcopy(dictionary)\n",
      "d.add_documents(docs)\n",
      "\n",
      "d.compactify()\n",
      "\n",
      "print \"#NOTE: since we were only splitting on space, the punctuation is included.\"\n",
      "print\n",
      "print d\n",
      "print d.token2id\n",
      "\n",
      "\n"
     ],
     "language": "python",
     "metadata": {},
     "outputs": [
      {
       "output_type": "stream",
       "stream": "stdout",
       "text": [
        "Add documents to dictionary dynamically:\n",
        "doc to add = \"Pooh bear says, 'People say nothing is impossible, but I do nothing every day.'\"\n",
        "\n",
        "doc tokenized = ['pooh', 'bear', 'says', \"'people\", 'say', 'nothing', 'is', 'impossible,', 'but', 'i', 'do', 'nothing', 'every', \"day.'\"]\n",
        "\n",
        "#NOTE: since we were only splitting on space, the punctuation is included.\n",
        "\n",
        "Dictionary(25 unique tokens: ['minors', 'is', 'bear', \"'people\", 'interface']...)\n",
        "{'minors': 0, 'is': 1, 'bear': 13, \"'people\": 2, 'interface': 3, 'say': 4, 'computer': 5, 'human': 6, 'says,': 7, 'system': 10, \"day.'\": 11, 'do': 12, 'time': 23, 'trees': 15, 'every': 14, 'but': 8, 'nothing': 16, 'pooh': 17, 'response': 18, 'impossible,': 19, 'i': 20, 'eps': 21, 'survey': 22, 'graph': 9, 'user': 24}\n"
       ]
      }
     ],
     "prompt_number": 37
    },
    {
     "cell_type": "markdown",
     "metadata": {},
     "source": [
      "#Vectorize:\n",
      "Essentially a word frequency for each document is created in this step. Each document in the text corpus will be transformed into list of tuples \n",
      "[[(token_id , doc_freq),(token_id , doc_freq),(token_id , doc_freq)] , [(token_id , doc_freq),(token_id , doc_freq)]...]. We must iterate through the text corpus to create this set.\n"
     ]
    },
    {
     "cell_type": "code",
     "collapsed": false,
     "input": [
      "import pprint as pp\n",
      "\n",
      "vector_corpus=[]\n",
      "with open('text_corpus.txt', 'r') as f:\n",
      "    for line in f.readlines():\n",
      "        vector_corpus.append(dictionary.doc2bow(line.lower().split()))\n",
      "\n",
      "print \"Vector corpus:\"\n",
      "pp.pprint(vector_corpus)\n",
      "counter=0\n",
      "print dictionary\n",
      "\n",
      "# save to disk\n",
      "corpora.MmCorpus.serialize('vector_corpus.mm', vector_corpus)\n",
      "serialized_corpus = corpora.MmCorpus('vector_corpus.mm')\n",
      "print serialized_corpus"
     ],
     "language": "python",
     "metadata": {},
     "outputs": [
      {
       "output_type": "stream",
       "stream": "stdout",
       "text": [
        "Vector corpus:\n",
        "[[(5, 1), (8, 1), (10, 1)],\n",
        " [(2, 1), (5, 1), (6, 1), (7, 1), (9, 1), (11, 1)],\n",
        " [(2, 1), (4, 1), (7, 1), (10, 1)],\n",
        " [(2, 2), (4, 1), (8, 1)],\n",
        " [(7, 1), (9, 1), (11, 1)],\n",
        " [(3, 1)],\n",
        " [(1, 1), (3, 1)],\n",
        " [(0, 1), (1, 1), (3, 1)],\n",
        " [(0, 1), (1, 1), (6, 1)]]\n",
        "Dictionary(12 unique tokens: ['minors', 'graph', 'system', 'trees', 'eps']...)\n",
        "MmCorpus(9 documents, 12 features, 28 non-zero entries)\n"
       ]
      }
     ],
     "prompt_number": 38
    },
    {
     "cell_type": "markdown",
     "metadata": {},
     "source": [
      "# [TfIdf](http://radimrehurek.com/gensim/models/tfidfmodel.html):\n",
      "The TfIdf, term frequency inverse document frequency, is a numerical statistic that is intended to reflect how important a word is to a document in a collection or corpus. The TfIdf value increases proportionally to the number of times a word appears in the document, but is offset by the frequency of the word in the corpus, which helps to control for the fact that some words are generally more common than others. \n",
      "\n",
      "To train a model using TfIdf, you first need to go through the corpus once and copute doc frequencies, which we already did above.  \n",
      "\n",
      "Typically, the TfIdf weight is composed by two terms: the first computes the normalized term frequency, which is the number of times a word appears in a document, divided by the total number of words in that document; the second term is the inverse document frequency (idf), computed as the logarithm of the number of the documents in the corpus divided by the number of documents where the specific term appears.\n",
      "\n",
      "$$TfIdf = {token\\ frequency\\ in\\ doc} * \\ln(\\frac{total\\ docs\\ in\\ corpus}{total\\ docs\\ w/\\ token})$$\n",
      "\n",
      "Tf: Term Frequency, which measures how frequently a term occurs in a document. Since every document is different in length, it is possible that a term would appear much more times in long documents than shorter ones. Thus, the term frequency is often divided by the document length (aka. the total number of terms in the document) as a way of normalization.\n",
      "\n",
      "\n",
      "Idf: Inverse Document Frequency, which measures how important a term is. While computing Tf, all terms are considered equally important. However it is known that certain terms, such as \"is\", \"of\", and \"that\", may appear a lot of times but have little importance. Thus we need to weigh down the frequent terms while scale up the rare ones, by computing the following: \n"
     ]
    },
    {
     "cell_type": "code",
     "collapsed": false,
     "input": [
      "from gensim import corpora, models, similarities\n",
      "tfidf = models.TfidfModel(vector_corpus, normalize=False) # trains the model \n",
      "print tfidf\n",
      "corpus_tfidf=tfidf[vector_corpus]\n",
      "for doc in corpus_tfidf:\n",
      "    print doc\n",
      "#   tfidf = (<normalized> term frequency)                                     * (inverse document frequency) \n",
      "\n",
      "#   tfidf = (# of instances of word in single doc / # of words in single doc) * ln(# of total documents / # of docs in which word appears) = tfidf\n",
      "\n",
      "#   the tfidf matrix can be used to convert any vector ( uniq id, count per doc ) to ( uniq id, tfidf score )\n"
     ],
     "language": "python",
     "metadata": {},
     "outputs": [
      {
       "output_type": "stream",
       "stream": "stdout",
       "text": [
        "TfidfModel(num_docs=9, num_nnz=28)\n",
        "[(5, 2.1699250014423126), (8, 2.1699250014423126), (10, 2.1699250014423126)]\n",
        "[(2, 1.5849625007211563), (5, 2.1699250014423126), (6, 2.1699250014423126), (7, 1.5849625007211563), (9, 2.1699250014423126), (11, 2.1699250014423126)]\n",
        "[(2, 1.5849625007211563), (4, 2.1699250014423126), (7, 1.5849625007211563), (10, 2.1699250014423126)]\n",
        "[(2, 3.1699250014423126), (4, 2.1699250014423126), (8, 2.1699250014423126)]\n",
        "[(7, 1.5849625007211563), (9, 2.1699250014423126), (11, 2.1699250014423126)]\n",
        "[(3, 1.5849625007211563)]\n",
        "[(1, 1.5849625007211563), (3, 1.5849625007211563)]\n",
        "[(0, 2.1699250014423126), (1, 1.5849625007211563), (3, 1.5849625007211563)]\n",
        "[(0, 2.1699250014423126), (1, 1.5849625007211563), (6, 2.1699250014423126)]\n"
       ]
      }
     ],
     "prompt_number": 39
    },
    {
     "cell_type": "markdown",
     "metadata": {},
     "source": [
      "#Latent Dirichlet Allocation vs Latent Semantic Indexing ---improve explanation---\n",
      "\n",
      "Inerteresting perspective: [link](http://stats.stackexchange.com/questions/32310/topic-models-and-word-co-occurrence-methods)\n",
      "\n",
      "\"I will just describe four milestones/popular models and their advantages/disadvantages and thus highlight (some of) the main differences (or at least what I think are the main/most important differences).\n",
      "\n",
      "The \"easiest\" approach, which would be to cluster the documents by matching them against a predefined query of terms (as in PMI). These lexical matching methods however might be inaccurate due to polysemy (multiple meanings) and synonymy (multiple words that have similar meanings) of single terms.\n",
      "\n",
      "As a remedy, latent semantic indexing (LSI) tries to overcome this by mapping terms and documents into a latent semantic space via a singular value decomposition. The LSI results are more robust indicators of meaning than individual terms would be. However, one drawback of LSI is that it lacks in terms of solid probabilistic foundation.\n",
      "\n",
      "This was partly solved by the invention of probabilistic LSI (pLSI). In pLSI models each word in a document is drawn from a mixture model specified via multinomial random variables (which also allows higher-order co-occurences as @sviatoslav hong mentioned). This was an important step forward in probabilistic text modeling, but was incomplete in the sense that it offers no probabilistic structure at the level of documents.\n",
      "\n",
      "Latent Dirichlet Allocation (LDA) alleviates this and was the first fully probabilistic model for text clustering. Blei et al. (2003) show that pLSI is a maximum a-posteriori estimated LDA model under a uniform Dirichlet prior.\n",
      "\n",
      "Note that the models mentioned above (LSI, pLSI, LDA) have in common that they are based on the \u201cbag-of-words\u201d assumption - i.e. that within a document, words are exchangeable, i.e. the order of words in a document can be neglected. This assumption of exchangeability offers a further justification for LDA over the other approaches: Assuming that not only words within documents are exchangeable, but also documents, i.e., the order of documents within a corpus can be neglected, De Finetti's theorem states that any set of exchangeable random variables has a representation as a mixture distribution. Thus if exchangeability for documents and words within documents is assumed, a mixture model for both is needed. Exactly this is what LDA generally achieves but PMI or LSI do not (and even pLSI not as beautiful as LDA).\"\n",
      "\n",
      "\\----\n",
      "\n",
      "The LSI process transforms documents from TfIdf-weighted space into a latent space of a lower dimensionality.\n",
      "\n",
      "LDA can be explained using plate notation. The boxes are \u201cplates\u201d representing replicates. The outer plate represents documents, while the inner plate represents the repeated choice of topics and words within a document. \n",
      "* M denotes the number of documents\n",
      "* N the number of words in a document\n",
      "* \u03b1 is the parameter of the Dirichlet prior on the per-document topic distributions\n",
      "* \u03b2 is the parameter of the Dirichlet prior on the per-topic word distribution\n",
      "* $\\theta_i$ is the topic distribution for document i\n",
      "* $\\phi_k$is the word distribution for topic k\n",
      "* z_{ij} is the topic for the jth word in document i\n",
      "* w_{ij} is the specific word.\n",
      "<img src=\"files/image.png\">\n",
      "\n"
     ]
    },
    {
     "cell_type": "code",
     "collapsed": false,
     "input": [
      "from itertools import *\n",
      "number_of_clusters=3\n",
      "lsi = models.LsiModel(corpus_tfidf, id2word=dictionary, num_topics=number_of_clusters) # initialize an LSI transformation\n",
      "lda = models.ldamodel.LdaModel(corpus_tfidf, id2word=dictionary, num_topics=number_of_clusters,\\\n",
      "                               update_every=1, chunksize=10000, passes=1)\n",
      "corpus_lsi = lsi[corpus_tfidf] # create a double wrapper over the original corpus: bow->tfidf->fold-in-lsi\n",
      "corpus_lda = lda[corpus_tfidf] \n",
      "# for item in corpus_lsi:\n",
      "#    print (item)\n",
      "print \"-\"*10+\"LDA\"+\"-\"*10\n",
      "t=0\n",
      "for item in lda.print_topics(number_of_clusters):\n",
      "    t+=1\n",
      "    print \"topic#{0}: {1}\".format(t,item)\n",
      "print\n",
      "for item in corpus_lda:\n",
      "    print item\n",
      "    #print lsi.show_topics()\n",
      "#print lsi.print_topic(0,topn=1)\n",
      "# save to disk\n",
      "#print lsi.projection.s\n",
      "#lsi.save('corpus_lsi.lsi')\n",
      "#lsi=models.LsiModel.load\n",
      "print \n",
      "print \n",
      "#models.lsimodel.clip_spectrum(0.1,4,discard=0.001)\n",
      "\n",
      "# Find the threshold, let's set the threshold to be 1/#clusters,\n",
      "# To prove that the threshold is sane, we average the sum of all probabilities:\n",
      "scores = list(chain(*[[score for topic,score in topic] \\\n",
      "                      for topic in [doc for doc in corpus_lda]]))\n",
      "threshold = sum(scores)/len(scores)\n",
      "print \"threshold:\",threshold\n",
      "print\n",
      "cluster1 = [j for i,j in zip(corpus_lda,documents) if i[0][1] > threshold]\n",
      "cluster2 = [j for i,j in zip(corpus_lda,documents) if i[1][1] > threshold]\n",
      "cluster3 = [j for i,j in zip(corpus_lda,documents) if i[2][1] > threshold]\n",
      "\n",
      "print \"topic#1: {0}\".format(cluster1)\n",
      "print \"topic#2: {0}\".format(cluster2)\n",
      "print \"topic#3: {0}\".format(cluster3)\n",
      "\n",
      "print \n",
      "print\n",
      "print \"-\"*10+\"LSI\"+\"-\"*10\n",
      "t=0\n",
      "for item in lsi.print_topics(number_of_clusters):\n",
      "    t+=1\n",
      "    print \"topic#{0}: {1}\".format(t,item)\n",
      "print\n",
      "\n",
      "for item in corpus_lsi:\n",
      "    print item\n",
      "    #print lsi.show_topics()\n",
      "#print lsi.print_topic(0,topn=1)\n",
      "# save to disk\n",
      "#print lsi.projection.s\n",
      "#lsi.save('corpus_lsi.lsi')\n",
      "#lsi=models.LsiModel.load\n",
      "print \n",
      "print \n",
      "#models.lsimodel.clip_spectrum(0.1,4,discard=0.001)\n",
      "\n",
      "# Find the threshold, let's set the threshold to be 1/#clusters,\n",
      "# To prove that the threshold is sane, we average the sum of all probabilities:\n",
      "scores = list(chain(*[[score for topic,score in topic] \\\n",
      "                      for topic in [doc for doc in corpus_lsi]]))\n",
      "threshold = sum(scores)/len(scores)\n",
      "print \"threshold:\",threshold\n",
      "print\n",
      "\n",
      "cluster1 = [j for i,j in zip(corpus_lsi,documents) if i[0][1] > threshold]\n",
      "cluster2 = [j for i,j in zip(corpus_lsi,documents) if i[1][1] > threshold]\n",
      "cluster3 = [j for i,j in zip(corpus_lsi,documents) if i[2][1] > threshold]\n",
      "\n",
      "print \"topic#1: {0}\".format(cluster1)\n",
      "print \"topic#2: {0}\".format(cluster2)\n",
      "print \"topic#3: {0}\".format(cluster3)\n",
      "\n",
      "\n"
     ],
     "language": "python",
     "metadata": {},
     "outputs": [
      {
       "output_type": "stream",
       "stream": "stdout",
       "text": [
        "----------LDA----------\n",
        "topic#1: 0.252*system + 0.236*eps + 0.135*interface + 0.116*human + 0.103*user + 0.027*graph + 0.027*trees + 0.023*minors + 0.021*time + 0.021*computer\n",
        "topic#2: 0.201*response + 0.200*time + 0.151*user + 0.109*survey + 0.109*computer + 0.099*system + 0.032*human + 0.026*eps + 0.019*trees + 0.019*graph\n",
        "topic#3: 0.186*trees + 0.186*graph + 0.174*minors + 0.095*computer + 0.095*human + 0.095*interface + 0.095*survey + 0.015*system + 0.015*user + 0.015*eps\n",
        "\n",
        "[(0, 0.054402815432131067), (1, 0.047910312824424907), (2, 0.89768687174344397)]\n",
        "[(0, 0.028122547863476937), (1, 0.94459729138935711), (2, 0.027280160747166018)]\n",
        "[(0, 0.91745801301542718), (1, 0.042124185796879987), (2, 0.040417801187692712)]\n",
        "[(0, 0.91896107118194648), (1, 0.040358114344084761), (2, 0.040680814473968721)]\n",
        "[(0, 0.049383971748397579), (1, 0.90238044539362317), (2, 0.048235582857979402)]\n",
        "[(0, 0.12978652317784997), (1, 0.12944220896386344), (2, 0.74077126785828662)]\n",
        "[(0, 0.080446315634063417), (1, 0.08022748369236278), (2, 0.83932620067357389)]\n",
        "[(0, 0.052867384471641396), (1, 0.052747565525222993), (2, 0.89438505000313551)]\n",
        "[(0, 0.048405772713971985), (1, 0.051731388675710012), (2, 0.89986283861031802)]\n",
        "\n",
        "\n",
        "threshold: 0.333333333333\n",
        "\n",
        "topic#1: ['The EPS user interface management system', 'System and human system engineering testing of EPS']\n",
        "topic#2: ['A survey of user opinion of computer system response time', 'Relation of user perceived response time to error measurement']\n",
        "topic#3: ['Human machine interface for lab abc computer applications', 'The generation of random binary unordered trees', 'The intersection graph of paths in trees', 'Graph minors IV Widths of trees and well quasi ordering', 'Graph minors A survey']\n",
        "\n",
        "\n",
        "----------LSI----------\n",
        "topic#1: 0.492*\"system\" + 0.354*\"user\" + 0.346*\"response\" + 0.346*\"time\" + 0.330*\"computer\" + 0.291*\"eps\" + 0.275*\"survey\" + 0.251*\"human\" + 0.237*\"interface\" + 0.056*\"minors\"\n",
        "topic#2: 0.416*\"eps\" + -0.358*\"response\" + -0.358*\"time\" + 0.357*\"human\" + 0.344*\"system\" + -0.339*\"survey\" + 0.270*\"interface\" + -0.234*\"minors\" + -0.204*\"graph\" + -0.141*\"user\"\n",
        "topic#3: 0.578*\"minors\" + 0.542*\"graph\" + 0.390*\"trees\" + -0.240*\"time\" + -0.240*\"response\" + 0.177*\"survey\" + -0.147*\"user\" + 0.133*\"eps\" + 0.123*\"human\" + 0.094*\"system\"\n",
        "\n",
        "[(0, 1.7749922000739047), (1, 1.1658330550360358), (2, 0.26161676280169782)]\n",
        "[(0, 4.1546387674380281), (1, -2.1630217260059972), (2, -0.89693996418229294)]\n",
        "[(0, 2.4855580181362509), (1, 1.8110848166090907), (2, 0.3499588555143805)]\n",
        "[(0, 2.7353095278131998), (1, 2.7692408916172861), (2, 0.85224575352267551)]\n",
        "[(0, 2.0617511114032494), (1, -1.7771323725988322), (2, -1.2769706441323847)]\n",
        "[(0, 0.020856322170121903), (1, -0.17712476708011146), (2, 0.61800670078615683)]\n",
        "[(0, 0.091111409076150368), (1, -0.50016430878689599), (2, 1.4767560776464985)]\n",
        "[(0, 0.21179312789739135), (1, -1.0070700233341243), (2, 2.7319490406858278)]\n",
        "[(0, 0.78769269826160959), (1, -1.5646940065595343), (2, 2.4982379644525925)]\n",
        "\n",
        "\n",
        "threshold: 0.722056121787\n",
        "\n",
        "topic#1: ['Human machine interface for lab abc computer applications', 'A survey of user opinion of computer system response time', 'The EPS user interface management system', 'System and human system engineering testing of EPS', 'Relation of user perceived response time to error measurement', 'Graph minors A survey']\n",
        "topic#2: ['Human machine interface for lab abc computer applications', 'The EPS user interface management system', 'System and human system engineering testing of EPS']\n",
        "topic#3: ['System and human system engineering testing of EPS', 'The intersection graph of paths in trees', 'Graph minors IV Widths of trees and well quasi ordering', 'Graph minors A survey']\n"
       ]
      }
     ],
     "prompt_number": 40
    },
    {
     "cell_type": "code",
     "collapsed": false,
     "input": [
      "\n",
      "\n",
      "#play space\n",
      "\n"
     ],
     "language": "python",
     "metadata": {},
     "outputs": [],
     "prompt_number": 41
    },
    {
     "cell_type": "markdown",
     "metadata": {},
     "source": [
      "#LDA\n",
      "<img src=\"files/table.png\">"
     ]
    },
    {
     "cell_type": "markdown",
     "metadata": {},
     "source": [
      "Inerteresting perspective: [link](http://stackoverflow.com/questions/10628262/inserting-image-into-ipython-notebook-markdown)\n",
      "\n",
      "Recently, a huge body of literature discussing how to extract information from written text has grown. Hence I will just describe four milestones/popular models and their advantages/disadvantages and thus highlight (some of) the main differences (or at least what I think are the main/most important differences).\n",
      "\n",
      "You mention the \"easiest\" approach, which would be to cluster the documents by matching them against a predefined query of terms (as in PMI). These lexical matching methods however might be inaccurate due to polysemy (multiple meanings) and synonymy (multiple words that have similar meanings) of single terms.\n",
      "\n",
      "As a remedy, latent semantic indexing (LSI) tries to overcome this by mapping terms and documents into a latent semantic space via a singular value decomposition. The LSI results are more robust indicators of meaning than individual terms would be. However, one drawback of LSI is that it lacks in terms of solid probabilistic foundation.\n",
      "\n",
      "This was partly solved by the invention of probabilistic LSI (pLSI). In pLSI models each word in a document is drawn from a mixture model specified via multinomial random variables (which also allows higher-order co-occurences as @sviatoslav hong mentioned). This was an important step forward in probabilistic text modeling, but was incomplete in the sense that it offers no probabilistic structure at the level of documents.\n",
      "\n",
      "Latent Dirichlet Allocation (LDA) alleviates this and was the first fully probabilistic model for text clustering. Blei et al. (2003) show that pLSI is a maximum a-posteriori estimated LDA model under a uniform Dirichlet prior.\n",
      "\n",
      "Note that the models mentioned above (LSI, pLSI, LDA) have in common that they are based on the \u201cbag-of-words\u201d assumption - i.e. that within a document, words are exchangeable, i.e. the order of words in a document can be neglected. This assumption of exchangeability offers a further justification for LDA over the other approaches: Assuming that not only words within documents are exchangeable, but also documents, i.e., the order of documents within a corpus can be neglected, De Finetti's theorem states that any set of exchangeable random variables has a representation as a mixture distribution. Thus if exchangeability for documents and words within documents is assumed, a mixture model for both is needed. Exactly this is what LDA generally achieves but PMI or LSI do not (and even pLSI not as beautiful as LDA)."
     ]
    }
   ],
   "metadata": {}
  }
 ]
}